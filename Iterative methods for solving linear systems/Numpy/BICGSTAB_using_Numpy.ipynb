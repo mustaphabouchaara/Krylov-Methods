{
  "nbformat": 4,
  "nbformat_minor": 0,
  "metadata": {
    "colab": {
      "name": "The_BICGSTAB_Benchmark.ipynb",
      "provenance": [],
      "collapsed_sections": []
    },
    "kernelspec": {
      "display_name": "Python 3",
      "name": "python3"
    },
    "language_info": {
      "name": "python"
    }
  },
  "cells": [
    {
      "cell_type": "code",
      "metadata": {
        "id": "fnlNPW3fd_Z8"
      },
      "source": [
        "from scipy.sparse.linalg import bicgstab\n",
        "import numpy as np\n",
        "from numpy import linalg as lg\n",
        "from scipy.io import mmread\n",
        "from tabulate import tabulate\n",
        "from time import time\n",
        "\n",
        "A1=np.array(mmread('/content/bcsstk01.mtx.gz').todense())\n",
        "#A1.shape=(48,46) Non symmetrique\n",
        "A2=np.array(mmread('/content/impcol_c.mtx.gz').todense())\n",
        "#A2.shape=(137,137) Non symmetrique\n",
        "A3=np.array(mmread('/content/impcol_a.mtx.gz').todense())\n",
        "#A3.shape=(207,207) Non symmetrique\n",
        "A4=np.array(mmread('/content/mcca.mtx.gz').todense())\n",
        "#A4.shape=(180, 180) Non symmetrique\n",
        "A5=np.array(mmread('/content/bcsstm24.mtx.gz').todense())\n",
        "#A5.shape=(3562,3562) Symmetrique definie positive\n",
        "A6=np.array(mmread('/content/bcsstm19.mtx.gz').todense())\n",
        "#A6.shape=(817,817) Symmetrique definie positive\n",
        "\n",
        "B1=np.array(mmread('/content/bcsstk14.mtx.gz').todense())             \n",
        "# B1.shape=(1806, 1806) real symmetric positive definite\n",
        "B3=np.array(mmread('/content/bcsstm20.mtx.gz').todense())\n",
        "# B3.shape=(485,485) real symmetric positive definite\n",
        "B4=np.array(mmread('/content/bcsstm24.mtx.gz').todense())\n",
        "B5=np.array(mmread('/content/bcsstm21.mtx.gz').todense())\n",
        "B6=np.array(mmread('/content/bcsstk16.mtx.gz').todense())\n",
        "B7=np.array(mmread('/content/bcsstk17.mtx.gz').todense())\n",
        "B8=np.array(mmread('/content/bcsstk18.mtx.gz').todense())\n",
        "B9=np.array(mmread('/content/bcsstm22.mtx.gz').todense())\n",
        "B10=np.array(mmread('/content/bcsstk27.mtx.gz').todense())\n",
        "B11=np.array(mmread('/content/bcsstm26.mtx.gz').todense())\n",
        "\n",
        "C1=np.array(mmread('/content/west0067.mtx.gz').todense())              \n",
        "C2=np.array(mmread('/content/jpwh_991.mtx.gz').todense())\n",
        "C3=np.array(mmread('/content/impcol_a.mtx.gz').todense())\n",
        "C4=np.array(mmread('/content/impcol_e.mtx.gz').todense())\n",
        "C5=np.array(mmread('/content/sherman4.mtx.gz').todense())\n",
        "C6=np.array(mmread('/content/orsreg_1.mtx.gz').todense())\n",
        "C7=np.array(mmread('/content/orsirr_1.mtx.gz').todense())\n",
        "C8=np.array(mmread('/content/add20.mtx.gz').todense())\n",
        "C9=np.array(mmread('/content/gre__185.mtx.gz').todense())\n",
        "C10=np.array(mmread('/content/fs_680_3.mtx.gz').todense())\n",
        "C11=np.array(mmread('/content/fs_680_2.mtx.gz').todense())\n",
        "C12=np.array(mmread('/content/west0381.mtx.gz').todense())\n",
        "C13=np.array(mmread('/content/e05r0200.mtx.gz').todense())"
      ],
      "execution_count": 2,
      "outputs": []
    },
    {
      "cell_type": "markdown",
      "metadata": {
        "id": "AcoYHBLmlqJ4"
      },
      "source": [
        "#**BICGSTAB  Method**\n",
        "\n",
        "\n",
        "\n"
      ]
    },
    {
      "cell_type": "code",
      "metadata": {
        "id": "cDFG-3M08Q--"
      },
      "source": [
        "\n",
        "def BICGSTAB(A,b,x0,tol,maxiter):\n",
        "  r0=b-np.dot(A,x0)\n",
        "  rt=r0/(lg.norm(r0)*lg.norm(r0))\n",
        "  \n",
        "  p0=r0\n",
        "  for i in range(maxiter):\n",
        "    alpha=np.dot(r0,rt)/np.dot(np.dot(A,p0),rt)\n",
        "    s0=r0-alpha*np.dot(A,p0)\n",
        "    w0=np.dot(np.dot(A,s0),s0)/np.dot(np.dot(A,s0),np.dot(A,s0))\n",
        "    x0=x0+alpha*p0+np.dot(w0,s0)\n",
        "    r1=s0-np.dot(w0,np.dot(A,s0))\n",
        "    beta=(np.dot(r1,rt)/np.dot(r0,rt))*(alpha/w0)\n",
        "    p0=r1+beta*(p0-np.dot(w0,np.dot(A,p0)))\n",
        "    r0=r1\n",
        "    if lg.norm(r1)<tol:\n",
        "      break\n",
        "  return x0,i+1\n",
        "\n",
        "def bicgstab_iter(A, b,x0,tol,maxiter):\n",
        "    num_iters = 0\n",
        "\n",
        "    def callback(xk):\n",
        "        nonlocal num_iters\n",
        "        num_iters += 1\n",
        "    return bicgstab(A, b, callback=callback,tol = tol,maxiter=maxiter,x0=x0)[0],num_iters"
      ],
      "execution_count": 3,
      "outputs": []
    },
    {
      "cell_type": "markdown",
      "metadata": {
        "id": "2_SRy1f1gtMg"
      },
      "source": [
        "# **Cluster 1:**"
      ]
    },
    {
      "cell_type": "code",
      "metadata": {
        "id": "d1b_TkrQjIAQ"
      },
      "source": [
        "matricies=[B5,C1,B9,C2]\n",
        "tol=1e-5\n",
        "itermax = 10000"
      ],
      "execution_count": 3,
      "outputs": []
    },
    {
      "cell_type": "code",
      "metadata": {
        "colab": {
          "base_uri": "https://localhost:8080/"
        },
        "id": "I_TRFGayjIEa",
        "outputId": "5de360bb-6eb4-4415-8ac0-5053334c1334"
      },
      "source": [
        "my_data = []\n",
        "for i in range(len(matricies)):\n",
        "  l = []\n",
        "  n = len(matricies[i])\n",
        "  b=np.ones(n)\n",
        "  x = np.zeros(n)\n",
        "  itersc = bicgstab_iter(matricies[i],b,x,tol,itermax)[1]\n",
        "  t3 = time()\n",
        "  y=bicgstab(matricies[i],b,x,tol,itermax)[0] \n",
        "  t4 = time()\n",
        "  sc_tmp = (t4-t3)*1000      # scipy time in ms \n",
        "  sc_res=lg.norm(np.dot(matricies[i],y)-b)\n",
        "  t1 = time()\n",
        "  x,iterm= BICGSTAB(matricies[i], b, x, tol,itermax)  \n",
        "  t2 = time()\n",
        "  tmp = (t2-t1)*1000      # Our time in ms\n",
        "  res=lg.norm(np.dot(matricies[i],x)-b)\n",
        "  l.append(matricies[i].shape)\n",
        "  l.append(lg.cond(matricies[i]))\n",
        "  l.append(iterm)\n",
        "  l.append(tmp)\n",
        "  l.append(res)\n",
        "  l.append(itersc)\n",
        "  l.append(sc_tmp)\n",
        "  l.append(sc_res)\n",
        "  my_data.append(l)\n",
        "# create header\n",
        "head = ['matricies','condition number','Our_nbr_iter','time','res','scipy_nbr_iter','sc_time','sc_res']    \n",
        "# display table\n",
        "print(tabulate(my_data, headers=head, tablefmt=\"grid\")) "
      ],
      "execution_count": 4,
      "outputs": [
        {
          "output_type": "stream",
          "name": "stdout",
          "text": [
            "+--------------+--------------------+----------------+-----------+---------------+------------------+-----------+---------------+\n",
            "| matricies    |   condition number |   Our_nbr_iter |      time |           res |   scipy_nbr_iter |   sc_time |        sc_res |\n",
            "+==============+====================+================+===========+===============+==================+===========+===============+\n",
            "| (3600, 3600) |            23.7154 |              3 | 183.42    |   1.77161e-11 |                3 |  49.7808  |   7.22899e-12 |\n",
            "+--------------+--------------------+----------------+-----------+---------------+------------------+-----------+---------------+\n",
            "| (67, 67)     |           130.217  |          10000 | 626.285   | 134.089       |               83 |   7.71379 | 156.315       |\n",
            "+--------------+--------------------+----------------+-----------+---------------+------------------+-----------+---------------+\n",
            "| (138, 138)   |           941.295  |             47 |   5.37276 |   3.72359e-06 |               41 |   4.27771 |   3.76963e-05 |\n",
            "+--------------+--------------------+----------------+-----------+---------------+------------------+-----------+---------------+\n",
            "| (991, 991)   |           142.045  |             26 |  77.2564  |   6.40585e-06 |               21 |  31.306   |   0.000257835 |\n",
            "+--------------+--------------------+----------------+-----------+---------------+------------------+-----------+---------------+\n"
          ]
        }
      ]
    },
    {
      "cell_type": "markdown",
      "metadata": {
        "id": "zqiZjxp2ly4t"
      },
      "source": [
        "# **Cluster 2:**"
      ]
    },
    {
      "cell_type": "code",
      "metadata": {
        "id": "N9S-7dqqjIz_"
      },
      "source": [
        "matricies=[C7,B10,A6,B11,C8,C9]\n",
        "tol=1e-5\n",
        "itermax = 10000"
      ],
      "execution_count": 5,
      "outputs": []
    },
    {
      "cell_type": "code",
      "metadata": {
        "colab": {
          "base_uri": "https://localhost:8080/"
        },
        "id": "8t2jAMYdlYNr",
        "outputId": "8f6c6a3f-1a51-4a97-92be-17cac181e331"
      },
      "source": [
        "my_data = []\n",
        "for i in range(len(matricies)):\n",
        "  l = []\n",
        "  n = len(matricies[i])\n",
        "  b=np.ones(n)\n",
        "  x = np.zeros(n)\n",
        "  itersc = bicgstab_iter(matricies[i],b,x,tol,itermax)[1]\n",
        "  t3 = time()\n",
        "  y=bicgstab(matricies[i],b,x,tol,itermax)[0] \n",
        "  t4 = time()\n",
        "  sc_tmp = (t4-t3)*1000      # scipy time in ms \n",
        "  sc_res=lg.norm(np.dot(matricies[i],y)-b)\n",
        "  t1 = time()\n",
        "  x,iterm= BICGSTAB(matricies[i], b, x, tol,itermax)  \n",
        "  t2 = time()\n",
        "  tmp = (t2-t1)*1000      # Our time in ms\n",
        "  res=lg.norm(np.dot(matricies[i],x)-b)\n",
        "  l.append(matricies[i].shape)\n",
        "  l.append(lg.cond(matricies[i]))\n",
        "  l.append(iterm)\n",
        "  l.append(tmp)\n",
        "  l.append(res)\n",
        "  l.append(itersc)\n",
        "  l.append(sc_tmp)\n",
        "  l.append(sc_res)\n",
        "  my_data.append(l)\n",
        "# create header\n",
        "head = ['matricies','condition number','Our_nbr_iter','time','res','scipy_nbr_iter','sc_time','sc_res']    \n",
        "# display table\n",
        "print(tabulate(my_data, headers=head, tablefmt=\"grid\")) "
      ],
      "execution_count": 6,
      "outputs": [
        {
          "output_type": "stream",
          "name": "stdout",
          "text": [
            "+--------------+--------------------+----------------+----------+-------------+------------------+-----------+--------------+\n",
            "| matricies    |   condition number |   Our_nbr_iter |     time |         res |   scipy_nbr_iter |   sc_time |       sc_res |\n",
            "+==============+====================+================+==========+=============+==================+===========+==============+\n",
            "| (1030, 1030) |            77142.8 |           1566 |  4486.05 | 9.89553e-06 |             1027 |   995.387 |  0.000245136 |\n",
            "+--------------+--------------------+----------------+----------+-------------+------------------+-----------+--------------+\n",
            "| (1224, 1224) |            24135.9 |            747 |  3028.9  | 5.2391e-06  |              498 |   592.584 |  0.00033386  |\n",
            "+--------------+--------------------+----------------+----------+-------------+------------------+-----------+--------------+\n",
            "| (817, 817)   |           233734   |           1451 |  2285.35 | 4.21378e-06 |              973 |   592.677 |  0.000263181 |\n",
            "+--------------+--------------------+----------------+----------+-------------+------------------+-----------+--------------+\n",
            "| (1922, 1922) |           261567   |           2930 | 33229    | 3.59187e-06 |             1645 |  5903.34  |  0.00021609  |\n",
            "+--------------+--------------------+----------------+----------+-------------+------------------+-----------+--------------+\n",
            "| (2395, 2395) |            12047.1 |            523 | 12131.7  | 8.2784e-06  |              344 |  2382.53  |  0.000486981 |\n",
            "+--------------+--------------------+----------------+----------+-------------+------------------+-----------+--------------+\n",
            "| (185, 185)   |           181227   |           8211 |  1266.16 | 9.55772e-06 |             1287 |   155.404 | 14.5316      |\n",
            "+--------------+--------------------+----------------+----------+-------------+------------------+-----------+--------------+\n"
          ]
        }
      ]
    },
    {
      "cell_type": "markdown",
      "metadata": {
        "id": "_W2FiP_Mlt9a"
      },
      "source": [
        "# **Cluster 3:**"
      ]
    },
    {
      "cell_type": "code",
      "metadata": {
        "id": "gZiGqYfNld8c"
      },
      "source": [
        "matricies=[B6,B1,B4]\n",
        "tol=1e-5\n",
        "itermax = 100000"
      ],
      "execution_count": 6,
      "outputs": []
    },
    {
      "cell_type": "code",
      "metadata": {
        "colab": {
          "base_uri": "https://localhost:8080/"
        },
        "id": "sgJJG2SGl8l-",
        "outputId": "3aed44c2-791e-42da-b8ef-e7ceba06564a"
      },
      "source": [
        "my_data = []\n",
        "for i in range(len(matricies)):\n",
        "  l = []\n",
        "  n = len(matricies[i])\n",
        "  b=np.ones(n)\n",
        "  x = np.zeros(n)\n",
        "  itersc = bicgstab_iter(matricies[i],b,x,tol,itermax)[1]\n",
        "  t3 = time()\n",
        "  y=bicgstab(matricies[i],b,x,tol,itermax)[0] \n",
        "  t4 = time()\n",
        "  sc_tmp = (t4-t3)*1000      # scipy time in ms \n",
        "  sc_res=lg.norm(np.dot(matricies[i],y)-b)\n",
        "  t1 = time()\n",
        "  x,iterm= BICGSTAB(matricies[i], b, x, tol,itermax)  \n",
        "  t2 = time()\n",
        "  tmp = (t2-t1)*1000      # Our time in ms\n",
        "  res=lg.norm(np.dot(matricies[i],x)-b)\n",
        "  l.append(matricies[i].shape)\n",
        "  l.append(lg.cond(matricies[i]))\n",
        "  l.append(iterm)\n",
        "  l.append(tmp)\n",
        "  l.append(res)\n",
        "  l.append(itersc)\n",
        "  l.append(sc_tmp)\n",
        "  l.append(sc_res)\n",
        "  my_data.append(l)\n",
        "# create header\n",
        "head = ['matricies','condition number','Our_nbr_iter','time','res','scipy_nbr_iter','sc_time','sc_res']    \n",
        "# display table\n",
        "print(tabulate(my_data, headers=head, tablefmt=\"grid\")) "
      ],
      "execution_count": 7,
      "outputs": [
        {
          "output_type": "stream",
          "name": "stdout",
          "text": [
            "+--------------+--------------------+----------------+------------------+---------------+------------------+----------------+---------------+\n",
            "| matricies    |   condition number |   Our_nbr_iter |             time |           res |   scipy_nbr_iter |        sc_time |        sc_res |\n",
            "+==============+====================+================+==================+===============+==================+================+===============+\n",
            "| (4884, 4884) |        4.94318e+09 |            422 |  46223.7         |   5.603e-06   |              359 | 11280.7        |   0.000695086 |\n",
            "+--------------+--------------------+----------------+------------------+---------------+------------------+----------------+---------------+\n",
            "| (1806, 1806) |        1.19232e+10 |          29802 | 312255           |   7.08835e-06 |            23287 | 73343.9        |   0.000214067 |\n",
            "+--------------+--------------------+----------------+------------------+---------------+------------------+----------------+---------------+\n",
            "| (3562, 3562) |        1.80764e+13 |         100000 |      5.81336e+06 | 304.633       |           100000 |     1.6781e+06 | 322.853       |\n",
            "+--------------+--------------------+----------------+------------------+---------------+------------------+----------------+---------------+\n"
          ]
        }
      ]
    },
    {
      "cell_type": "markdown",
      "metadata": {
        "id": "sEyPGep3Fpu5"
      },
      "source": [
        "# **Cluster 4:**"
      ]
    },
    {
      "cell_type": "code",
      "metadata": {
        "id": "xuYPztdsmAUA"
      },
      "source": [
        "matricies=[C3,C4,C10,C12]\n",
        "tol=1e-5\n",
        "itermax = 10000"
      ],
      "execution_count": 4,
      "outputs": []
    },
    {
      "cell_type": "code",
      "metadata": {
        "colab": {
          "base_uri": "https://localhost:8080/"
        },
        "id": "3R9-ddqYnLbE",
        "outputId": "17005c44-c9db-49f2-cdb2-8781be064e7c"
      },
      "source": [
        "my_data = []\n",
        "for i in range(len(matricies)):\n",
        "  l = []\n",
        "  n = len(matricies[i])\n",
        "  b=np.ones(n)\n",
        "  x = np.zeros(n)\n",
        "  itersc = bicgstab_iter(matricies[i],b,x,tol,itermax)[1]\n",
        "  t3 = time()\n",
        "  y=bicgstab(matricies[i],b,x,tol,itermax)[0] \n",
        "  t4 = time()\n",
        "  sc_tmp = (t4-t3)*1000      # scipy time in ms \n",
        "  sc_res=lg.norm(np.dot(matricies[i],y)-b)\n",
        "  t1 = time()\n",
        "  x,iterm= BICGSTAB(matricies[i], b, x, tol,itermax)  \n",
        "  t2 = time()\n",
        "  tmp = (t2-t1)*1000      # Our time in ms\n",
        "  res=lg.norm(np.dot(matricies[i],x)-b)\n",
        "  l.append(matricies[i].shape)\n",
        "  l.append(lg.cond(matricies[i]))\n",
        "  l.append(iterm)\n",
        "  l.append(tmp)\n",
        "  l.append(res)\n",
        "  l.append(itersc)\n",
        "  l.append(sc_tmp)\n",
        "  l.append(sc_res)\n",
        "  my_data.append(l)\n",
        "# create header\n",
        "head = ['matricies','condition number','Our_nbr_iter','time','res','scipy_nbr_iter','sc_time','sc_res']    \n",
        "# display table\n",
        "print(tabulate(my_data, headers=head, tablefmt=\"grid\")) "
      ],
      "execution_count": 5,
      "outputs": [
        {
          "output_type": "stream",
          "name": "stdout",
          "text": [
            "+-------------+--------------------+----------------+----------+-----------------+------------------+-----------+------------------+\n",
            "| matricies   |   condition number |   Our_nbr_iter |     time |             res |   scipy_nbr_iter |   sc_time |           sc_res |\n",
            "+=============+====================+================+==========+=================+==================+===========+==================+\n",
            "| (207, 207)  |        1.35164e+08 |          10000 |  1885.24 |     2.48564e+07 |              875 |   98.6507 | 117974           |\n",
            "+-------------+--------------------+----------------+----------+-----------------+------------------+-----------+------------------+\n",
            "| (225, 225)  |        7.10097e+06 |          10000 |  1749.89 |  2669.47        |             1604 |  182.433  |   9315.37        |\n",
            "+-------------+--------------------+----------------+----------+-----------------+------------------+-----------+------------------+\n",
            "| (680, 680)  |        3.58695e+06 |          10000 | 11606.2  |     3.54043e+13 |            10000 | 4093.93   |      6.02047e+09 |\n",
            "+-------------+--------------------+----------------+----------+-----------------+------------------+-----------+------------------+\n",
            "| (381, 381)  |        1.25539e+06 |          10000 |  4135.55 | 12095.2         |               78 |   15.8644 |  14456.8         |\n",
            "+-------------+--------------------+----------------+----------+-----------------+------------------+-----------+------------------+\n"
          ]
        }
      ]
    }
  ]
}