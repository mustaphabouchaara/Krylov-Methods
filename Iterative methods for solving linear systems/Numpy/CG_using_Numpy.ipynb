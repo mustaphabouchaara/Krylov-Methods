{
  "nbformat": 4,
  "nbformat_minor": 0,
  "metadata": {
    "colab": {
      "name": "The_CG_Benchmark-time.ipynb",
      "provenance": [],
      "collapsed_sections": []
    },
    "kernelspec": {
      "name": "python3",
      "display_name": "Python 3"
    },
    "language_info": {
      "name": "python"
    }
  },
  "cells": [
    {
      "cell_type": "code",
      "metadata": {
        "id": "iwME0vIUZSKW"
      },
      "source": [
        "import numpy as np\n",
        "import numpy.linalg as lg \n",
        "from scipy.sparse.linalg import cg\n",
        "from tabulate import tabulate\n",
        "from time import time\n",
        "from  scipy.io import mmread\n",
        "A1=np.array(mmread('/content/bcsstk14.mtx.gz').todense())\n",
        "# A1.shape=(1806, 1806) real symmetric positive definite\n",
        "A2=np.array(mmread('/content/bcsstm19.mtx.gz').todense())\n",
        "# A2.shape=(817,817) real symmetric positive definite\n",
        "A3=np.array(mmread('/content/bcsstm20.mtx.gz').todense())\n",
        "# A3.shape=(485,485) real symmetric positive definite\n",
        "A4=np.array(mmread('/content/bcsstm24.mtx.gz').todense())\n",
        "# A4.shape=(3562,3562) real symmetric positive definite\n",
        "B1=np.array(mmread('/content/bcsstm21.mtx.gz').todense())\n",
        "B2=np.array(mmread('/content/bcsstk16.mtx.gz').todense())\n",
        "B3=np.array(mmread('/content/bcsstk17.mtx.gz').todense())\n",
        "B4=np.array(mmread('/content/bcsstk18.mtx.gz').todense())\n",
        "C1=np.array(mmread('/content/bcsstm22.mtx.gz').todense())\n",
        "C2=np.array(mmread('/content/bcsstk27.mtx.gz').todense())\n",
        "C3=np.array(mmread('/content/bcsstm26.mtx.gz').todense())"
      ],
      "execution_count": 108,
      "outputs": []
    },
    {
      "cell_type": "markdown",
      "metadata": {
        "id": "y_mKrd9FZh7Y"
      },
      "source": [
        "## The Conjugate Gradient Algorithm"
      ]
    },
    {
      "cell_type": "code",
      "metadata": {
        "id": "WjoraEfcZf6X"
      },
      "source": [
        "def cg_iter(A, b,x0,maxiter,tol):\n",
        "    num_iters = 0\n",
        "\n",
        "    def callback(xk):\n",
        "        nonlocal num_iters\n",
        "        num_iters += 1\n",
        "    return cg(A, b, callback=callback,tol = tol,maxiter=maxiter),num_iters\n",
        "\n",
        "def The_Conjugate_Gradient_Algorithm(A,b,x,itermax,tol): \n",
        "    r    = p = b-np.dot(A, x)\n",
        "    k    = 0   \n",
        "    while lg.norm(r) > tol and k<itermax:\n",
        "        alpha = np.dot(r, r)/(np.dot(np.dot(A,p), p))\n",
        "        x     = x + alpha*p\n",
        "        rpr   = r.copy()        \n",
        "        r     = rpr - alpha*np.dot(A, p)\n",
        "        beta  = (lg.norm(r))**2/lg.norm((rpr))**2\n",
        "        p     = r + beta*p\n",
        "        k     = k + 1   \n",
        "    return x, k\n"
      ],
      "execution_count": 109,
      "outputs": []
    },
    {
      "cell_type": "markdown",
      "metadata": {
        "id": "KFeF11pmgxHQ"
      },
      "source": [
        "# **Cluster 1:**\n"
      ]
    },
    {
      "cell_type": "code",
      "metadata": {
        "id": "sLiHS8uHg7Fu"
      },
      "source": [
        "matricies=[B1,A2,A3,B2,C1,C2]\n",
        "tol=1e-5\n",
        "itermax = 1000"
      ],
      "execution_count": 111,
      "outputs": []
    },
    {
      "cell_type": "code",
      "metadata": {
        "colab": {
          "base_uri": "https://localhost:8080/"
        },
        "id": "Uj499Tj2hXwn",
        "outputId": "3c8f1b60-a0f2-4414-f7a1-9a940a52a356"
      },
      "source": [
        "my_data = []\n",
        "for i in range(len(matricies)):\n",
        "  l = []\n",
        "  n = len(matricies[i])\n",
        "  b=np.ones(n)\n",
        "  x = np.zeros(n)\n",
        "  itersc = cg_iter(matricies[i],b,x,itermax,tol)[1] \n",
        "  t3 = time()\n",
        "  y=cg(matricies[i],b,x,tol,itermax)[0]\n",
        "  t4 = time()\n",
        "  sc_tmp = (t4-t3)*1000      # scipy time in ms\n",
        "  sc_res=lg.norm(np.dot(matricies[i],y)-b)\n",
        "  t1 = time()\n",
        "  x,iterm  = The_Conjugate_Gradient_Algorithm(matricies[i],b,x,itermax,tol)\n",
        "  t2 = time()\n",
        "  tmp = (t2-t1)*1000      # Our time in ms\n",
        "  res=lg.norm(np.dot(matricies[i],x)-b)\n",
        "  l.append(matricies[i].shape)\n",
        "  l.append(lg.cond(matricies[i]))\n",
        "  l.append(iterm)\n",
        "  l.append(tmp)\n",
        "  l.append(res)\n",
        "  l.append(itersc)\n",
        "  l.append(sc_tmp)\n",
        "  l.append(sc_res)\n",
        "  my_data.append(l)\n",
        "# create header\n",
        "head = ['matricies','condition number','Our_nbr_iter','time','res','scipy_nbr_iter','sc_time','sc_res']\n",
        "  \n",
        "# display table\n",
        "print(tabulate(my_data, headers=head, tablefmt=\"grid\")) "
      ],
      "execution_count": 112,
      "outputs": [
        {
          "output_type": "stream",
          "name": "stdout",
          "text": [
            "+--------------+--------------------+----------------+-------------+-------------+------------------+------------+-------------+\n",
            "| matricies    |   condition number |   Our_nbr_iter |        time |         res |   scipy_nbr_iter |    sc_time |      sc_res |\n",
            "+==============+====================+================+=============+=============+==================+============+=============+\n",
            "| (3600, 3600) |       23.7154      |              3 |    66.6585  | 1.46101e-12 |                3 |   49.2222  | 2.1765e-12  |\n",
            "+--------------+--------------------+----------------+-------------+-------------+------------------+------------+-------------+\n",
            "| (817, 817)   |   233734           |            493 |   299.639   | 6.5024e-06  |              393 |  129.246   | 0.00022379  |\n",
            "+--------------+--------------------+----------------+-------------+-------------+------------------+------------+-------------+\n",
            "| (485, 485)   |   255381           |            281 |    58.8701  | 8.24194e-06 |              261 |   37.9345  | 0.000112466 |\n",
            "+--------------+--------------------+----------------+-------------+-------------+------------------+------------+-------------+\n",
            "| (4884, 4884) |        4.94318e+09 |            477 | 16936.3     | 9.36784e-06 |              441 | 7522.79    | 0.000685533 |\n",
            "+--------------+--------------------+----------------+-------------+-------------+------------------+------------+-------------+\n",
            "| (138, 138)   |      941.295       |             52 |     3.97706 | 4.12425e-06 |               45 |    3.31545 | 0.000101647 |\n",
            "+--------------+--------------------+----------------+-------------+-------------+------------------+------------+-------------+\n",
            "| (1224, 1224) |    24135.9         |            979 |  1111.57    | 9.33933e-06 |              769 |  482.796   | 0.000348319 |\n",
            "+--------------+--------------------+----------------+-------------+-------------+------------------+------------+-------------+\n"
          ]
        }
      ]
    },
    {
      "cell_type": "markdown",
      "metadata": {
        "id": "riA_tanLihVF"
      },
      "source": [
        "# **Cluster 2:**"
      ]
    },
    {
      "cell_type": "code",
      "metadata": {
        "id": "VMLf9HhiheUz"
      },
      "source": [
        "matricies=[A1,A4,C3]\n",
        "tol=1e-5\n",
        "itermax = 30000"
      ],
      "execution_count": 114,
      "outputs": []
    },
    {
      "cell_type": "code",
      "metadata": {
        "colab": {
          "base_uri": "https://localhost:8080/"
        },
        "id": "3rRVw8vBi7aq",
        "outputId": "b088ed0d-d4a9-4627-f217-1db82e70979f"
      },
      "source": [
        "my_data = []\n",
        "for i in range(len(matricies)):\n",
        "  l = []\n",
        "  n = len(matricies[i])\n",
        "  b=np.ones(n)\n",
        "  x = np.zeros(n)\n",
        "  itersc = cg_iter(matricies[i],b,x,itermax,tol)[1] \n",
        "  t3 = time()\n",
        "  y=cg(matricies[i],b,x,tol,itermax)[0]\n",
        "  t4 = time()\n",
        "  sc_tmp = (t4-t3)*1000      # scipy time in ms\n",
        "  sc_res=lg.norm(np.dot(matricies[i],y)-b)\n",
        "  t1 = time()\n",
        "  x,iterm  = The_Conjugate_Gradient_Algorithm(matricies[i],b,x,itermax,tol)\n",
        "  t2 = time()\n",
        "  tmp = (t2-t1)*1000      # Our time in ms\n",
        "  res=lg.norm(np.dot(matricies[i],x)-b)\n",
        "  l.append(matricies[i].shape)\n",
        "  l.append(lg.cond(matricies[i]))\n",
        "  l.append(iterm)\n",
        "  l.append(tmp)\n",
        "  l.append(res)\n",
        "  l.append(itersc)\n",
        "  l.append(sc_tmp)\n",
        "  l.append(sc_res)\n",
        "  my_data.append(l)\n",
        "# create header\n",
        "head = ['matricies','condition number','Our_nbr_iter','time','res','scipy_nbr_iter','sc_time','sc_res']\n",
        "  \n",
        "# display table\n",
        "print(tabulate(my_data, headers=head, tablefmt=\"grid\")) "
      ],
      "execution_count": 115,
      "outputs": [
        {
          "output_type": "stream",
          "name": "stdout",
          "text": [
            "+--------------+--------------------+----------------+-----------+-------------+------------------+-----------+-------------+\n",
            "| matricies    |   condition number |   Our_nbr_iter |      time |         res |   scipy_nbr_iter |   sc_time |      sc_res |\n",
            "+==============+====================+================+===========+=============+==================+===========+=============+\n",
            "| (1806, 1806) |        1.19232e+10 |          14239 |  36789.7  | 9.42032e-06 |            12822 |  16856.6  | 0.000386238 |\n",
            "+--------------+--------------------+----------------+-----------+-------------+------------------+-----------+-------------+\n",
            "| (3562, 3562) |        1.80764e+13 |          24352 | 396219    | 8.52663e-06 |            18229 | 154686    | 0.000538547 |\n",
            "+--------------+--------------------+----------------+-----------+-------------+------------------+-----------+-------------+\n",
            "| (1922, 1922) |   261567           |           2308 |   7396.21 | 9.15014e-06 |             1774 |   2780.57 | 0.000381515 |\n",
            "+--------------+--------------------+----------------+-----------+-------------+------------------+-----------+-------------+\n"
          ]
        }
      ]
    }
  ]
}