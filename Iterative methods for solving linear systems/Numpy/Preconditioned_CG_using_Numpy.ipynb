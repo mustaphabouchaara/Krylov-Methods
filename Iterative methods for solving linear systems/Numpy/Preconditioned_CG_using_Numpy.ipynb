{
 "cells": [
  {
   "cell_type": "code",
   "execution_count": 2,
   "metadata": {
    "id": "9CDi5-azxYD9"
   },
   "outputs": [],
   "source": [
    "import numpy as np\n",
    "import numpy.linalg as lg \n",
    "from  scipy.io import mmread\n",
    "from scipy.sparse.linalg import cg\n",
    "from tabulate import tabulate\n",
    "A1=np.array(mmread('/content/bcsstk14.mtx.gz').todense())\n",
    "# A1.shape=(1806, 1806) real symmetric positive definite\n",
    "A2=np.array(mmread('/content/bcsstm19.mtx.gz').todense())\n",
    "# A2.shape=(817,817) real symmetric positive definite\n",
    "A3=np.array(mmread('/content/bcsstm20.mtx.gz').todense())\n",
    "# A3.shape=(485,485) real symmetric positive definite\n",
    "A4=np.array(mmread('/content/bcsstm24.mtx.gz').todense())\n",
    "# A4.shape=(3562,3562) real symmetric positive definite"
   ]
  },
  {
   "cell_type": "code",
   "execution_count": 5,
   "metadata": {
    "id": "67jhtxfDN5rw"
   },
   "outputs": [],
   "source": [
    "def cgp_iter(A, b,x0,maxiter,tol,M):\n",
    "    num_iters = 0\n",
    "\n",
    "    def callback(xk):\n",
    "        nonlocal num_iters\n",
    "        num_iters += 1\n",
    "    return cg(A, b, callback=callback,tol = tol,maxiter=maxiter,M=lg.inv(M)),num_iters\n",
    "\n",
    "\n",
    "def Preconditionned_Conjugate_Gradient_Algorithm(A,b,x,itermax,tol):\n",
    "    M=np.diag(np.diag(A))\n",
    "    r = b-np.dot(A, x)\n",
    "    z = p = np.dot(lg.inv(M),r)\n",
    "    k = 0 \n",
    "    \n",
    "    while lg.norm(z) > tol :\n",
    "        alpha1 = np.dot(r, z)/(np.dot(np.dot(A,p), p))\n",
    "        x = x + alpha1*p\n",
    "        rpr=r.copy()\n",
    "        \n",
    "        r = rpr - alpha1*np.dot(A, p)\n",
    "        zpr = z.copy()\n",
    "        z = np.dot(lg.inv(M),r)\n",
    "        beta1 = np.dot(r, z)/np.dot(rpr,zpr)\n",
    "        p = z + beta1*p\n",
    "        k = k + 1\n",
    "    return x,k\n"
   ]
  },
  {
   "cell_type": "code",
   "execution_count": 10,
   "metadata": {
    "id": "Z1b2-goh28y5"
   },
   "outputs": [],
   "source": [
    "matricies=[A1,A2,A3,A4]\n",
    "tol=1e-6\n",
    "itermax = 400"
   ]
  },
  {
   "cell_type": "code",
   "execution_count": 11,
   "metadata": {
    "colab": {
     "base_uri": "https://localhost:8080/"
    },
    "id": "AtCelsWG2-s4",
    "outputId": "596ccf78-e676-46b3-bee7-0cf23ddcedea"
   },
   "outputs": [
    {
     "name": "stdout",
     "output_type": "stream",
     "text": [
      "+--------------+-------+----------------+--------------+-------------+------------------+-------------+-------------+\n",
      "| matricies    |   tol |   Our_nbr_iter |          res |     Our_err |   scipy_nbr_iter |      sc_res |   scipy_err |\n",
      "+==============+=======+================+==============+=============+==================+=============+=============+\n",
      "| (1806, 1806) | 1e-06 |             87 | 25.9087      | 3.41579e-05 |              400 | 0.000199097 |  8.4885e-11 |\n",
      "+--------------+-------+----------------+--------------+-------------+------------------+-------------+-------------+\n",
      "| (817, 817)   | 1e-06 |              1 |  1.20089e-15 | 0           |                1 | 1.20089e-15 |  0          |\n",
      "+--------------+-------+----------------+--------------+-------------+------------------+-------------+-------------+\n",
      "| (485, 485)   | 1e-06 |              1 |  8.15844e-16 | 0           |                1 | 8.15844e-16 |  0          |\n",
      "+--------------+-------+----------------+--------------+-------------+------------------+-------------+-------------+\n",
      "| (3562, 3562) | 1e-06 |              1 |  2.15852e-15 | 0           |                1 | 2.15852e-15 |  0          |\n",
      "+--------------+-------+----------------+--------------+-------------+------------------+-------------+-------------+\n"
     ]
    }
   ],
   "source": [
    "my_data = []\n",
    "for i in range(len(matricies)):\n",
    "  l = []\n",
    "  n = len(matricies[i])\n",
    "  M=np.diag(np.diag(matricies[i]))\n",
    "  b=np.ones(n)\n",
    "  x = np.zeros(n)\n",
    "  sol  = lg.solve(matricies[i], b)\n",
    "  itersc = cgp_iter(matricies[i],b,x,itermax,tol,M)[1]  \n",
    "  y=cg(matricies[i],b,x,tol,itermax,M=lg.inv(M))[0]\n",
    "  sc_err=np.linalg.norm(y-sol)\n",
    "  sc_res=lg.norm(np.dot(matricies[i],y)-b)\n",
    "  x,iterm  = Preconditionned_Conjugate_Gradient_Algorithm(matricies[i],b,x,itermax,tol)\n",
    "  err=lg.norm(x-sol)\n",
    "  res=lg.norm(np.dot(matricies[i],x)-b)\n",
    "  l.append(matricies[i].shape)\n",
    "  l.append(tol)\n",
    "  l.append(iterm)\n",
    "  l.append(res)\n",
    "  l.append(err)\n",
    "  l.append(itersc)\n",
    "  l.append(sc_res)\n",
    "  l.append(sc_err)\n",
    "  my_data.append(l)\n",
    "# create header\n",
    "head = ['matricies','tol','Our_nbr_iter','res','Our_err','scipy_nbr_iter','sc_res','scipy_err']\n",
    "  \n",
    "# display table\n",
    "print(tabulate(my_data, headers=head, tablefmt=\"grid\")) "
   ]
  }
 ],
 "metadata": {
  "colab": {
   "collapsed_sections": [],
   "name": "Preconditioned Conjugate Gradient.ipynb",
   "provenance": []
  },
  "kernelspec": {
   "display_name": "Python 3",
   "language": "python",
   "name": "python3"
  },
  "language_info": {
   "codemirror_mode": {
    "name": "ipython",
    "version": 3
   },
   "file_extension": ".py",
   "mimetype": "text/x-python",
   "name": "python",
   "nbconvert_exporter": "python",
   "pygments_lexer": "ipython3",
   "version": "3.8.5"
  }
 },
 "nbformat": 4,
 "nbformat_minor": 1
}
