{
  "nbformat": 4,
  "nbformat_minor": 0,
  "metadata": {
    "colab": {
      "name": "The_Gmres_Benchmark.ipynb",
      "provenance": [],
      "collapsed_sections": []
    },
    "kernelspec": {
      "display_name": "Python 3",
      "name": "python3"
    },
    "language_info": {
      "name": "python"
    }
  },
  "cells": [
    {
      "cell_type": "code",
      "metadata": {
        "id": "sYK3NoFCtttU"
      },
      "source": [
        "import numpy as np\n",
        "import numpy.linalg as lg \n",
        "from scipy.sparse.linalg import gmres\n",
        "from tabulate import tabulate\n",
        "from time import time\n",
        "from  scipy.io import mmread\n",
        "A1=np.array(mmread('/content/bcsstk20.mtx.gz').todense())\n",
        "# A1.shape=(485,485) real symmetric positive definite\n",
        "A2=np.array(mmread('/content/mcca.mtx.gz').todense())\n",
        "# A2.shape=(180,180) real unsymmetric  \n",
        "A3=np.array(mmread('/content/bcsstm20.mtx.gz').todense())\n",
        "# A3.shape=(485,485) real symmetric positive definite\n",
        "A4=np.array(mmread('/content/bcsstm19.mtx.gz').todense())\n",
        "# A4.shape=(817,817) real symmetric positive definite\n",
        "\n",
        "C1=np.array(mmread('/content/bcsstk14.mtx.gz').todense())\n",
        "# C1.shape=(1806, 1806) real symmetric positive definite\n",
        "C2=np.array(mmread('/content/bcsstm24.mtx.gz').todense())\n",
        "# C2.shape=(3562,3562) real symmetric positive definite\n",
        "C3=np.array(mmread('/content/bcsstk16.mtx.gz').todense())\n",
        "\n",
        "B1=np.array(mmread('/content/bcsstm21.mtx.gz').todense())\n",
        "B2=np.array(mmread('/content/bcsstm22.mtx.gz').todense())\n",
        "B3=np.array(mmread('/content/bcsstk27.mtx.gz').todense())\n",
        "B4=np.array(mmread('/content/bcsstm26.mtx.gz').todense())\n",
        "\n",
        "\n",
        "D1=np.array(mmread('/content/impcol_e.mtx.gz').todense())\n",
        "D2=np.array(mmread('/content/impcol_a.mtx.gz').todense())\n",
        "D3=np.array(mmread('/content/impcol_b.mtx.gz').todense())\n",
        "D4=np.array(mmread('/content/impcol_c.mtx.gz').todense())\n",
        "D5=np.array(mmread('/content/impcol_d.mtx.gz').todense())\n",
        "\n",
        "\n",
        "E1=np.array(mmread('/content/west0067.mtx.gz').todense())\n",
        "E2=np.array(mmread('/content/jpwh_991.mtx.gz').todense())\n",
        "E3=np.array(mmread('/content/impcol_a.mtx.gz').todense())\n",
        "E4=np.array(mmread('/content/impcol_e.mtx.gz').todense())\n",
        "E5=np.array(mmread('/content/sherman4.mtx.gz').todense())\n",
        "E6=np.array(mmread('/content/orsreg_1.mtx.gz').todense())\n",
        "E7=np.array(mmread('/content/orsirr_1.mtx.gz').todense())\n",
        "E8=np.array(mmread('/content/add20.mtx.gz').todense())\n",
        "E9=np.array(mmread('/content/gre__185.mtx.gz').todense())\n",
        "E10=np.array(mmread('/content/fs_680_3.mtx.gz').todense())\n",
        "E11=np.array(mmread('/content/fs_680_2.mtx.gz').todense())\n",
        "E12=np.array(mmread('/content/west0381.mtx.gz').todense())\n",
        "E13=np.array(mmread('/content/e05r0200.mtx.gz').todense())\n",
        "\n",
        "\n"
      ],
      "execution_count": 1,
      "outputs": []
    },
    {
      "cell_type": "markdown",
      "metadata": {
        "id": "Az0XhiVpvgXw"
      },
      "source": [
        "# **The GMRES algorithm**"
      ]
    },
    {
      "cell_type": "code",
      "metadata": {
        "id": "SCRl6v_gvZZe"
      },
      "source": [
        "def gmres_iter(A, b,x0,maxiter,restart,tol):\n",
        "    num_iters = 0\n",
        "\n",
        "    def callback(xk):\n",
        "        nonlocal num_iters\n",
        "        num_iters += 1\n",
        "    return gmres(A, b, callback=callback,tol = tol,restart=restart,maxiter=maxiter),num_iters\n",
        "\n",
        "def The_GMRES_algorithm(A, b, x, m, tol, itermax):\n",
        "    r      = b-np.dot(A, x)\n",
        "    beta   = lg.norm(r)\n",
        "    ris    = np.zeros(itermax)\n",
        "    V      = np.zeros((len(b), m+1))\n",
        "    V[:,0] = r/beta\n",
        "    H      = np.zeros((m+1,m))\n",
        "    k      = 0\n",
        "    while  k < itermax and beta>tol:\n",
        "        ris[k]   = beta\n",
        "        for j in range(m):\n",
        "            w = np.dot(A,V[:, j])\n",
        "            for i in range(j+1):            \n",
        "                H[i,j]= sum(w*V[:,i])\n",
        "                w     = w - H[i,j]*V[ :,i]\n",
        "            H[j+1,j] = lg.norm(w)\n",
        "            if H[j+1,j]==0:\n",
        "                break\n",
        "            V[:, j+1] = w / H[j+1,j] \n",
        "        e1      = np.zeros(m+1)\n",
        "        e1[0]   = 1\n",
        "        Vm      = V[:,:m]                                         # Vm obtenue en supprimant la dernière colonne de V\n",
        "        Q, R    = lg.qr(H,mode='complete')                        # application du QR à la matrice H de taille (m+1)*m\n",
        "        Rm      = R[:m,:m]                                        # matrice extraite en supprimant la dernière colonne de R\n",
        "        g       = beta*np.dot(np.transpose(Q),e1)                 # vecteur de taille m+1\n",
        "        gm      = g[:m]                                           # vecteur de taille m (en garde les m premières composantes)\n",
        "        ym      = lg.solve(Rm, gm)\n",
        "        x       = x + np.dot(Vm, ym)\n",
        "        r       = b - np.dot(A, x)\n",
        "        beta    = lg.norm(r)\n",
        "        V[:, 0] = r/beta\n",
        "        k       = k + 1\n",
        "    return x, k\n"
      ],
      "execution_count": 2,
      "outputs": []
    },
    {
      "cell_type": "markdown",
      "metadata": {
        "id": "1HkQZ3VuKOEb"
      },
      "source": [
        "# Test:"
      ]
    },
    {
      "cell_type": "code",
      "metadata": {
        "id": "zMTmjboMjP6X",
        "colab": {
          "base_uri": "https://localhost:8080/"
        },
        "outputId": "c00a6216-cdc6-4ff9-f96d-bdcde963099e"
      },
      "source": [
        "N=100\n",
        "m=restart=[20,30,N]\n",
        "A = 2*np.eye(N) -np.diag(np.ones(N-1),-1)-np.diag(np.ones(N-1),1)\n",
        "b = np.ones(N)\n",
        "tol=1e-5\n",
        "itermax=1000\n",
        "print('codition umber :',lg.cond(A))"
      ],
      "execution_count": 4,
      "outputs": [
        {
          "output_type": "stream",
          "name": "stdout",
          "text": [
            "codition umber : 4133.642926801328\n"
          ]
        }
      ]
    },
    {
      "cell_type": "code",
      "metadata": {
        "colab": {
          "base_uri": "https://localhost:8080/"
        },
        "id": "am9vID4EjPtL",
        "outputId": "6bf2e92c-7d53-4b36-bbcb-281e504303e3"
      },
      "source": [
        "my_data = []\n",
        "for i in range(len(m)):\n",
        "  l = []\n",
        "  b=np.ones(N)\n",
        "  x = np.zeros(N)\n",
        "  itersc = gmres_iter(A,b,x,itermax,restart[i],tol)[1] \n",
        "  t3 = time()\n",
        "  y=gmres(A,b,x,tol,m[i],itermax)[0]\n",
        "  t4 = time()\n",
        "  sc_tmp = (t4-t3)*1000      # scipy time in ms \n",
        "  sc_res=lg.norm(np.dot(A,y)-b)\n",
        "  t1 = time()\n",
        "  x,iterm= The_GMRES_algorithm(A, b, x, m[i], tol, itermax)\n",
        "  t2 = time()\n",
        "  tmp = (t2-t1)*1000      # Our time in ms \n",
        "  res=lg.norm(np.dot(A,x)-b)\n",
        "  l.append(m[i])\n",
        "  l.append(iterm)\n",
        "  l.append(tmp)\n",
        "  l.append(res)\n",
        "  l.append(itersc)\n",
        "  l.append(sc_tmp)\n",
        "  l.append(sc_res)\n",
        "  my_data.append(l)\n",
        "# create header\n",
        "head = ['m','Our_nbr_iter','time','res','scipy_nbr_iter','sc_time','sc_res']\n",
        "  \n",
        "# display table\n",
        "print(tabulate(my_data, headers=head, tablefmt=\"grid\"))"
      ],
      "execution_count": 7,
      "outputs": [
        {
          "output_type": "stream",
          "name": "stdout",
          "text": [
            "+-----+----------------+---------+-------------+------------------+-----------+-------------+\n",
            "|   m |   Our_nbr_iter |    time |         res |   scipy_nbr_iter |   sc_time |      sc_res |\n",
            "+=====+================+=========+=============+==================+===========+=============+\n",
            "|  20 |             74 | 957.854 | 8.48012e-06 |             1000 |   53.6418 | 9.98424e-05 |\n",
            "+-----+----------------+---------+-------------+------------------+-----------+-------------+\n",
            "|  30 |             32 | 853.234 | 8.81485e-06 |              795 |   37.1377 | 9.94065e-05 |\n",
            "+-----+----------------+---------+-------------+------------------+-----------+-------------+\n",
            "| 100 |              1 | 264.627 | 3.69937e-11 |               50 |    2.5239 | 5.54502e-12 |\n",
            "+-----+----------------+---------+-------------+------------------+-----------+-------------+\n"
          ]
        }
      ]
    },
    {
      "cell_type": "markdown",
      "metadata": {
        "id": "tWO0jo-BeCfW"
      },
      "source": [
        "# **Cluster 1:**"
      ]
    },
    {
      "cell_type": "code",
      "metadata": {
        "id": "q69stO8UcaDR"
      },
      "source": [
        "matricies=[B1,E2,B2,B3,B4,A3,A4,E5,E6,E7,E8]\n",
        "tol=1e-5\n",
        "itermax = 10000\n",
        "m=restart=30"
      ],
      "execution_count": 12,
      "outputs": []
    },
    {
      "cell_type": "code",
      "metadata": {
        "colab": {
          "base_uri": "https://localhost:8080/"
        },
        "id": "-8ydX4-pgFmO",
        "outputId": "17bc2bf1-fb15-41f8-8fea-d1ad885e97b2"
      },
      "source": [
        "my_data = []\n",
        "for i in range(len(matricies)):\n",
        "  l = []\n",
        "  n = len(matricies[i])\n",
        "  b=np.ones(n)\n",
        "  x = np.zeros(n)\n",
        "  itersc = gmres_iter(matricies[i],b,x,itermax,restart,tol)[1] \n",
        "  t3 = time()\n",
        "  y=gmres(matricies[i],b,x,tol,m,itermax)[0]\n",
        "  t4 = time()\n",
        "  sc_tmp = (t4-t3)*1000      # scipy time in ms \n",
        "  sc_res=lg.norm(np.dot(matricies[i],y)-b)\n",
        "  t1 = time()\n",
        "  x,iterm= The_GMRES_algorithm(matricies[i], b, x, m, tol, itermax)\n",
        "  t2 = time()\n",
        "  tmp = (t2-t1)*1000      # Our time in ms \n",
        "  res=lg.norm(np.dot(matricies[i],x)-b)\n",
        "  l.append(matricies[i].shape)\n",
        "  l.append(lg.cond(matricies[i]))\n",
        "  l.append(iterm)\n",
        "  l.append(tmp)\n",
        "  l.append(res)\n",
        "  l.append(itersc)\n",
        "  l.append(sc_tmp)\n",
        "  l.append(sc_res)\n",
        "  my_data.append(l)\n",
        "\n",
        "# create header\n",
        "head = ['matricies','condition number','Our_nbr_iter','time','res','scipy_nbr_iter','sc_time','sc_res']   \n",
        "# display table\n",
        "print(tabulate(my_data, headers=head, tablefmt=\"grid\")) "
      ],
      "execution_count": 13,
      "outputs": [
        {
          "output_type": "stream",
          "name": "stdout",
          "text": [
            "+--------------+--------------------+----------------+------------+-------------+------------------+-------------+-------------+\n",
            "| matricies    |   condition number |   Our_nbr_iter |       time |         res |   scipy_nbr_iter |     sc_time |      sc_res |\n",
            "+==============+====================+================+============+=============+==================+=============+=============+\n",
            "| (3600, 3600) |            23.7154 |              1 |    941.777 | 1.0025e-12  |                3 |    41.3268  | 2.87905e-13 |\n",
            "+--------------+--------------------+----------------+------------+-------------+------------------+-------------+-------------+\n",
            "| (991, 991)   |           142.045  |              2 |    385.608 | 2.03457e-07 |               37 |    16.4621  | 0.000230357 |\n",
            "+--------------+--------------------+----------------+------------+-------------+------------------+-------------+-------------+\n",
            "| (138, 138)   |           941.295  |              4 |    132.198 | 7.92443e-09 |               79 |     4.02522 | 7.88103e-05 |\n",
            "+--------------+--------------------+----------------+------------+-------------+------------------+-------------+-------------+\n",
            "| (1224, 1224) |         24135.9    |            120 |  29832.6   | 9.20254e-06 |             2467 |  1511.99    | 0.000349632 |\n",
            "+--------------+--------------------+----------------+------------+-------------+------------------+-------------+-------------+\n",
            "| (1922, 1922) |        261567      |           1192 | 499999     | 9.91183e-06 |            10000 | 27498.6     | 0.000438219 |\n",
            "+--------------+--------------------+----------------+------------+-------------+------------------+-------------+-------------+\n",
            "| (485, 485)   |        255381      |             36 |   3549     | 6.38087e-06 |              900 |   129.072   | 0.000218707 |\n",
            "+--------------+--------------------+----------------+------------+-------------+------------------+-------------+-------------+\n",
            "| (817, 817)   |        233734      |            108 |  17871.7   | 2.95637e-06 |             3351 |  1020.06    | 0.000282824 |\n",
            "+--------------+--------------------+----------------+------------+-------------+------------------+-------------+-------------+\n",
            "| (1104, 1104) |          2178.63   |             16 |   3630.88  | 6.26214e-06 |              333 |   168.636   | 0.000326244 |\n",
            "+--------------+--------------------+----------------+------------+-------------+------------------+-------------+-------------+\n",
            "| (2205, 2205) |          6745.27   |             10 |   4952.95  | 6.76815e-06 |              147 |   391.059   | 0.000466217 |\n",
            "+--------------+--------------------+----------------+------------+-------------+------------------+-------------+-------------+\n",
            "| (1030, 1030) |         77142.8    |            103 |  21664.9   | 9.04525e-06 |             2331 |  1022.84    | 0.000320251 |\n",
            "+--------------+--------------------+----------------+------------+-------------+------------------+-------------+-------------+\n",
            "| (2395, 2395) |         12047.1    |             37 |  20391.2   | 7.33645e-06 |              771 |  2726.72    | 0.000481632 |\n",
            "+--------------+--------------------+----------------+------------+-------------+------------------+-------------+-------------+\n"
          ]
        }
      ]
    },
    {
      "cell_type": "markdown",
      "metadata": {
        "id": "bT0n-kaIks3N"
      },
      "source": [
        "# **Cluster 2:**"
      ]
    },
    {
      "cell_type": "code",
      "metadata": {
        "id": "izdTulh2gHzw"
      },
      "source": [
        "matricies=[D1,D2,C3,C1,A1,C2]\n",
        "tol=1e-5\n",
        "itermax = 1000\n",
        "m=restart=30"
      ],
      "execution_count": 26,
      "outputs": []
    },
    {
      "cell_type": "code",
      "metadata": {
        "colab": {
          "base_uri": "https://localhost:8080/"
        },
        "id": "OjpYNs4GmEh7",
        "outputId": "25069a7f-297c-488d-cac1-30eb121fed57"
      },
      "source": [
        "my_data = []\n",
        "for i in range(len(matricies)):\n",
        "  l = []\n",
        "  n = len(matricies[i])\n",
        "  b=np.ones(n)\n",
        "  x = np.zeros(n)\n",
        "  itersc = gmres_iter(matricies[i],b,x,itermax,restart,tol)[1] \n",
        "  t3 = time()\n",
        "  y=gmres(matricies[i],b,x,tol,m,itermax)[0]\n",
        "  t4 = time()\n",
        "  sc_tmp = (t4-t3)*1000      # scipy time in ms \n",
        "  sc_res=lg.norm(np.dot(matricies[i],y)-b)\n",
        "  t1 = time()\n",
        "  x,iterm= The_GMRES_algorithm(matricies[i], b, x, m, tol, itermax)\n",
        "  t2 = time()\n",
        "  tmp = (t2-t1)*1000      # Our time in ms \n",
        "  res=lg.norm(np.dot(matricies[i],x)-b)\n",
        "  l.append(matricies[i].shape)\n",
        "  l.append(lg.cond(matricies[i]))\n",
        "  l.append(iterm)\n",
        "  l.append(tmp)\n",
        "  l.append(res)\n",
        "  l.append(itersc)\n",
        "  l.append(sc_tmp)\n",
        "  l.append(sc_res)\n",
        "  my_data.append(l)\n",
        "# create header\n",
        "head = ['matricies','condition number','Our_nbr_iter','time','res','scipy_nbr_iter','sc_time','sc_res']   \n",
        "# display table\n",
        "print(tabulate(my_data, headers=head, tablefmt=\"grid\")) "
      ],
      "execution_count": 27,
      "outputs": [
        {
          "output_type": "stream",
          "name": "stdout",
          "text": [
            "+--------------+--------------------+----------------+------------------+----------+------------------+-----------+----------+\n",
            "| matricies    |   condition number |   Our_nbr_iter |             time |      res |   scipy_nbr_iter |   sc_time |   sc_res |\n",
            "+==============+====================+================+==================+==========+==================+===========+==========+\n",
            "| (225, 225)   |        7.10097e+06 |           1000 |  49479.9         | 13.5361  |             1000 |   1742.63 | 13.5361  |\n",
            "+--------------+--------------------+----------------+------------------+----------+------------------+-----------+----------+\n",
            "| (207, 207)   |        1.35164e+08 |           1000 |  45958.3         | 13.4093  |             1000 |   1633.87 | 13.4093  |\n",
            "+--------------+--------------------+----------------+------------------+----------+------------------+-----------+----------+\n",
            "| (4884, 4884) |        4.94318e+09 |           1000 |      1.38033e+06 |  8.59811 |             1000 | 486985    |  8.59811 |\n",
            "+--------------+--------------------+----------------+------------------+----------+------------------+-----------+----------+\n",
            "| (1806, 1806) |        1.19232e+10 |           1000 | 401213           | 10.9899  |             1000 |  44574.4  | 10.9899  |\n",
            "+--------------+--------------------+----------------+------------------+----------+------------------+-----------+----------+\n",
            "| (485, 485)   |        3.89254e+12 |           1000 |  98756.2         | 17.4166  |             1000 |   3922.32 | 17.4128  |\n",
            "+--------------+--------------------+----------------+------------------+----------+------------------+-----------+----------+\n",
            "| (3562, 3562) |        1.80764e+13 |           1000 | 906716           | 14.0328  |             1000 | 259396    | 14.0518  |\n",
            "+--------------+--------------------+----------------+------------------+----------+------------------+-----------+----------+\n"
          ]
        }
      ]
    },
    {
      "cell_type": "markdown",
      "metadata": {
        "id": "H3akHCv8IRqE"
      },
      "source": [
        "# **Cluster 3:**"
      ]
    },
    {
      "cell_type": "code",
      "metadata": {
        "id": "FRoXJ2mfLa7i"
      },
      "source": [
        "matricies=[E2,E5,E6,E7,E8]\n",
        "tol=1e-5\n",
        "itermax = 1000\n",
        "m=restart=30"
      ],
      "execution_count": 19,
      "outputs": []
    },
    {
      "cell_type": "code",
      "metadata": {
        "colab": {
          "base_uri": "https://localhost:8080/"
        },
        "id": "k4e--0l-LiOE",
        "outputId": "4610ec5e-f5e5-4dc7-b011-d1c726fc5337"
      },
      "source": [
        "my_data = []\n",
        "for i in range(len(matricies)):\n",
        "  l = []\n",
        "  n = len(matricies[i])\n",
        "  b=np.ones(n)\n",
        "  x = np.zeros(n)\n",
        "  itersc = gmres_iter(matricies[i],b,x,itermax,restart,tol)[1] \n",
        "  t3 = time()\n",
        "  y=gmres(matricies[i],b,x,tol,m,itermax)[0]\n",
        "  t4 = time()\n",
        "  sc_tmp = (t4-t3)*1000      # scipy time in ms \n",
        "  sc_res=lg.norm(np.dot(matricies[i],y)-b)\n",
        "  t1 = time()\n",
        "  x,iterm= The_GMRES_algorithm(matricies[i], b, x, m, tol, itermax)\n",
        "  t2 = time()\n",
        "  tmp = (t2-t1)*1000      # Our time in ms \n",
        "  res=lg.norm(np.dot(matricies[i],x)-b)\n",
        "  l.append(matricies[i].shape)\n",
        "  l.append(lg.cond(matricies[i]))\n",
        "  l.append(iterm)\n",
        "  l.append(tmp)\n",
        "  l.append(res)\n",
        "  l.append(itersc)\n",
        "  l.append(sc_tmp)\n",
        "  l.append(sc_res)\n",
        "  my_data.append(l)\n",
        "# create header\n",
        "head = ['matricies','condition number','Our_nbr_iter','time','res','scipy_nbr_iter','sc_time','sc_res']   \n",
        "# display table\n",
        "print(tabulate(my_data, headers=head, tablefmt=\"grid\")) "
      ],
      "execution_count": 20,
      "outputs": [
        {
          "output_type": "stream",
          "name": "stdout",
          "text": [
            "+--------------+--------------------+----------------+-----------+-------------+------------------+-----------+-------------+\n",
            "| matricies    |   condition number |   Our_nbr_iter |      time |         res |   scipy_nbr_iter |   sc_time |      sc_res |\n",
            "+==============+====================+================+===========+=============+==================+===========+=============+\n",
            "| (991, 991)   |            142.045 |              2 |   392.645 | 2.03457e-07 |               37 |   17.4658 | 0.000230357 |\n",
            "+--------------+--------------------+----------------+-----------+-------------+------------------+-----------+-------------+\n",
            "| (1104, 1104) |           2178.63  |             16 |  3609.78  | 6.26214e-06 |              333 |  164.054  | 0.000326244 |\n",
            "+--------------+--------------------+----------------+-----------+-------------+------------------+-----------+-------------+\n",
            "| (2205, 2205) |           6745.27  |             10 |  5005.97  | 6.76815e-06 |              147 |  420.62   | 0.000466217 |\n",
            "+--------------+--------------------+----------------+-----------+-------------+------------------+-----------+-------------+\n",
            "| (1030, 1030) |          77142.8   |            103 | 21399.4   | 9.04525e-06 |             1000 | 1040.64   | 0.000320251 |\n",
            "+--------------+--------------------+----------------+-----------+-------------+------------------+-----------+-------------+\n",
            "| (2395, 2395) |          12047.1   |             37 | 20273.4   | 7.33645e-06 |              771 | 2857.23   | 0.000481632 |\n",
            "+--------------+--------------------+----------------+-----------+-------------+------------------+-----------+-------------+\n"
          ]
        }
      ]
    },
    {
      "cell_type": "markdown",
      "metadata": {
        "id": "ky2uwVj6nW_h"
      },
      "source": [
        "**Size of Krylov subspace: 20**\n"
      ]
    },
    {
      "cell_type": "code",
      "metadata": {
        "id": "IeDq2xR9MVwD"
      },
      "source": [
        "matricies=[E2,E5,E6,E7,E8]\n",
        "tol=1e-5\n",
        "itermax = 1000\n",
        "m=restart=20"
      ],
      "execution_count": 22,
      "outputs": []
    },
    {
      "cell_type": "code",
      "metadata": {
        "colab": {
          "base_uri": "https://localhost:8080/"
        },
        "id": "uVtc2iI_ROsl",
        "outputId": "060f167e-6eba-469f-d00a-b30f326cc7dd"
      },
      "source": [
        "my_data = []\n",
        "for i in range(len(matricies)):\n",
        "  l = []\n",
        "  n = len(matricies[i])\n",
        "  b=np.ones(n)\n",
        "  x = np.zeros(n)\n",
        "  itersc = gmres_iter(matricies[i],b,x,itermax,restart,tol)[1] \n",
        "  t3 = time()\n",
        "  y=gmres(matricies[i],b,x,tol,m,itermax)[0]\n",
        "  t4 = time()\n",
        "  sc_tmp = (t4-t3)*1000      # scipy time in ms \n",
        "  sc_res=lg.norm(np.dot(matricies[i],y)-b)\n",
        "  t1 = time()\n",
        "  x,iterm= The_GMRES_algorithm(matricies[i], b, x, m, tol, itermax)\n",
        "  t2 = time()\n",
        "  tmp = (t2-t1)*1000      # Our time in ms \n",
        "  res=lg.norm(np.dot(matricies[i],x)-b)\n",
        "  l.append(matricies[i].shape)\n",
        "  l.append(lg.cond(matricies[i]))\n",
        "  l.append(iterm)\n",
        "  l.append(tmp)\n",
        "  l.append(res)\n",
        "  l.append(itersc)\n",
        "  l.append(sc_tmp)\n",
        "  l.append(sc_res)\n",
        "  my_data.append(l)\n",
        "# create header\n",
        "head = ['matricies','condition number','Our_nbr_iter','time','res','scipy_nbr_iter','sc_time','sc_res']   \n",
        "# display table\n",
        "print(tabulate(my_data, headers=head, tablefmt=\"grid\")) "
      ],
      "execution_count": 23,
      "outputs": [
        {
          "output_type": "stream",
          "name": "stdout",
          "text": [
            "+--------------+--------------------+----------------+-----------+-------------+------------------+-----------+-------------+\n",
            "| matricies    |   condition number |   Our_nbr_iter |      time |         res |   scipy_nbr_iter |   sc_time |      sc_res |\n",
            "+==============+====================+================+===========+=============+==================+===========+=============+\n",
            "| (991, 991)   |            142.045 |              3 |   295.406 | 3.19246e-06 |               46 |   20.9105 | 0.000244903 |\n",
            "+--------------+--------------------+----------------+-----------+-------------+------------------+-----------+-------------+\n",
            "| (1104, 1104) |           2178.63  |             31 |  3324.01  | 8.03502e-06 |              478 |  245.253  | 0.000330533 |\n",
            "+--------------+--------------------+----------------+-----------+-------------+------------------+-----------+-------------+\n",
            "| (2205, 2205) |           6745.27  |             19 |  4729.16  | 8.22653e-06 |              189 |  474.733  | 0.000445333 |\n",
            "+--------------+--------------------+----------------+-----------+-------------+------------------+-----------+-------------+\n",
            "| (1030, 1030) |          77142.8   |            446 | 44096     | 9.8959e-06  |             1000 | 3066.24   | 0.000320602 |\n",
            "+--------------+--------------------+----------------+-----------+-------------+------------------+-----------+-------------+\n",
            "| (2395, 2395) |          12047.1   |            101 | 27518.9   | 9.74426e-06 |             1000 | 4961.6    | 0.000488514 |\n",
            "+--------------+--------------------+----------------+-----------+-------------+------------------+-----------+-------------+\n"
          ]
        }
      ]
    }
  ]
}