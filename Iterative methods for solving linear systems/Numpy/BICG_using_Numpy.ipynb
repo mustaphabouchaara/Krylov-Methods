{
  "nbformat": 4,
  "nbformat_minor": 0,
  "metadata": {
    "kernelspec": {
      "display_name": "Python 3",
      "language": "python",
      "name": "python3"
    },
    "language_info": {
      "codemirror_mode": {
        "name": "ipython",
        "version": 3
      },
      "file_extension": ".py",
      "mimetype": "text/x-python",
      "name": "python",
      "nbconvert_exporter": "python",
      "pygments_lexer": "ipython3",
      "version": "3.8.3"
    },
    "colab": {
      "name": "The_BICG_Benchmark.ipynb",
      "provenance": [],
      "collapsed_sections": []
    }
  },
  "cells": [
    {
      "cell_type": "code",
      "metadata": {
        "id": "8XbpqdsJDB8k"
      },
      "source": [
        "from scipy.sparse.linalg import bicg\n",
        "import numpy as np\n",
        "from numpy import linalg as lg\n",
        "from scipy.io import mmread\n",
        "from tabulate import tabulate\n",
        "from time import time\n",
        "\n",
        "A1=np.array(mmread('/content/bcsstk01.mtx.gz').todense())\n",
        "#A1.shape=(48,46) Non symmetrique\n",
        "A2=np.array(mmread('/content/impcol_c.mtx.gz').todense())\n",
        "#A2.shape=(137,137) Non symmetrique\n",
        "A3=np.array(mmread('/content/impcol_a.mtx.gz').todense())\n",
        "#A3.shape=(207,207) Non symmetrique\n",
        "A4=np.array(mmread('/content/mcca.mtx.gz').todense())\n",
        "#A4.shape=(180, 180) Non symmetrique\n",
        "A5=np.array(mmread('/content/bcsstm24.mtx.gz').todense())\n",
        "#A5.shape=(3562,3562) Symmetrique definie positive\n",
        "A6=np.array(mmread('/content/bcsstm19.mtx.gz').todense())\n",
        "#A6.shape=(817,817) Symmetrique definie positive\n",
        "\n",
        "B1=np.array(mmread('/content/bcsstk14.mtx.gz').todense())             \n",
        "# A1.shape=(1806, 1806) real symmetric positive definite\n",
        "B3=np.array(mmread('/content/bcsstm20.mtx.gz').todense())\n",
        "# A3.shape=(485,485) real symmetric positive definite\n",
        "B4=np.array(mmread('/content/bcsstm24.mtx.gz').todense())\n",
        "# A4.shape=(3562,3562) real symmetric positive definite\n",
        "B5=np.array(mmread('/content/bcsstm21.mtx.gz').todense())\n",
        "B6=np.array(mmread('/content/bcsstk16.mtx.gz').todense())\n",
        "B7=np.array(mmread('/content/bcsstk17.mtx.gz').todense())\n",
        "B8=np.array(mmread('/content/bcsstk18.mtx.gz').todense())\n",
        "B9=np.array(mmread('/content/bcsstm22.mtx.gz').todense())\n",
        "B10=np.array(mmread('/content/bcsstk27.mtx.gz').todense())\n",
        "B11=np.array(mmread('/content/bcsstm26.mtx.gz').todense())\n",
        "\n",
        "C1=np.array(mmread('/content/west0067.mtx.gz').todense())    \n",
        "C2=np.array(mmread('/content/jpwh_991.mtx.gz').todense())\n",
        "C3=np.array(mmread('/content/impcol_a.mtx.gz').todense())\n",
        "C4=np.array(mmread('/content/impcol_e.mtx.gz').todense())\n",
        "C5=np.array(mmread('/content/sherman4.mtx.gz').todense())\n",
        "C6=np.array(mmread('/content/orsreg_1.mtx.gz').todense())\n",
        "C7=np.array(mmread('/content/orsirr_1.mtx.gz').todense())\n",
        "C8=np.array(mmread('/content/add20.mtx.gz').todense())\n",
        "C9=np.array(mmread('/content/gre__185.mtx.gz').todense())\n",
        "C10=np.array(mmread('/content/fs_680_3.mtx.gz').todense())\n",
        "C11=np.array(mmread('/content/fs_680_2.mtx.gz').todense())\n",
        "C12=np.array(mmread('/content/west0381.mtx.gz').todense())\n",
        "C13=np.array(mmread('/content/e05r0200.mtx.gz').todense())"
      ],
      "execution_count": 8,
      "outputs": []
    },
    {
      "cell_type": "markdown",
      "metadata": {
        "id": "GG6uzCplmsZo"
      },
      "source": [
        "#**BICG Method**"
      ]
    },
    {
      "cell_type": "code",
      "metadata": {
        "id": "5PkwaqwgDB8n"
      },
      "source": [
        "def bicg_iter(A, b,x0,maxiter,tol):\n",
        "    num_iters = 0\n",
        "\n",
        "    def callback(xk):\n",
        "        nonlocal num_iters\n",
        "        num_iters += 1\n",
        "    return bicg(A, b, callback=callback,tol = tol,maxiter=maxiter)[0],num_iters\n",
        "\n",
        "def BICG(A,b,x0,tol,maxiter):\n",
        "  C=np.transpose(A)\n",
        "  r0=b-np.dot(A,x0)\n",
        "  rt0=r0/(lg.norm(r0)*lg.norm(r0))\n",
        "  p0=r0\n",
        "  pt0=rt0\n",
        "  i=0\n",
        "  while (i<maxiter):\n",
        "    alpha=np.dot(r0,rt0)/np.dot(np.dot(A,p0),pt0)\n",
        "    x1=x0+(alpha*p0)\n",
        "    r1=r0-alpha*np.dot(A,p0)\n",
        "    rt1=rt0-alpha*np.dot(C,pt0)\n",
        "    beta=np.dot(r1,rt1)/np.dot(r0,rt0)\n",
        "    p0=r1+beta*p0\n",
        "    pt0=rt1+beta*pt0\n",
        "    i=i+1\n",
        "    r0=r1\n",
        "    rt0=rt1\n",
        "    x0=x1\n",
        "    if lg.norm(r1)<tol:\n",
        "      break\n",
        "  return x1,i"
      ],
      "execution_count": 9,
      "outputs": []
    },
    {
      "cell_type": "markdown",
      "metadata": {
        "id": "n-_3jK1k3myd"
      },
      "source": [
        "# **Cluster 1:**"
      ]
    },
    {
      "cell_type": "code",
      "metadata": {
        "id": "CES808tZtL_u"
      },
      "source": [
        "matricies=[B5,C1,B9,C2]\n",
        "tol=1e-5\n",
        "itermax = 10000"
      ],
      "execution_count": 10,
      "outputs": []
    },
    {
      "cell_type": "code",
      "metadata": {
        "colab": {
          "base_uri": "https://localhost:8080/"
        },
        "id": "IRlFkzORtpGx",
        "outputId": "54fe7609-e8b4-49f9-ac6f-7b1f6803bbb3"
      },
      "source": [
        "my_data = []\n",
        "for i in range(len(matricies)):\n",
        "  l = []\n",
        "  n = len(matricies[i])\n",
        "  b=np.ones(n)\n",
        "  x = np.zeros(n)\n",
        "  itersc = bicg_iter(matricies[i],b,x,itermax,tol)[1]  \n",
        "  t3 = time()\n",
        "  y=bicg(matricies[i],b,x,tol,itermax)[0] \n",
        "  t4 = time()\n",
        "  sc_tmp = (t4-t3)*1000      # scipy time in ms \n",
        "  sc_res=lg.norm(np.dot(matricies[i],y)-b)\n",
        "  t1 = time()\n",
        "  x,iterm= BICG(matricies[i], b, x, tol,itermax) \n",
        "  t2 = time()\n",
        "  tmp = (t2-t1)*1000      # Our time in ms  \n",
        "  res=lg.norm(np.dot(matricies[i],x)-b)\n",
        "  l.append(matricies[i].shape)\n",
        "  l.append(lg.cond(matricies[i]))\n",
        "  l.append(iterm)\n",
        "  l.append(tmp)\n",
        "  l.append(res)\n",
        "  l.append(itersc)\n",
        "  l.append(sc_tmp)\n",
        "  l.append(sc_res)\n",
        "  my_data.append(l)\n",
        "# create header\n",
        "head = ['matricies','condition number','Our_nbr_iter','time','res','scipy_nbr_iter','sc_time','sc_res']  \n",
        "# display table\n",
        "print(tabulate(my_data, headers=head, tablefmt=\"grid\")) "
      ],
      "execution_count": 11,
      "outputs": [
        {
          "output_type": "stream",
          "name": "stdout",
          "text": [
            "+--------------+--------------------+----------------+-----------+-------------+------------------+-----------+-------------+\n",
            "| matricies    |   condition number |   Our_nbr_iter |      time |         res |   scipy_nbr_iter |   sc_time |      sc_res |\n",
            "+==============+====================+================+===========+=============+==================+===========+=============+\n",
            "| (3600, 3600) |            23.7154 |              3 | 121.666   | 8.60114e-12 |                3 |  83.6182  | 2.1765e-12  |\n",
            "+--------------+--------------------+----------------+-----------+-------------+------------------+-----------+-------------+\n",
            "| (67, 67)     |           130.217  |            133 |   7.98774 | 4.88637e-06 |              127 |  12.3634  | 6.95965e-05 |\n",
            "+--------------+--------------------+----------------+-----------+-------------+------------------+-----------+-------------+\n",
            "| (138, 138)   |           941.295  |             52 |   3.61943 | 7.82259e-06 |               45 |   5.03564 | 0.000101647 |\n",
            "+--------------+--------------------+----------------+-----------+-------------+------------------+-----------+-------------+\n",
            "| (991, 991)   |           142.045  |             48 |  83.1664  | 7.39276e-06 |               37 |  32.6228  | 0.000313851 |\n",
            "+--------------+--------------------+----------------+-----------+-------------+------------------+-----------+-------------+\n"
          ]
        }
      ]
    },
    {
      "cell_type": "markdown",
      "metadata": {
        "id": "FDKb3M48kXcA"
      },
      "source": [
        "# **Cluster 2:**"
      ]
    },
    {
      "cell_type": "code",
      "metadata": {
        "id": "p1K0TDo6Mp9-"
      },
      "source": [
        "matricies=[C7,B10,A6,B11,C8,C9]\n",
        "tol=1e-5\n",
        "itermax = 10000"
      ],
      "execution_count": 12,
      "outputs": []
    },
    {
      "cell_type": "code",
      "metadata": {
        "colab": {
          "base_uri": "https://localhost:8080/"
        },
        "id": "sPdI2F-CM8Gg",
        "outputId": "1c1fbc38-8a87-49aa-cea6-24ac8c51771f"
      },
      "source": [
        "my_data = []\n",
        "for i in range(len(matricies)):\n",
        "  l = []\n",
        "  n = len(matricies[i])\n",
        "  b=np.ones(n)\n",
        "  x = np.zeros(n)\n",
        "  itersc = bicg_iter(matricies[i],b,x,itermax,tol)[1]  \n",
        "  t3 = time()\n",
        "  y=bicg(matricies[i],b,x,tol,itermax)[0] \n",
        "  t4 = time()\n",
        "  sc_tmp = (t4-t3)*1000      # scipy time in ms \n",
        "  sc_res=lg.norm(np.dot(matricies[i],y)-b)\n",
        "  t1 = time()\n",
        "  x,iterm= BICG(matricies[i], b, x, tol,itermax) \n",
        "  t2 = time()\n",
        "  tmp = (t2-t1)*1000      # Our time in ms  \n",
        "  res=lg.norm(np.dot(matricies[i],x)-b)\n",
        "  l.append(matricies[i].shape)\n",
        "  l.append(lg.cond(matricies[i]))\n",
        "  l.append(iterm)\n",
        "  l.append(tmp)\n",
        "  l.append(res)\n",
        "  l.append(itersc)\n",
        "  l.append(sc_tmp)\n",
        "  l.append(sc_res)\n",
        "  my_data.append(l)\n",
        "# create header\n",
        "head = ['matricies','condition number','Our_nbr_iter','time','res','scipy_nbr_iter','sc_time','sc_res']  \n",
        "# display table\n",
        "print(tabulate(my_data, headers=head, tablefmt=\"grid\")) "
      ],
      "execution_count": 13,
      "outputs": [
        {
          "output_type": "stream",
          "name": "stdout",
          "text": [
            "+--------------+--------------------+----------------+------------+-------------+------------------+-----------+-------------+\n",
            "| matricies    |   condition number |   Our_nbr_iter |       time |         res |   scipy_nbr_iter |   sc_time |      sc_res |\n",
            "+==============+====================+================+============+=============+==================+===========+=============+\n",
            "| (1030, 1030) |            77142.8 |            978 |  1174.7    | 5.96212e-06 |              782 |   750.275 | 0.000207071 |\n",
            "+--------------+--------------------+----------------+------------+-------------+------------------+-----------+-------------+\n",
            "| (1224, 1224) |            24135.9 |           1005 |  1579.43   | 9.77683e-06 |              782 |   991.804 | 0.000346396 |\n",
            "+--------------+--------------------+----------------+------------+-------------+------------------+-----------+-------------+\n",
            "| (817, 817)   |           233734   |            544 |   417.995  | 5.99616e-06 |              393 |   251.322 | 0.00022379  |\n",
            "+--------------+--------------------+----------------+------------+-------------+------------------+-----------+-------------+\n",
            "| (1922, 1922) |           261567   |           2475 | 15965.2    | 9.9216e-06  |             1774 |  8143.08  | 0.000381515 |\n",
            "+--------------+--------------------+----------------+------------+-------------+------------------+-----------+-------------+\n",
            "| (2395, 2395) |            12047.1 |            399 |  5620.31   | 9.50025e-06 |              300 |  2899.56  | 0.000416779 |\n",
            "+--------------+--------------------+----------------+------------+-------------+------------------+-----------+-------------+\n",
            "| (185, 185)   |           181227   |            389 |    29.9857 | 7.00413e-06 |              268 |    29.788 | 0.000117191 |\n",
            "+--------------+--------------------+----------------+------------+-------------+------------------+-----------+-------------+\n"
          ]
        }
      ]
    },
    {
      "cell_type": "markdown",
      "metadata": {
        "id": "NhqyqA_3a4of"
      },
      "source": [
        "# **Cluster 3:**"
      ]
    },
    {
      "cell_type": "code",
      "metadata": {
        "id": "MyvwENi84Aru"
      },
      "source": [
        "matricies=[B6,B1,B4]\n",
        "tol=1e-5\n",
        "itermax = 100000"
      ],
      "execution_count": 14,
      "outputs": []
    },
    {
      "cell_type": "code",
      "metadata": {
        "colab": {
          "base_uri": "https://localhost:8080/"
        },
        "id": "M_yC4q-j4vdj",
        "outputId": "087ab359-e511-4dcc-babc-b5979ee39664"
      },
      "source": [
        "my_data = []\n",
        "for i in range(len(matricies)):\n",
        "  l = []\n",
        "  n = len(matricies[i])\n",
        "  b=np.ones(n)\n",
        "  x = np.zeros(n)\n",
        "  itersc = bicg_iter(matricies[i],b,x,itermax,tol)[1]  \n",
        "  t3 = time()\n",
        "  y=bicg(matricies[i],b,x,tol,itermax)[0] \n",
        "  t4 = time()\n",
        "  sc_tmp = (t4-t3)*1000      # scipy time in ms \n",
        "  sc_res=lg.norm(np.dot(matricies[i],y)-b)\n",
        "  t1 = time()\n",
        "  x,iterm= BICG(matricies[i], b, x, tol,itermax) \n",
        "  t2 = time()\n",
        "  tmp = (t2-t1)*1000      # Our time in ms  \n",
        "  res=lg.norm(np.dot(matricies[i],x)-b)\n",
        "  l.append(matricies[i].shape)\n",
        "  l.append(lg.cond(matricies[i]))\n",
        "  l.append(iterm)\n",
        "  l.append(tmp)\n",
        "  l.append(res)\n",
        "  l.append(itersc)\n",
        "  l.append(sc_tmp)\n",
        "  l.append(sc_res)\n",
        "  my_data.append(l)\n",
        "# create header\n",
        "head = ['matricies','condition number','Our_nbr_iter','time','res','scipy_nbr_iter','sc_time','sc_res']  \n",
        "# display table\n",
        "print(tabulate(my_data, headers=head, tablefmt=\"grid\")) "
      ],
      "execution_count": 15,
      "outputs": [
        {
          "output_type": "stream",
          "name": "stdout",
          "text": [
            "+--------------+--------------------+----------------+----------+-------------+------------------+-----------+-------------+\n",
            "| matricies    |   condition number |   Our_nbr_iter |     time |         res |   scipy_nbr_iter |   sc_time |      sc_res |\n",
            "+==============+====================+================+==========+=============+==================+===========+=============+\n",
            "| (4884, 4884) |        4.94318e+09 |            484 |  24100.3 | 9.60472e-06 |              447 |   16598.2 | 0.000626704 |\n",
            "+--------------+--------------------+----------------+----------+-------------+------------------+-----------+-------------+\n",
            "| (1806, 1806) |        1.19232e+10 |          15368 | 101710   | 8.65357e-06 |            14038 |   67899.9 | 0.00032098  |\n",
            "+--------------+--------------------+----------------+----------+-------------+------------------+-----------+-------------+\n",
            "| (3562, 3562) |        1.80764e+13 |          30581 | 832081   | 8.31527e-06 |            18229 |  337808   | 0.000538547 |\n",
            "+--------------+--------------------+----------------+----------+-------------+------------------+-----------+-------------+\n"
          ]
        }
      ]
    },
    {
      "cell_type": "markdown",
      "metadata": {
        "id": "mCMgGK1TlGNx"
      },
      "source": [
        "# **Cluster 4:**"
      ]
    },
    {
      "cell_type": "code",
      "metadata": {
        "id": "y5aAx4EGb_YS"
      },
      "source": [
        "matricies=[C3,C4,C10,C12]\n",
        "tol=1e-5\n",
        "itermax = 10000"
      ],
      "execution_count": 16,
      "outputs": []
    },
    {
      "cell_type": "code",
      "metadata": {
        "colab": {
          "base_uri": "https://localhost:8080/"
        },
        "id": "ZO3lgT5Zb_B_",
        "outputId": "fa61d319-4132-4db4-b8ef-4adc3933d3e5"
      },
      "source": [
        "my_data = []\n",
        "for i in range(len(matricies)):\n",
        "  l = []\n",
        "  n = len(matricies[i])\n",
        "  b=np.ones(n)\n",
        "  x = np.zeros(n)\n",
        "  itersc = bicg_iter(matricies[i],b,x,itermax,tol)[1]  \n",
        "  t3 = time()\n",
        "  y=bicg(matricies[i],b,x,tol,itermax)[0] \n",
        "  t4 = time()\n",
        "  sc_tmp = (t4-t3)*1000      # scipy time in ms \n",
        "  sc_res=lg.norm(np.dot(matricies[i],y)-b)\n",
        "  t1 = time()\n",
        "  x,iterm= BICG(matricies[i], b, x, tol,itermax) \n",
        "  t2 = time()\n",
        "  tmp = (t2-t1)*1000      # Our time in ms  \n",
        "  res=lg.norm(np.dot(matricies[i],x)-b)\n",
        "  l.append(matricies[i].shape)\n",
        "  l.append(lg.cond(matricies[i]))\n",
        "  l.append(iterm)\n",
        "  l.append(tmp)\n",
        "  l.append(res)\n",
        "  l.append(itersc)\n",
        "  l.append(sc_tmp)\n",
        "  l.append(sc_res)\n",
        "  my_data.append(l)\n",
        "# create header\n",
        "head = ['matricies','condition number','Our_nbr_iter','time','res','scipy_nbr_iter','sc_time','sc_res']  \n",
        "# display table\n",
        "print(tabulate(my_data, headers=head, tablefmt=\"grid\")) "
      ],
      "execution_count": 17,
      "outputs": [
        {
          "output_type": "stream",
          "name": "stdout",
          "text": [
            "+-------------+--------------------+----------------+----------+----------+------------------+-----------+-----------------+\n",
            "| matricies   |   condition number |   Our_nbr_iter |     time |      res |   scipy_nbr_iter |   sc_time |          sc_res |\n",
            "+=============+====================+================+==========+==========+==================+===========+=================+\n",
            "| (207, 207)  |        1.35164e+08 |          10000 |  881.309 | 81452.8  |            10000 |   1250.99 |     8.51795e+53 |\n",
            "+-------------+--------------------+----------------+----------+----------+------------------+-----------+-----------------+\n",
            "| (225, 225)  |        7.10097e+06 |          10000 |  901.936 |  4749.63 |            10000 |   1218.78 | 10658.4         |\n",
            "+-------------+--------------------+----------------+----------+----------+------------------+-----------+-----------------+\n",
            "| (680, 680)  |        3.58695e+06 |          10000 | 4986.74  |  7981.02 |            10000 |   4382.54 | 31028.8         |\n",
            "+-------------+--------------------+----------------+----------+----------+------------------+-----------+-----------------+\n",
            "| (381, 381)  |        1.25539e+06 |          10000 | 1805.19  |  7361.68 |            10000 |   2277.86 |   774.588       |\n",
            "+-------------+--------------------+----------------+----------+----------+------------------+-----------+-----------------+\n"
          ]
        }
      ]
    }
  ]
}