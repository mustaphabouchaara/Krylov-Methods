{
  "nbformat": 4,
  "nbformat_minor": 0,
  "metadata": {
    "colab": {
      "name": "The_Qmr_Benchmark.ipynb",
      "provenance": [],
      "collapsed_sections": []
    },
    "kernelspec": {
      "display_name": "Python 3",
      "language": "python",
      "name": "python3"
    },
    "language_info": {
      "codemirror_mode": {
        "name": "ipython",
        "version": 3
      },
      "file_extension": ".py",
      "mimetype": "text/x-python",
      "name": "python",
      "nbconvert_exporter": "python",
      "pygments_lexer": "ipython3",
      "version": "3.8.5"
    }
  },
  "cells": [
    {
      "cell_type": "code",
      "metadata": {
        "id": "Gw18_eF0PFtg"
      },
      "source": [
        "import numpy as np\n",
        "import numpy.linalg as lg\n",
        "from scipy.sparse.linalg import qmr\n",
        "from tabulate import tabulate\n",
        "from time import time\n",
        "from  scipy.io import mmread\n",
        "A1=np.array(mmread('/content/west0067.mtx.gz').todense())\n",
        "A2=np.array(mmread('/content/jpwh_991.mtx.gz').todense())\n",
        "A5=np.array(mmread('/content/impcol_a.mtx.gz').todense())\n",
        "A7=np.array(mmread('/content/impcol_e.mtx.gz').todense())\n",
        "A8=np.array(mmread('/content/sherman4.mtx.gz').todense())\n",
        "A10=np.array(mmread('/content/orsreg_1.mtx.gz').todense())\n",
        "A11=np.array(mmread('/content/orsirr_1.mtx.gz').todense())\n",
        "A12=np.array(mmread('/content/add20.mtx.gz').todense())\n",
        "A13=np.array(mmread('/content/gre__185.mtx.gz').todense())\n",
        "A14=np.array(mmread('/content/fs_680_3.mtx.gz').todense())\n",
        "A15=np.array(mmread('/content/fs_680_2.mtx.gz').todense())\n",
        "B1=np.array(mmread('/content/west0381.mtx.gz').todense())\n",
        "B2=np.array(mmread('/content/e05r0200.mtx.gz').todense())"
      ],
      "execution_count": 8,
      "outputs": []
    },
    {
      "cell_type": "markdown",
      "metadata": {
        "id": "kmmVg1vNPFtm"
      },
      "source": [
        "# The Quasi Minimal Residual algorithm"
      ]
    },
    {
      "cell_type": "code",
      "metadata": {
        "id": "whLUhXa_PFtp"
      },
      "source": [
        "def qmr_iter(A, b,x0,maxiter,tol):\n",
        "    num_iters = 0\n",
        "\n",
        "    def callback(xk):\n",
        "        nonlocal num_iters\n",
        "        num_iters += 1\n",
        "    return qmr(A, b, callback=callback,tol = tol,maxiter=maxiter),num_iters\n",
        "\n",
        "\n",
        "\n",
        "\n",
        "def QMR(A, b, x,m, tol,Itermax):\n",
        "    r      = b-np.dot(A,x)\n",
        "    n      = A.shape[0] \n",
        "    beta   = np.linalg.norm(r)\n",
        "    V      = np.zeros((n,m+2))\n",
        "    W      = np.zeros((n,m+2))\n",
        "    V[:,1] = (r/beta) \n",
        "    W[:,1] = (r/beta)\n",
        "    alphaH = np.zeros(m+1) \n",
        "    betaH  = np.zeros(m+2)                                                        \n",
        "    deltaH = np.zeros(m+2)\n",
        "    \n",
        "    k  = 0\n",
        "    while k < Itermax and beta>tol:   \n",
        "        for j in range(1,m+1):\n",
        "            alphaH[j]  = np.dot(np.dot(A,V[:,j]),W[:,j])\n",
        "            vtelda     = np.dot(A,V[:,j])- alphaH[j]*V[:,j]- betaH[j]*V[:,j-1]\n",
        "            wtelda     = np.dot(A.T,W[:,j])- alphaH[j]*W[:,j]- deltaH[j]*W[:,j-1]\n",
        "            deltaH[j+1]= abs(np.dot(vtelda ,wtelda))**0.5\n",
        "            if deltaH[j+1]== 0:\n",
        "                break\n",
        "            else:\n",
        "                betaH[j+1] = np.dot(vtelda ,wtelda)/deltaH[j+1]\n",
        "                W[:,j+1]   = wtelda/betaH[j+1]\n",
        "                V[:,j+1]   = vtelda/deltaH[j+1]\n",
        "        H      = np.diag(alphaH[1:m+1])+np.diag(betaH[2:m+1],1)+np.diag(deltaH[2:m+1],-1)\n",
        "        em     = np.zeros(m)\n",
        "        em[m-1]  =1\n",
        "        Htelda = np.zeros((m+1,m))\n",
        "        Htelda[:m,:]= H\n",
        "        Htelda[m:m+1,:]  = deltaH[-1]*em\n",
        "        #The QMR Algorithm for Linear Systems\n",
        "        e1   = np.zeros(m+1)\n",
        "        e1[0]= 1\n",
        "        Vm   = V[:,1:m+1]\n",
        "        Q, R = np.linalg.qr(Htelda,mode='complete') \n",
        "        Rm   = R[:m,:m] \n",
        "        g    = beta*np.dot(np.transpose(Q),e1)\n",
        "        gm   = g[:m]\n",
        "        ym   = np.linalg.solve(Rm, gm)\n",
        "        # l'itération  de la méthode\n",
        "        x    = x+np.dot(Vm,ym)\n",
        "        r    = b - np.dot(A, x)\n",
        "        beta = np.linalg.norm(r)\n",
        "        V[:, 1] = r/beta \n",
        "        W[:,1]  = r/beta \n",
        "        k     = k + 1  \n",
        "    return x,k \n",
        "    "
      ],
      "execution_count": 2,
      "outputs": []
    },
    {
      "cell_type": "markdown",
      "metadata": {
        "id": "FAdzdnsrPFtr"
      },
      "source": [
        "# Test"
      ]
    },
    {
      "cell_type": "code",
      "metadata": {
        "id": "g3PHt5CD8iM3",
        "colab": {
          "base_uri": "https://localhost:8080/"
        },
        "outputId": "441c79fe-0acf-4234-bcd7-2d085df49fae"
      },
      "source": [
        "n=100\n",
        "D1 = 2*np.eye(n) +np.diag(np.ones(n-1),-1)-np.diag(np.ones(n-1),1)\n",
        "print('codition umber :',lg.cond(D1))\n"
      ],
      "execution_count": 3,
      "outputs": [
        {
          "output_type": "stream",
          "name": "stdout",
          "text": [
            "codition umber : 1.4137006160045253\n"
          ]
        }
      ]
    },
    {
      "cell_type": "code",
      "metadata": {
        "colab": {
          "base_uri": "https://localhost:8080/"
        },
        "id": "8EyW1VJX9IAe",
        "outputId": "db20e7a7-2cd5-4ef2-facf-4c9ac05eb983"
      },
      "source": [
        "\n",
        "b = np.ones(n)\n",
        "x = np.ones(n)\n",
        "m = 20\n",
        "tol=1.e-5\n",
        "Itermax  = n\n",
        "xx,k11 = QMR(D1, b, x,m,tol, Itermax)\n",
        "print('nombre d iterations',k11)\n",
        "sol=np.linalg.solve(D1, b)\n",
        "err=np.linalg.norm(xx-sol)\n",
        "print(\"\\n L'erreur de la méthode: \\t \", err) \n",
        "y = qmr(D1,b)[0]\n",
        "print('scipy error',np.linalg.norm(y-sol))"
      ],
      "execution_count": 4,
      "outputs": [
        {
          "output_type": "stream",
          "name": "stdout",
          "text": [
            "nombre d iterations 1\n",
            "\n",
            " L'erreur de la méthode: \t  2.595966789165717e-08\n",
            "scipy error 1.9835423653078597e-05\n"
          ]
        }
      ]
    },
    {
      "cell_type": "code",
      "metadata": {
        "id": "FYF7KcG0Chh5"
      },
      "source": [
        "def qmr_iter(D1, b,x0,maxiter,tol):\n",
        "    num_iters = 0\n",
        "\n",
        "    def callback(xk):\n",
        "        nonlocal num_iters\n",
        "        num_iters += 1\n",
        "    return qmr(D1, b, callback=callback,tol = tol,maxiter=maxiter),num_iters"
      ],
      "execution_count": 5,
      "outputs": []
    },
    {
      "cell_type": "code",
      "metadata": {
        "colab": {
          "base_uri": "https://localhost:8080/"
        },
        "id": "mc2mmtSeC8dv",
        "outputId": "88bdefa4-315b-4c35-89d5-652aa44b4d7b"
      },
      "source": [
        "yy = qmr_iter(D1,b,x,Itermax,tol)\n",
        "print('scipy')\n",
        "print('le nombre d iteration est',yy[1])\n",
        "print('le residu',lg.norm(np.dot(D1,yy[0][0])-b))"
      ],
      "execution_count": 6,
      "outputs": [
        {
          "output_type": "stream",
          "name": "stdout",
          "text": [
            "scipy\n",
            "le nombre d iteration est 12\n",
            "le residu 4.581122535614598e-05\n"
          ]
        }
      ]
    },
    {
      "cell_type": "markdown",
      "metadata": {
        "id": "h28-85BfCq1z"
      },
      "source": [
        "# **Cluster 1:**"
      ]
    },
    {
      "cell_type": "code",
      "metadata": {
        "id": "nEtBDXzXCwPX"
      },
      "source": [
        "matricies=[A2,A8,A10,A12,A11,A15,A14]\n",
        "tol=1e-5\n",
        "itermax = 10000\n",
        "m=20"
      ],
      "execution_count": 10,
      "outputs": []
    },
    {
      "cell_type": "code",
      "metadata": {
        "colab": {
          "base_uri": "https://localhost:8080/"
        },
        "id": "MRKfqNjdDDln",
        "outputId": "a943feb9-5b77-4629-dec9-4761f8268262"
      },
      "source": [
        "my_data = []\n",
        "for i in range(len(matricies)):\n",
        "  l = []\n",
        "  n = len(matricies[i])\n",
        "  b=np.ones(n)\n",
        "  x = np.zeros(n)\n",
        "  itersc = qmr_iter(matricies[i],b,x,itermax,tol)[1] \n",
        "  t3 = time()\n",
        "  y=qmr(matricies[i],b,x,tol,itermax)[0]\n",
        "  t4 = time()\n",
        "  sc_tmp = (t4-t3)*1000      # scipy time in ms \n",
        "  sc_res=lg.norm(np.dot(matricies[i],y)-b)\n",
        "  t1 = time()\n",
        "  x,iterm= QMR(matricies[i], b, x,m, tol,itermax)\n",
        "  t2 = time()\n",
        "  tmp = (t2-t1)*1000      # Our time in ms \n",
        "  res=lg.norm(np.dot(matricies[i],x)-b)\n",
        "  l.append(matricies[i].shape)\n",
        "  l.append(lg.cond(matricies[i]))\n",
        "  l.append(iterm)\n",
        "  l.append(tmp)\n",
        "  l.append(res)\n",
        "  l.append(itersc)\n",
        "  l.append(sc_tmp)\n",
        "  l.append(sc_res)\n",
        "  my_data.append(l)\n",
        "# create header\n",
        "head = ['matricies','condition number','Our_nbr_iter','time','res','scipy_nbr_iter','sc_time','sc_res']    \n",
        "# display table\n",
        "print(tabulate(my_data, headers=head, tablefmt=\"grid\")) "
      ],
      "execution_count": 11,
      "outputs": [
        {
          "output_type": "stream",
          "name": "stdout",
          "text": [
            "+--------------+--------------------+----------------+------------+-------------+------------------+-----------+---------------+\n",
            "| matricies    |   condition number |   Our_nbr_iter |       time |         res |   scipy_nbr_iter |   sc_time |        sc_res |\n",
            "+==============+====================+================+============+=============+==================+===========+===============+\n",
            "| (991, 991)   |      142.045       |              3 |    84.3449 | 2.82825e-06 |               40 |   36.1195 |   0.00023833  |\n",
            "+--------------+--------------------+----------------+------------+-------------+------------------+-----------+---------------+\n",
            "| (1104, 1104) |     2178.63        |             36 |  1109.68   | 9.26386e-06 |              102 |  102.309  |   0.000125855 |\n",
            "+--------------+--------------------+----------------+------------+-------------+------------------+-----------+---------------+\n",
            "| (2205, 2205) |     6745.27        |             17 |  4117.5    | 8.69697e-06 |              124 |  895.763  |   0.000330726 |\n",
            "+--------------+--------------------+----------------+------------+-------------+------------------+-----------+---------------+\n",
            "| (2395, 2395) |    12047.1         |            101 | 26681.7    | 9.55898e-06 |              277 | 2431.2    |   0.000458665 |\n",
            "+--------------+--------------------+----------------+------------+-------------+------------------+-----------+---------------+\n",
            "| (1030, 1030) |    77142.8         |            212 |  4424.91   | 8.99158e-06 |              734 |  684.147  |   0.00031484  |\n",
            "+--------------+--------------------+----------------+------------+-------------+------------------+-----------+---------------+\n",
            "| (680, 680)   |   146782           |            207 |  2338.83   | 5.97749e-06 |             2485 | 1086.27   |   0.000260239 |\n",
            "+--------------+--------------------+----------------+------------+-------------+------------------+-----------+---------------+\n",
            "| (680, 680)   |        3.58695e+06 |           2579 | 28286.4    | 9.88264e-06 |            10000 | 4029.47   | 159.386       |\n",
            "+--------------+--------------------+----------------+------------+-------------+------------------+-----------+---------------+\n"
          ]
        }
      ]
    },
    {
      "cell_type": "markdown",
      "metadata": {
        "id": "spl0DNExCQzD"
      },
      "source": [
        "**Size of Krylov subspace: 30**"
      ]
    },
    {
      "cell_type": "code",
      "metadata": {
        "id": "mathttcZ928j"
      },
      "source": [
        "matricies=[A2,A8,A10,A12,A11,A15,A14]\n",
        "tol=1e-5\n",
        "itermax = 10000\n",
        "m=30"
      ],
      "execution_count": 12,
      "outputs": []
    },
    {
      "cell_type": "code",
      "metadata": {
        "colab": {
          "base_uri": "https://localhost:8080/"
        },
        "id": "S7XV4-JF978_",
        "outputId": "9eb610b4-528e-4a8d-af0b-ee844e393223"
      },
      "source": [
        "my_data = []\n",
        "for i in range(len(matricies)):\n",
        "  l = []\n",
        "  n = len(matricies[i])\n",
        "  b=np.ones(n)\n",
        "  x = np.zeros(n)\n",
        "  itersc = qmr_iter(matricies[i],b,x,itermax,tol)[1] \n",
        "  t3 = time()\n",
        "  y=qmr(matricies[i],b,x,tol,itermax)[0]\n",
        "  t4 = time()\n",
        "  sc_tmp = (t4-t3)*1000      # scipy time in ms \n",
        "  sc_res=lg.norm(np.dot(matricies[i],y)-b)\n",
        "  t1 = time()\n",
        "  x,iterm= QMR(matricies[i], b, x,m, tol,itermax)\n",
        "  t2 = time()\n",
        "  tmp = (t2-t1)*1000      # Our time in ms \n",
        "  res=lg.norm(np.dot(matricies[i],x)-b)\n",
        "  l.append(matricies[i].shape)\n",
        "  l.append(lg.cond(matricies[i]))\n",
        "  l.append(iterm)\n",
        "  l.append(tmp)\n",
        "  l.append(res)\n",
        "  l.append(itersc)\n",
        "  l.append(sc_tmp)\n",
        "  l.append(sc_res)\n",
        "  my_data.append(l)\n",
        "# create header\n",
        "head = ['matricies','condition number','Our_nbr_iter','time','res','scipy_nbr_iter','sc_time','sc_res']    \n",
        "# display table\n",
        "print(tabulate(my_data, headers=head, tablefmt=\"grid\")) "
      ],
      "execution_count": 13,
      "outputs": [
        {
          "output_type": "stream",
          "name": "stdout",
          "text": [
            "+--------------+--------------------+----------------+------------+-------------+------------------+-----------+---------------+\n",
            "| matricies    |   condition number |   Our_nbr_iter |       time |         res |   scipy_nbr_iter |   sc_time |        sc_res |\n",
            "+==============+====================+================+============+=============+==================+===========+===============+\n",
            "| (991, 991)   |      142.045       |              2 |    71.7578 | 1.70884e-06 |               40 |   39.3679 |   0.00023833  |\n",
            "+--------------+--------------------+----------------+------------+-------------+------------------+-----------+---------------+\n",
            "| (1104, 1104) |     2178.63        |             14 |   630.386  | 5.40375e-06 |              102 |  134.077  |   0.000125855 |\n",
            "+--------------+--------------------+----------------+------------+-------------+------------------+-----------+---------------+\n",
            "| (2205, 2205) |     6745.27        |             11 |  3835.71   | 9.51469e-06 |              124 |  794.369  |   0.000330726 |\n",
            "+--------------+--------------------+----------------+------------+-------------+------------------+-----------+---------------+\n",
            "| (2395, 2395) |    12047.1         |             37 | 14074.7    | 6.92806e-06 |              277 | 2754.19   |   0.000458665 |\n",
            "+--------------+--------------------+----------------+------------+-------------+------------------+-----------+---------------+\n",
            "| (1030, 1030) |    77142.8         |            134 |  4510.96   | 8.28601e-06 |              734 |  545.056  |   0.00031484  |\n",
            "+--------------+--------------------+----------------+------------+-------------+------------------+-----------+---------------+\n",
            "| (680, 680)   |   146782           |             91 |  1434.25   | 9.87322e-06 |             2485 | 1136.82   |   0.000260239 |\n",
            "+--------------+--------------------+----------------+------------+-------------+------------------+-----------+---------------+\n",
            "| (680, 680)   |        3.58695e+06 |           1165 | 18676.3    | 9.66488e-06 |            10000 | 4163.18   | 159.386       |\n",
            "+--------------+--------------------+----------------+------------+-------------+------------------+-----------+---------------+\n"
          ]
        }
      ]
    },
    {
      "cell_type": "markdown",
      "metadata": {
        "id": "vvfl4B4skvPP"
      },
      "source": [
        "# **Cluster 2:**"
      ]
    },
    {
      "cell_type": "code",
      "metadata": {
        "id": "b9Yl5JwnL6pB"
      },
      "source": [
        "matricies=[A1,A13,B2]\n",
        "tol=1e-5\n",
        "itermax = 1000\n",
        "m=20"
      ],
      "execution_count": 14,
      "outputs": []
    },
    {
      "cell_type": "code",
      "metadata": {
        "colab": {
          "base_uri": "https://localhost:8080/"
        },
        "id": "1VQZS2HnhqDz",
        "outputId": "20642ed6-e6ac-4010-d00d-79dc1e08f765"
      },
      "source": [
        "my_data = []\n",
        "for i in range(len(matricies)):\n",
        "  l = []\n",
        "  n = len(matricies[i])\n",
        "  b=np.ones(n)\n",
        "  x = np.zeros(n)\n",
        "  itersc = qmr_iter(matricies[i],b,x,itermax,tol)[1] \n",
        "  t3 = time()\n",
        "  y=qmr(matricies[i],b,x,tol,itermax)[0]\n",
        "  t4 = time()\n",
        "  sc_tmp = (t4-t3)*1000      # scipy time in ms \n",
        "  sc_res=lg.norm(np.dot(matricies[i],y)-b)\n",
        "  t1 = time()\n",
        "  x,iterm= QMR(matricies[i], b, x,m, tol,itermax)\n",
        "  t2 = time()\n",
        "  tmp = (t2-t1)*1000      # Our time in ms \n",
        "  res=lg.norm(np.dot(matricies[i],x)-b)\n",
        "  l.append(matricies[i].shape)\n",
        "  l.append(lg.cond(matricies[i]))\n",
        "  l.append(iterm)\n",
        "  l.append(tmp)\n",
        "  l.append(res)\n",
        "  l.append(itersc)\n",
        "  l.append(sc_tmp)\n",
        "  l.append(sc_res)\n",
        "  my_data.append(l)\n",
        "# create header\n",
        "head = ['matricies','condition number','Our_nbr_iter','time','res','scipy_nbr_iter','sc_time','sc_res']    \n",
        "# display table\n",
        "print(tabulate(my_data, headers=head, tablefmt=\"grid\")) "
      ],
      "execution_count": 15,
      "outputs": [
        {
          "output_type": "stream",
          "name": "stdout",
          "text": [
            "+-------------+--------------------+----------------+---------+-----------------+------------------+-----------+-------------+\n",
            "| matricies   |   condition number |   Our_nbr_iter |    time |             res |   scipy_nbr_iter |   sc_time |      sc_res |\n",
            "+=============+====================+================+=========+=================+==================+===========+=============+\n",
            "| (67, 67)    |            130.217 |           1000 | 1565.21 |     4.7464e+144 |              122 |   14.7717 | 7.44958e-05 |\n",
            "+-------------+--------------------+----------------+---------+-----------------+------------------+-----------+-------------+\n",
            "| (185, 185)  |         181227     |           1000 | 2255.92 |     9.98805e+34 |              290 |   39.314  | 0.00013313  |\n",
            "+-------------+--------------------+----------------+---------+-----------------+------------------+-----------+-------------+\n",
            "| (236, 236)  |          71941.1   |           1000 | 2355.12 | 23964.1         |              997 |  146.026  | 0.000129549 |\n",
            "+-------------+--------------------+----------------+---------+-----------------+------------------+-----------+-------------+\n"
          ]
        }
      ]
    },
    {
      "cell_type": "markdown",
      "metadata": {
        "id": "MhC-TFJd6Ld8"
      },
      "source": [
        "# **Cluster 3:**"
      ]
    },
    {
      "cell_type": "code",
      "metadata": {
        "id": "9paHTv9TEVPR"
      },
      "source": [
        "matricies=[B1,A7,A5]\n",
        "tol=1e-5\n",
        "itermax = 1000\n",
        "m=20"
      ],
      "execution_count": 16,
      "outputs": []
    },
    {
      "cell_type": "code",
      "metadata": {
        "colab": {
          "base_uri": "https://localhost:8080/"
        },
        "id": "AIGVq_viEVNC",
        "outputId": "3f416994-fb36-4ba1-f3ba-53b0d8365cf2"
      },
      "source": [
        "my_data = []\n",
        "for i in range(len(matricies)):\n",
        "  l = []\n",
        "  n = len(matricies[i])\n",
        "  b=np.ones(n)\n",
        "  x = np.zeros(n)\n",
        "  itersc = qmr_iter(matricies[i],b,x,itermax,tol)[1] \n",
        "  t3 = time()\n",
        "  y=qmr(matricies[i],b,x,tol,itermax)[0]\n",
        "  t4 = time()\n",
        "  sc_tmp = (t4-t3)*1000      # scipy time in ms \n",
        "  sc_res=lg.norm(np.dot(matricies[i],y)-b)\n",
        "  t1 = time()\n",
        "  x,iterm= QMR(matricies[i], b, x,m, tol,itermax)\n",
        "  t2 = time()\n",
        "  tmp = (t2-t1)*1000      # Our time in ms \n",
        "  res=lg.norm(np.dot(matricies[i],x)-b)\n",
        "  l.append(matricies[i].shape)\n",
        "  l.append(lg.cond(matricies[i]))\n",
        "  l.append(iterm)\n",
        "  l.append(tmp)\n",
        "  l.append(res)\n",
        "  l.append(itersc)\n",
        "  l.append(sc_tmp)\n",
        "  l.append(sc_res)\n",
        "  my_data.append(l)\n",
        "# create header\n",
        "head = ['matricies','condition number','Our_nbr_iter','time','res','scipy_nbr_iter','sc_time','sc_res']    \n",
        "# display table\n",
        "print(tabulate(my_data, headers=head, tablefmt=\"grid\")) "
      ],
      "execution_count": 17,
      "outputs": [
        {
          "output_type": "stream",
          "name": "stdout",
          "text": [
            "+-------------+--------------------+----------------+---------+-------------+------------------+-----------+----------+\n",
            "| matricies   |   condition number |   Our_nbr_iter |    time |         res |   scipy_nbr_iter |   sc_time |   sc_res |\n",
            "+=============+====================+================+=========+=============+==================+===========+==========+\n",
            "| (381, 381)  |        1.25539e+06 |           1000 | 4563.23 | 2.73872e+78 |             1000 |   236.679 |  35.6114 |\n",
            "+-------------+--------------------+----------------+---------+-------------+------------------+-----------+----------+\n",
            "| (225, 225)  |        7.10097e+06 |           1000 | 2322.64 | 3.08488e+41 |             1000 |   138.431 |  23.9848 |\n",
            "+-------------+--------------------+----------------+---------+-------------+------------------+-----------+----------+\n",
            "| (207, 207)  |        1.35164e+08 |           1000 | 2248.65 | 5.08754e+38 |             1000 |   173.491 |  14.699  |\n",
            "+-------------+--------------------+----------------+---------+-------------+------------------+-----------+----------+\n"
          ]
        }
      ]
    }
  ]
}