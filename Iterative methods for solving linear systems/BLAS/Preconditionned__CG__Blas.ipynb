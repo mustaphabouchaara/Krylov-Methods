{
  "nbformat": 4,
  "nbformat_minor": 0,
  "metadata": {
    "colab": {
      "name": "Preconditionned__CG__Blas.ipynb",
      "provenance": [],
      "collapsed_sections": []
    },
    "kernelspec": {
      "name": "python3",
      "display_name": "Python 3"
    },
    "language_info": {
      "name": "python"
    }
  },
  "cells": [
    {
      "cell_type": "code",
      "metadata": {
        "id": "9CDi5-azxYD9"
      },
      "source": [
        "import numpy as np\n",
        "import numpy.linalg as lg \n",
        "from  scipy.io import mmread\n",
        "from scipy.sparse.linalg import cg\n",
        "from scipy.linalg import blas\n",
        "from tabulate import tabulate\n",
        "A1=np.array(mmread('/content/bcsstk14.mtx.gz').todense())\n",
        "# A1.shape=(1806, 1806) real symmetric positive definite\n",
        "A2=np.array(mmread('/content/bcsstm19.mtx.gz').todense())\n",
        "# A2.shape=(817,817) real symmetric positive definite\n",
        "A3=np.array(mmread('/content/bcsstm20.mtx.gz').todense())\n",
        "# A3.shape=(485,485) real symmetric positive definite\n",
        "A4=np.array(mmread('/content/bcsstm24.mtx.gz').todense())\n",
        "# A4.shape=(3562,3562) real symmetric positive definite\n",
        "B1=np.array(mmread('/content/bcsstm21.mtx.gz').todense())\n",
        "B2=np.array(mmread('/content/bcsstk16.mtx.gz').todense())\n",
        "B3=np.array(mmread('/content/bcsstk17.mtx.gz').todense())\n",
        "B4=np.array(mmread('/content/bcsstk18.mtx.gz').todense())\n",
        "C1=np.array(mmread('/content/bcsstm22.mtx.gz').todense())\n",
        "C2=np.array(mmread('/content/bcsstk27.mtx.gz').todense())\n",
        "C3=np.array(mmread('/content/bcsstm26.mtx.gz').todense())"
      ],
      "execution_count": 2,
      "outputs": []
    },
    {
      "cell_type": "markdown",
      "metadata": {
        "id": "f8bnbty_Ig2k"
      },
      "source": [
        "# **The preconditionned Conjugate Gradient:**"
      ]
    },
    {
      "cell_type": "markdown",
      "metadata": {
        "id": "OdN9fbMeIlR3"
      },
      "source": [
        "# The Jacobi:"
      ]
    },
    {
      "cell_type": "code",
      "metadata": {
        "id": "9EE2fS5XmC1v"
      },
      "source": [
        "def cgp_iter(A, b,x0,maxiter,tol,M):\n",
        "    num_iters = 0\n",
        "\n",
        "    def callback(xk):\n",
        "        nonlocal num_iters\n",
        "        num_iters += 1\n",
        "    return cg(A, b, callback=callback,tol = tol,maxiter=maxiter,M=lg.inv(M)),num_iters\n",
        "\n",
        "\n",
        "def Preconditionned_Conjugate_Gradient_Algorithm(A,b,x,itermax,tol):\n",
        "    M=np.tril(A, k=0)\n",
        "    r = b- blas.dgemv(1.0, A, x)  \n",
        "    z = p = blas.dgemv(1.0,lg.inv(M) , r)   \n",
        "    k = 0 \n",
        "    \n",
        "    while  blas.dnrm2(z) > tol :   \n",
        "        alpha1 =  blas.ddot(r, z)/ ( blas.ddot(blas.dgemv(1.0, A, p), p))                \n",
        "        x = x + alpha1*p\n",
        "        rpr=r.copy()\n",
        "        \n",
        "        r = rpr - blas.dgemv(alpha1, A, p)     \n",
        "        zpr = z.copy()\n",
        "        z =  blas.dgemv(1.0,lg.inv(M) , r)             \n",
        "        beta1 =  blas.ddot(r, z)/blas.ddot(rpr, zpr)    \n",
        "        p = z + beta1*p\n",
        "        k = k + 1\n",
        "    return x,k\n"
      ],
      "execution_count": 3,
      "outputs": []
    },
    {
      "cell_type": "code",
      "metadata": {
        "id": "rv_MpBSFsuAI"
      },
      "source": [
        "matricies=[A1,A4,C3]\n",
        "tol=1e-5\n",
        "itermax = 1000"
      ],
      "execution_count": null,
      "outputs": []
    },
    {
      "cell_type": "code",
      "metadata": {
        "colab": {
          "base_uri": "https://localhost:8080/"
        },
        "id": "E2yhRKmFst93",
        "outputId": "f2a68fe9-7bc1-4080-d8be-4736c231db0e"
      },
      "source": [
        "my_data = []\n",
        "for i in range(len(matricies)):\n",
        "  l = []\n",
        "  n = len(matricies[i])\n",
        "  M=np.diag(np.diag(matricies[i]))\n",
        "  b=np.ones(n)\n",
        "  x = np.zeros(n)\n",
        "  sol  = lg.solve(matricies[i], b)\n",
        "  itersc = cgp_iter(matricies[i],b,x,itermax,tol,M)[1]  \n",
        "  y=cg(matricies[i],b,x,tol,itermax,M=lg.inv(M))[0]\n",
        "  sc_err=np.linalg.norm(y-sol)\n",
        "  sc_res=lg.norm(np.dot(matricies[i],y)-b)\n",
        "  x,iterm  = Preconditionned_Conjugate_Gradient_Algorithm(matricies[i],b,x,itermax,tol)\n",
        "  err=lg.norm(x-sol)\n",
        "  res=lg.norm(np.dot(matricies[i],x)-b)\n",
        "  l.append(matricies[i].shape)\n",
        "  l.append(tol)\n",
        "  l.append(iterm)\n",
        "  l.append(res)\n",
        "  l.append(err)\n",
        "  l.append(itersc)\n",
        "  l.append(sc_res)\n",
        "  l.append(sc_err)\n",
        "  my_data.append(l)\n",
        "# create header\n",
        "head = ['matricies','tol','Our_nbr_iter','res','Our_err','scipy_nbr_iter','sc_res','scipy_err']\n",
        "  \n",
        "# display table\n",
        "print(tabulate(my_data, headers=head, tablefmt=\"grid\")) "
      ],
      "execution_count": null,
      "outputs": [
        {
          "output_type": "stream",
          "text": [
            "+--------------+-------+----------------+---------------+-------------+------------------+-------------+-------------+\n",
            "| matricies    |   tol |   Our_nbr_iter |           res |     Our_err |   scipy_nbr_iter |      sc_res |   scipy_err |\n",
            "+==============+=======+================+===============+=============+==================+=============+=============+\n",
            "| (1806, 1806) | 1e-05 |             38 | 254.592       | 0.000876595 |              370 | 0.000411509 | 2.05657e-10 |\n",
            "+--------------+-------+----------------+---------------+-------------+------------------+-------------+-------------+\n",
            "| (3562, 3562) | 1e-05 |              1 |   2.15852e-15 | 0           |                1 | 2.15852e-15 | 0           |\n",
            "+--------------+-------+----------------+---------------+-------------+------------------+-------------+-------------+\n",
            "| (1922, 1922) | 1e-05 |              1 |   1.73422e-15 | 0           |                1 | 9.71175e-15 | 1.25845e-10 |\n",
            "+--------------+-------+----------------+---------------+-------------+------------------+-------------+-------------+\n"
          ],
          "name": "stdout"
        }
      ]
    },
    {
      "cell_type": "markdown",
      "metadata": {
        "id": "GXnJ6ADTJNi7"
      },
      "source": [
        "# The symmetric Gauss-Seidel:"
      ]
    },
    {
      "cell_type": "code",
      "metadata": {
        "id": "FWJgkzt2JLBt"
      },
      "source": [
        "def cgp_iter(A, b,x0,maxiter,tol,M):\n",
        "    num_iters = 0\n",
        "\n",
        "    def callback(xk):\n",
        "        nonlocal num_iters\n",
        "        num_iters += 1\n",
        "    return cg(A, b, callback=callback,tol = tol,maxiter=maxiter,M=lg.inv(M)),num_iters\n",
        "\n",
        "\n",
        "def Preconditionned_Conjugate_Gradient_Algorithm(A,b,x,itermax,tol):\n",
        "    a=np.tril(A, k=0)\n",
        "    c=np.triu(A, k=0)\n",
        "    D=np.diag(np.diag(A))\n",
        "    M= np.matmul(a,np.matmul(lg.inv(D),c))\n",
        "    r = b-blas.dgemv(1.0, A, x)       \n",
        "    z = p = blas.dgemv(1.0,lg.inv(M) , r)         \n",
        "    k = 0 \n",
        "    \n",
        "    while blas.dnrm2(z) > tol :\n",
        "        alpha1 =  blas.ddot(r, z)/ ( blas.ddot(blas.dgemv(1.0, A, p), p))      \n",
        "        x = x + alpha1*p\n",
        "        rpr=r.copy()\n",
        "        \n",
        "        r = rpr - blas.dgemv(alpha1, A, p)      \n",
        "        zpr = z.copy()\n",
        "        z =  blas.dgemv(1.0,lg.inv(M) , r)             \n",
        "        beta1 =  blas.ddot(r, z)/blas.ddot(rpr, zpr)      \n",
        "        p = z + beta1*p\n",
        "        k = k + 1\n",
        "    return x,k\n"
      ],
      "execution_count": null,
      "outputs": []
    },
    {
      "cell_type": "code",
      "metadata": {
        "colab": {
          "base_uri": "https://localhost:8080/"
        },
        "id": "rt0cLQxxst66",
        "outputId": "2f34c50c-2cc2-4596-9713-02415c4f28af"
      },
      "source": [
        "my_data = []\n",
        "for i in range(len(matricies)):\n",
        "  l = []\n",
        "  n = len(matricies[i])\n",
        "  a=np.tril(matricies[i], k=0)\n",
        "  c=np.triu(matricies[i], k=0)\n",
        "  D=np.diag(np.diag(matricies[i]))\n",
        "  M= np.matmul(a,np.matmul(lg.inv(D),c))\n",
        "  b=np.ones(n)\n",
        "  x = np.zeros(n)\n",
        "  sol  = lg.solve(matricies[i], b)\n",
        "  itersc = cgp_iter(matricies[i],b,x,itermax,tol,M)[1]  \n",
        "  y=cg(matricies[i],b,x,tol,itermax,M=lg.inv(M))[0]\n",
        "  sc_err=np.linalg.norm(y-sol)\n",
        "  sc_res=lg.norm(np.dot(matricies[i],y)-b)\n",
        "  x,iterm  = Preconditionned_Conjugate_Gradient_Algorithm(matricies[i],b,x,itermax,tol)\n",
        "  err=lg.norm(x-sol)\n",
        "  res=lg.norm(np.dot(matricies[i],x)-b)\n",
        "  l.append(matricies[i].shape)\n",
        "  l.append(tol)\n",
        "  l.append(iterm)\n",
        "  l.append(res)\n",
        "  l.append(err)\n",
        "  l.append(itersc)\n",
        "  l.append(sc_res)\n",
        "  l.append(sc_err)\n",
        "  my_data.append(l)\n",
        "# create header\n",
        "head = ['matricies','tol','Our_nbr_iter','res','Our_err','scipy_nbr_iter','sc_res','scipy_err']\n",
        "  \n",
        "# display table\n",
        "print(tabulate(my_data, headers=head, tablefmt=\"grid\")) "
      ],
      "execution_count": null,
      "outputs": [
        {
          "output_type": "stream",
          "text": [
            "+--------------+-------+----------------+---------------+-------------+------------------+-------------+-------------+\n",
            "| matricies    |   tol |   Our_nbr_iter |           res |     Our_err |   scipy_nbr_iter |      sc_res |   scipy_err |\n",
            "+==============+=======+================+===============+=============+==================+=============+=============+\n",
            "| (1806, 1806) | 1e-05 |             19 | 162.565       | 0.000524533 |              175 | 0.000389337 | 3.20373e-10 |\n",
            "+--------------+-------+----------------+---------------+-------------+------------------+-------------+-------------+\n",
            "| (3562, 3562) | 1e-05 |              1 |   3.00376e-15 | 6.45239e-09 |                1 | 3.00376e-15 | 6.45239e-09 |\n",
            "+--------------+-------+----------------+---------------+-------------+------------------+-------------+-------------+\n",
            "| (1922, 1922) | 1e-05 |              1 |   2.90361e-15 | 4.16627e-11 |                1 | 9.00103e-15 | 1.18828e-10 |\n",
            "+--------------+-------+----------------+---------------+-------------+------------------+-------------+-------------+\n"
          ],
          "name": "stdout"
        }
      ]
    }
  ]
}