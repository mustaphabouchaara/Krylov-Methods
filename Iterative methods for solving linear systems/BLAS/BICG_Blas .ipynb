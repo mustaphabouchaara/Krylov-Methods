{
  "nbformat": 4,
  "nbformat_minor": 0,
  "metadata": {
    "kernelspec": {
      "display_name": "Python 3",
      "language": "python",
      "name": "python3"
    },
    "language_info": {
      "codemirror_mode": {
        "name": "ipython",
        "version": 3
      },
      "file_extension": ".py",
      "mimetype": "text/x-python",
      "name": "python",
      "nbconvert_exporter": "python",
      "pygments_lexer": "ipython3",
      "version": "3.8.3"
    },
    "colab": {
      "name": "BICG_Blas.ipynb",
      "provenance": [],
      "collapsed_sections": []
    }
  },
  "cells": [
    {
      "cell_type": "code",
      "metadata": {
        "id": "8XbpqdsJDB8k"
      },
      "source": [
        "from scipy.sparse.linalg import bicg\n",
        "from scipy.linalg import blas\n",
        "import numpy as np\n",
        "from numpy import linalg as lg\n",
        "from scipy.io import mmread\n",
        "from time import time\n",
        "from tabulate import tabulate\n",
        "from scipy.sparse import coo_matrix\n",
        "\n",
        "\n",
        "A1=np.array(mmread('/content/bcsstk01.mtx.gz').todense())\n",
        "#A1.shape=(48,46) Non symmetrique\n",
        "A2=np.array(mmread('/content/impcol_c.mtx.gz').todense())\n",
        "#A2.shape=(137,137) Non symmetrique\n",
        "A3=np.array(mmread('/content/impcol_a.mtx.gz').todense())\n",
        "#A3.shape=(207,207) Non symmetrique\n",
        "A4=np.array(mmread('/content/mcca.mtx.gz').todense())\n",
        "#A4.shape=(180, 180) Non symmetrique\n",
        "A5=np.array(mmread('/content/bcsstm24.mtx.gz').todense())\n",
        "#A5.shape=(3562,3562) Symmetrique definie positive\n",
        "A6=np.array(mmread('/content/bcsstm19.mtx.gz').todense())\n",
        "#A6.shape=(817,817) Symmetrique definie positive\n",
        "\n",
        "B1=np.array(mmread('/content/bcsstk14.mtx.gz').todense())             \n",
        "# A1.shape=(1806, 1806) real symmetric positive definite\n",
        "B3=np.array(mmread('/content/bcsstm20.mtx.gz').todense())\n",
        "# A3.shape=(485,485) real symmetric positive definite\n",
        "B4=np.array(mmread('/content/bcsstm24.mtx.gz').todense())\n",
        "# A4.shape=(3562,3562) real symmetric positive definite\n",
        "B5=np.array(mmread('/content/bcsstm21.mtx.gz').todense())\n",
        "B6=np.array(mmread('/content/bcsstk16.mtx.gz').todense())\n",
        "B7=np.array(mmread('/content/bcsstk17.mtx.gz').todense())\n",
        "B8=np.array(mmread('/content/bcsstk18.mtx.gz').todense())\n",
        "B9=np.array(mmread('/content/bcsstm22.mtx.gz').todense())\n",
        "B10=np.array(mmread('/content/bcsstk27.mtx.gz').todense())\n",
        "B11=np.array(mmread('/content/bcsstm26.mtx.gz').todense())\n",
        "\n",
        "C1=np.array(mmread('/content/west0067.mtx.gz').todense())    \n",
        "C2=np.array(mmread('/content/jpwh_991.mtx.gz').todense())\n",
        "C3=np.array(mmread('/content/impcol_a.mtx.gz').todense())\n",
        "C4=np.array(mmread('/content/impcol_e.mtx.gz').todense())\n",
        "C5=np.array(mmread('/content/sherman4.mtx.gz').todense())\n",
        "C6=np.array(mmread('/content/orsreg_1.mtx.gz').todense())\n",
        "C7=np.array(mmread('/content/orsirr_1.mtx.gz').todense())\n",
        "C8=np.array(mmread('/content/add20.mtx.gz').todense())\n",
        "C9=np.array(mmread('/content/gre__185.mtx.gz').todense())\n",
        "C10=np.array(mmread('/content/fs_680_3.mtx.gz').todense())\n",
        "C11=np.array(mmread('/content/fs_680_2.mtx.gz').todense())\n",
        "C12=np.array(mmread('/content/west0381.mtx.gz').todense())\n",
        "C13=np.array(mmread('/content/e05r0200.mtx.gz').todense())"
      ],
      "execution_count": 3,
      "outputs": []
    },
    {
      "cell_type": "markdown",
      "metadata": {
        "id": "GG6uzCplmsZo"
      },
      "source": [
        "#**BICG Method**"
      ]
    },
    {
      "cell_type": "code",
      "metadata": {
        "id": "5PkwaqwgDB8n"
      },
      "source": [
        "def bicg_iter(A, b,x0,maxiter,tol):\n",
        "    num_iters = 0\n",
        "\n",
        "    def callback(xk):\n",
        "        nonlocal num_iters\n",
        "        num_iters += 1\n",
        "    return bicg(A, b, callback=callback,tol = tol,maxiter=maxiter)[0],num_iters\n",
        "\n",
        "def BICG(A,b,x0,tol,maxiter):\n",
        "  C   = np.transpose(A)\n",
        "  r0  = b - blas.dgemv(1.0, A, x0)\n",
        "  rt0 = r0/( blas.dnrm2(r0)**2) \n",
        "  p0  = r0\n",
        "  pt0 = rt0\n",
        "  i   = 0\n",
        "  while (i<maxiter):\n",
        "    alpha = blas.ddot(r0,rt0)/ blas.ddot(blas.dgemv(1.0, A, p0), pt0)  \n",
        "    x1    = x0 + (alpha*p0)\n",
        "    r1    = r0 - blas.dgemv(alpha, A, p0)\n",
        "    rt1   = rt0- blas.dgemv(alpha, C, pt0)   \n",
        "    beta  = blas.ddot(r1,rt1)/ blas.ddot(r0,rt0)   \n",
        "    p0    = r1 + beta*p0\n",
        "    pt0   = rt1 + beta*pt0\n",
        "    i     = i+1\n",
        "    r0    = r1\n",
        "    rt0   = rt1\n",
        "    x0    = x1\n",
        "    if blas.dnrm2(r1)<tol:\n",
        "      break\n",
        "  return x1,i"
      ],
      "execution_count": 4,
      "outputs": []
    },
    {
      "cell_type": "markdown",
      "metadata": {
        "id": "n-_3jK1k3myd"
      },
      "source": [
        "# **Cluster 1:**"
      ]
    },
    {
      "cell_type": "code",
      "metadata": {
        "id": "CES808tZtL_u"
      },
      "source": [
        "matricies=[B5,C1,B9,C2]\n",
        "tol=1e-5\n",
        "itermax = 10000"
      ],
      "execution_count": 5,
      "outputs": []
    },
    {
      "cell_type": "code",
      "metadata": {
        "colab": {
          "base_uri": "https://localhost:8080/"
        },
        "id": "IRlFkzORtpGx",
        "outputId": "dea2899e-85a5-4749-e68a-603fb8515406"
      },
      "source": [
        "my_data = []\n",
        "for i in range(len(matricies)):\n",
        "  l = []\n",
        "  n = len(matricies[i])\n",
        "  b=np.ones(n)\n",
        "  x = np.zeros(n)\n",
        "  sol  = lg.solve(matricies[i], b)\n",
        "  itersc = bicg_iter(matricies[i],b,x,itermax,tol)[1]  \n",
        "  y=bicg(matricies[i],b,x,tol,itermax)[0]  \n",
        "  sc_err=np.linalg.norm(y-sol)\n",
        "  sc_res=lg.norm(np.dot(matricies[i],y)-b)\n",
        "  x,iterm= BICG(matricies[i], b, x, tol,itermax)   \n",
        "  err=lg.norm(x-sol)\n",
        "  res=lg.norm(np.dot(matricies[i],x)-b)\n",
        "  l.append(matricies[i].shape)\n",
        "  l.append(lg.cond(matricies[i]))\n",
        "  l.append(tol)\n",
        "  l.append(iterm)\n",
        "  l.append(res)\n",
        "  l.append(err)\n",
        "  l.append(itersc)\n",
        "  l.append(sc_res)\n",
        "  l.append(sc_err)\n",
        "  my_data.append(l)\n",
        "# create header\n",
        "head = ['matricies','conditio number','tol','Our_nbr_iter','res','Our_err','scipy_nbr_iter','sc_res','scipy_err']\n",
        "  \n",
        "# display table\n",
        "print(tabulate(my_data, headers=head, tablefmt=\"grid\")) "
      ],
      "execution_count": 6,
      "outputs": [
        {
          "output_type": "stream",
          "text": [
            "+--------------+-------------------+-------+----------------+-------------+-------------+------------------+-------------+-------------+\n",
            "| matricies    |   conditio number |   tol |   Our_nbr_iter |         res |     Our_err |   scipy_nbr_iter |      sc_res |   scipy_err |\n",
            "+==============+===================+=======+================+=============+=============+==================+=============+=============+\n",
            "| (3600, 3600) |           23.7154 | 1e-05 |              3 | 8.60114e-12 | 5.90499e-08 |                3 | 2.1765e-12  | 1.64624e-08 |\n",
            "+--------------+-------------------+-------+----------------+-------------+-------------+------------------+-------------+-------------+\n",
            "| (67, 67)     |          130.217  | 1e-05 |            134 | 4.03701e-06 | 4.32573e-06 |              127 | 6.95965e-05 | 5.99138e-05 |\n",
            "+--------------+-------------------+-------+----------------+-------------+-------------+------------------+-------------+-------------+\n",
            "| (138, 138)   |          941.295  | 1e-05 |             52 | 7.82259e-06 | 0.00427348  |               45 | 0.000101647 | 0.306652    |\n",
            "+--------------+-------------------+-------+----------------+-------------+-------------+------------------+-------------+-------------+\n",
            "| (991, 991)   |          142.045  | 1e-05 |             48 | 7.24558e-06 | 6.74401e-06 |               37 | 0.000313851 | 0.000367105 |\n",
            "+--------------+-------------------+-------+----------------+-------------+-------------+------------------+-------------+-------------+\n"
          ],
          "name": "stdout"
        }
      ]
    },
    {
      "cell_type": "markdown",
      "metadata": {
        "id": "-QC3P03KcQBc"
      },
      "source": [
        "# **Cluster 2:**"
      ]
    },
    {
      "cell_type": "code",
      "metadata": {
        "id": "yWxuTdjDcQkk"
      },
      "source": [
        "matricies=[C7,B10,A6,B11,C8,C9]\n",
        "tol=1e-5\n",
        "itermax = 10000"
      ],
      "execution_count": 7,
      "outputs": []
    },
    {
      "cell_type": "code",
      "metadata": {
        "colab": {
          "base_uri": "https://localhost:8080/"
        },
        "id": "cRLm-suYcQad",
        "outputId": "3c25fbf9-058e-4b59-f64f-60b257932c2e"
      },
      "source": [
        "my_data = []\n",
        "for i in range(len(matricies)):\n",
        "  l = []\n",
        "  n = len(matricies[i])\n",
        "  b=np.ones(n)\n",
        "  x = np.zeros(n)\n",
        "  sol  = lg.solve(matricies[i], b)\n",
        "  itersc = bicg_iter(matricies[i],b,x,itermax,tol)[1]  \n",
        "  y=bicg(matricies[i],b,x,tol,itermax)[0]  \n",
        "  sc_err=np.linalg.norm(y-sol)\n",
        "  sc_res=lg.norm(np.dot(matricies[i],y)-b)\n",
        "  x,iterm= BICG(matricies[i], b, x, tol,itermax)   \n",
        "  err=lg.norm(x-sol)\n",
        "  res=lg.norm(np.dot(matricies[i],x)-b)\n",
        "  l.append(matricies[i].shape)\n",
        "  l.append(lg.cond(matricies[i]))\n",
        "  l.append(tol)\n",
        "  l.append(iterm)\n",
        "  l.append(res)\n",
        "  l.append(err)\n",
        "  l.append(itersc)\n",
        "  l.append(sc_res)\n",
        "  l.append(sc_err)\n",
        "  my_data.append(l)\n",
        "# create header\n",
        "head = ['matricies','conditio number','tol','Our_nbr_iter','res','Our_err','scipy_nbr_iter','sc_res','scipy_err']\n",
        "  \n",
        "# display table\n",
        "print(tabulate(my_data, headers=head, tablefmt=\"grid\")) "
      ],
      "execution_count": 8,
      "outputs": [
        {
          "output_type": "stream",
          "text": [
            "+--------------+-------------------+-------+----------------+-------------+-------------+------------------+-------------+-------------+\n",
            "| matricies    |   conditio number |   tol |   Our_nbr_iter |         res |     Our_err |   scipy_nbr_iter |      sc_res |   scipy_err |\n",
            "+==============+===================+=======+================+=============+=============+==================+=============+=============+\n",
            "| (1030, 1030) |           77142.8 | 1e-05 |            974 | 7.02072e-06 | 1.74621e-07 |              782 | 0.000207071 | 5.09669e-06 |\n",
            "+--------------+-------------------+-------+----------------+-------------+-------------+------------------+-------------+-------------+\n",
            "| (1224, 1224) |           24135.9 | 1e-05 |           1003 | 8.13846e-06 | 4.97407e-09 |              782 | 0.000346396 | 1.46851e-07 |\n",
            "+--------------+-------------------+-------+----------------+-------------+-------------+------------------+-------------+-------------+\n",
            "| (817, 817)   |          233734   | 1e-05 |            539 | 9.75268e-06 | 1.81983e-08 |              393 | 0.00022379  | 2.69577e-07 |\n",
            "+--------------+-------------------+-------+----------------+-------------+-------------+------------------+-------------+-------------+\n",
            "| (1922, 1922) |          261567   | 1e-05 |           2475 | 9.9216e-06  | 0.0710455   |             1774 | 0.000381515 | 7.86527     |\n",
            "+--------------+-------------------+-------+----------------+-------------+-------------+------------------+-------------+-------------+\n",
            "| (2395, 2395) |           12047.1 | 1e-05 |            399 | 7.65573e-06 | 0.017474    |              300 | 0.000416779 | 1.50446     |\n",
            "+--------------+-------------------+-------+----------------+-------------+-------------+------------------+-------------+-------------+\n",
            "| (185, 185)   |          181227   | 1e-05 |            296 | 7.85702e-06 | 7.28407e-05 |              268 | 0.000117191 | 0.00059264  |\n",
            "+--------------+-------------------+-------+----------------+-------------+-------------+------------------+-------------+-------------+\n"
          ],
          "name": "stdout"
        }
      ]
    },
    {
      "cell_type": "markdown",
      "metadata": {
        "id": "bfW6BX8SdOOm"
      },
      "source": [
        "# **Cluster 3:**"
      ]
    },
    {
      "cell_type": "code",
      "metadata": {
        "id": "2Ahkce8xdOpd"
      },
      "source": [
        "matricies=[B6,B1,B4]\n",
        "tol=1e-5\n",
        "itermax = 100000"
      ],
      "execution_count": 11,
      "outputs": []
    },
    {
      "cell_type": "code",
      "metadata": {
        "colab": {
          "base_uri": "https://localhost:8080/"
        },
        "id": "-SvnzDcBdOi0",
        "outputId": "8c4e2f2f-ff15-4901-f580-ade92652f9de"
      },
      "source": [
        "my_data = []\n",
        "for i in range(len(matricies)):\n",
        "  l = []\n",
        "  n = len(matricies[i])\n",
        "  b=np.ones(n)\n",
        "  x = np.zeros(n)\n",
        "  sol  = lg.solve(matricies[i], b)\n",
        "  itersc = bicg_iter(matricies[i],b,x,itermax,tol)[1]  \n",
        "  y=bicg(matricies[i],b,x,tol,itermax)[0]  \n",
        "  sc_err=np.linalg.norm(y-sol)\n",
        "  sc_res=lg.norm(np.dot(matricies[i],y)-b)\n",
        "  x,iterm= BICG(matricies[i], b, x, tol,itermax)   \n",
        "  err=lg.norm(x-sol)\n",
        "  res=lg.norm(np.dot(matricies[i],x)-b)\n",
        "  l.append(matricies[i].shape)\n",
        "  l.append(lg.cond(matricies[i]))\n",
        "  l.append(tol)\n",
        "  l.append(iterm)\n",
        "  l.append(res)\n",
        "  l.append(err)\n",
        "  l.append(itersc)\n",
        "  l.append(sc_res)\n",
        "  l.append(sc_err)\n",
        "  my_data.append(l)\n",
        "# create header\n",
        "head = ['matricies','conditio number','tol','Our_nbr_iter','res','Our_err','scipy_nbr_iter','sc_res','scipy_err']\n",
        "  \n",
        "# display table\n",
        "print(tabulate(my_data, headers=head, tablefmt=\"grid\")) "
      ],
      "execution_count": 12,
      "outputs": [
        {
          "output_type": "stream",
          "text": [
            "+--------------+-------------------+-------+----------------+-------------+-------------+------------------+-------------+---------------+\n",
            "| matricies    |   conditio number |   tol |   Our_nbr_iter |         res |     Our_err |   scipy_nbr_iter |      sc_res |     scipy_err |\n",
            "+==============+===================+=======+================+=============+=============+==================+=============+===============+\n",
            "| (4884, 4884) |       4.94318e+09 | 1e-05 |            491 | 8.70378e-06 | 1.31541e-12 |              447 | 0.000626704 |   8.69545e-12 |\n",
            "+--------------+-------------------+-------+----------------+-------------+-------------+------------------+-------------+---------------+\n",
            "| (1806, 1806) |       1.19232e+10 | 1e-05 |          15759 | 7.48218e-06 | 2.5897e-09  |            14038 | 0.00032098  |   2.24046e-09 |\n",
            "+--------------+-------------------+-------+----------------+-------------+-------------+------------------+-------------+---------------+\n",
            "| (3562, 3562) |       1.80764e+13 | 1e-05 |          32184 | 6.40984e-06 | 5.42932     |            18229 | 0.000538547 | 527.254       |\n",
            "+--------------+-------------------+-------+----------------+-------------+-------------+------------------+-------------+---------------+\n"
          ],
          "name": "stdout"
        }
      ]
    },
    {
      "cell_type": "markdown",
      "metadata": {
        "id": "FDKb3M48kXcA"
      },
      "source": [
        "# **Cluster 4:**"
      ]
    },
    {
      "cell_type": "code",
      "metadata": {
        "id": "p1K0TDo6Mp9-"
      },
      "source": [
        "matricies=[C3,C4,C10,C12]\n",
        "tol=1e-5\n",
        "itermax = 10000"
      ],
      "execution_count": null,
      "outputs": []
    },
    {
      "cell_type": "code",
      "metadata": {
        "colab": {
          "base_uri": "https://localhost:8080/"
        },
        "id": "sPdI2F-CM8Gg",
        "outputId": "23ca52be-4957-419a-f858-dbe0ba82ef56"
      },
      "source": [
        "my_data = []\n",
        "for i in range(len(matricies)):\n",
        "  l = []\n",
        "  n = len(matricies[i])\n",
        "  b=np.ones(n)\n",
        "  x = np.zeros(n)\n",
        "  sol  = lg.solve(matricies[i], b)\n",
        "  itersc = bicg_iter(matricies[i],b,x,itermax,tol)[1]  \n",
        "  y=bicg(matricies[i],b,x,tol,itermax)[0]  \n",
        "  sc_err=np.linalg.norm(y-sol)\n",
        "  sc_res=lg.norm(np.dot(matricies[i],y)-b)\n",
        "  x,iterm= BICG(matricies[i], b, x, tol,itermax)   \n",
        "  err=lg.norm(x-sol)\n",
        "  res=lg.norm(np.dot(matricies[i],x)-b)\n",
        "  l.append(matricies[i].shape)\n",
        "  l.append(lg.cond(matricies[i]))\n",
        "  l.append(tol)\n",
        "  l.append(iterm)\n",
        "  l.append(res)\n",
        "  l.append(err)\n",
        "  l.append(itersc)\n",
        "  l.append(sc_res)\n",
        "  l.append(sc_err)\n",
        "  my_data.append(l)\n",
        "# create header\n",
        "head = ['matricies','conditio number','tol','Our_nbr_iter','res','Our_err','scipy_nbr_iter','sc_res','scipy_err']\n",
        "  \n",
        "# display table\n",
        "print(tabulate(my_data, headers=head, tablefmt=\"grid\")) "
      ],
      "execution_count": null,
      "outputs": [
        {
          "output_type": "stream",
          "text": [
            "+-------------+-------------------+-------+----------------+----------+------------------+------------------+-----------------+----------------+\n",
            "| matricies   |   conditio number |   tol |   Our_nbr_iter |      res |          Our_err |   scipy_nbr_iter |          sc_res |      scipy_err |\n",
            "+=============+===================+=======+================+==========+==================+==================+=================+================+\n",
            "| (207, 207)  |       1.35164e+08 | 1e-05 |          10000 | 81452.8  | 146662           |            10000 |     8.51795e+53 |    1.46861e+51 |\n",
            "+-------------+-------------------+-------+----------------+----------+------------------+------------------+-----------------+----------------+\n",
            "| (225, 225)  |       7.10097e+06 | 1e-05 |          10000 |  4749.63 |   7771.34        |            10000 | 10658.4         | 6979.06        |\n",
            "+-------------+-------------------+-------+----------------+----------+------------------+------------------+-----------------+----------------+\n",
            "| (680, 680)  |       3.58695e+06 | 1e-05 |          10000 |  7981.02 |      8.44073e-07 |            10000 | 31028.8         |    2.66334e-06 |\n",
            "+-------------+-------------------+-------+----------------+----------+------------------+------------------+-----------------+----------------+\n",
            "| (381, 381)  |       1.25539e+06 | 1e-05 |          10000 |  7361.68 |   5069.02        |            10000 |   774.588       | 2217.81        |\n",
            "+-------------+-------------------+-------+----------------+----------+------------------+------------------+-----------------+----------------+\n"
          ],
          "name": "stdout"
        }
      ]
    }
  ]
}