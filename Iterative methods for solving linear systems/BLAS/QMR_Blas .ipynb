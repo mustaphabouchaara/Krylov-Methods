{
  "nbformat": 4,
  "nbformat_minor": 0,
  "metadata": {
    "colab": {
      "name": "Qmr_Blas.ipynb",
      "provenance": [],
      "collapsed_sections": []
    },
    "kernelspec": {
      "display_name": "Python 3",
      "language": "python",
      "name": "python3"
    },
    "language_info": {
      "codemirror_mode": {
        "name": "ipython",
        "version": 3
      },
      "file_extension": ".py",
      "mimetype": "text/x-python",
      "name": "python",
      "nbconvert_exporter": "python",
      "pygments_lexer": "ipython3",
      "version": "3.8.5"
    }
  },
  "cells": [
    {
      "cell_type": "code",
      "metadata": {
        "id": "Gw18_eF0PFtg"
      },
      "source": [
        "import numpy as np\n",
        "import numpy.linalg as lg\n",
        "from scipy.sparse.linalg import qmr\n",
        "from scipy.linalg import blas\n",
        "from time import time\n",
        "from tabulate import tabulate\n",
        "from  scipy.io import mmread\n",
        "A1=np.array(mmread('/content/west0067.mtx.gz').todense())\n",
        "A2=np.array(mmread('/content/jpwh_991.mtx.gz').todense())\n",
        "A5=np.array(mmread('/content/impcol_a.mtx.gz').todense())\n",
        "A7=np.array(mmread('/content/impcol_e.mtx.gz').todense())\n",
        "A8=np.array(mmread('/content/sherman4.mtx.gz').todense())\n",
        "A10=np.array(mmread('/content/orsreg_1.mtx.gz').todense())\n",
        "A11=np.array(mmread('/content/orsirr_1.mtx.gz').todense())\n",
        "A12=np.array(mmread('/content/add20.mtx.gz').todense())\n",
        "A13=np.array(mmread('/content/gre__185.mtx.gz').todense())\n",
        "A14=np.array(mmread('/content/fs_680_3.mtx.gz').todense())\n",
        "A15=np.array(mmread('/content/fs_680_2.mtx.gz').todense())\n",
        "B1=np.array(mmread('/content/west0381.mtx.gz').todense())\n",
        "B2=np.array(mmread('/content/e05r0200.mtx.gz').todense())"
      ],
      "execution_count": 3,
      "outputs": []
    },
    {
      "cell_type": "markdown",
      "metadata": {
        "id": "kmmVg1vNPFtm"
      },
      "source": [
        "# The Quasi Minimal Residual algorithm"
      ]
    },
    {
      "cell_type": "code",
      "metadata": {
        "id": "whLUhXa_PFtp"
      },
      "source": [
        "def qmr_iter(A, b,x0,maxiter,tol):\n",
        "    num_iters = 0\n",
        "\n",
        "    def callback(xk):\n",
        "        nonlocal num_iters\n",
        "        num_iters += 1\n",
        "    return qmr(A, b, callback=callback,tol = tol,maxiter=maxiter),num_iters\n",
        "\n",
        "\n",
        "\n",
        "\n",
        "def QMR(A, b, x,m, tol,Itermax):\n",
        "    r      = b-blas.dgemv(1.0, A, x)\n",
        "    n      = A.shape[0] \n",
        "    beta   = blas.dnrm2(r)\n",
        "    V      = np.zeros((n,m+2))\n",
        "    W      = np.zeros((n,m+2))\n",
        "    V[:,1] = (r/beta) \n",
        "    W[:,1] = (r/beta)\n",
        "    alphaH = np.zeros(m+1) \n",
        "    betaH  = np.zeros(m+2)                                                        \n",
        "    deltaH = np.zeros(m+2)\n",
        "    \n",
        "    k  = 0\n",
        "    while k < Itermax and beta>tol:   \n",
        "        for j in range(1,m+1):\n",
        "            alphaH[j]  =  blas.ddot(blas.dgemv(1.0, A, V[:,j]), W[:,j])                              \n",
        "            vtelda     = blas.dgemv(1.0, A, V[:,j]) - alphaH[j]*V[:,j]- betaH[j]*V[:,j-1]  \n",
        "            wtelda     =  blas.dgemv(1.0, A.T,W[:,j]) - alphaH[j]*W[:,j]- deltaH[j]*W[:,j-1]           \n",
        "            deltaH[j+1]= abs(blas.ddot(vtelda,wtelda))**0.5      \n",
        "            if deltaH[j+1]== 0:\n",
        "                break\n",
        "            else:\n",
        "                betaH[j+1] = blas.ddot(vtelda,wtelda)/deltaH[j+1]\n",
        "                W[:,j+1]   = wtelda/betaH[j+1]\n",
        "                V[:,j+1]   = vtelda/deltaH[j+1]\n",
        "        H      = np.diag(alphaH[1:m+1])+np.diag(betaH[2:m+1],1)+np.diag(deltaH[2:m+1],-1)\n",
        "        em     = np.zeros(m)\n",
        "        em[m-1]  =1\n",
        "        Htelda = np.zeros((m+1,m))\n",
        "        Htelda[:m,:]= H\n",
        "        Htelda[m:m+1,:]  = deltaH[-1]*em\n",
        "        #The QMR Algorithm for Linear Systems\n",
        "        e1   = np.zeros(m+1)\n",
        "        e1[0]= 1\n",
        "        Vm   = V[:,1:m+1]\n",
        "        Q, R = np.linalg.qr(Htelda,mode='complete') \n",
        "        Rm   = R[:m,:m] \n",
        "        g    = blas.dgemv(beta, Q.T,e1)\n",
        "        gm   = g[:m]\n",
        "        ym   = np.linalg.solve(Rm, gm)\n",
        "        # l'itération  de la méthode\n",
        "        x    = x+ blas.dgemv(1.0,Vm ,ym )      \n",
        "        r    = b - blas.dgemv(1.0, A, x)  \n",
        "        beta = blas.dnrm2(r)\n",
        "        V[:, 1] = r/beta \n",
        "        W[:,1]  = r/beta \n",
        "        k     = k + 1  \n",
        "    return x,k \n",
        "    "
      ],
      "execution_count": 4,
      "outputs": []
    },
    {
      "cell_type": "markdown",
      "metadata": {
        "id": "FAdzdnsrPFtr"
      },
      "source": [
        "# Test"
      ]
    },
    {
      "cell_type": "code",
      "metadata": {
        "id": "g3PHt5CD8iM3",
        "colab": {
          "base_uri": "https://localhost:8080/"
        },
        "outputId": "ea63c4ca-edcf-47e4-df2f-b5d7ac58e9b1"
      },
      "source": [
        "n=100\n",
        "D1 = 2*np.eye(n) +np.diag(np.ones(n-1),-1)-np.diag(np.ones(n-1),1)\n",
        "print('codition umber :',lg.cond(D1))\n"
      ],
      "execution_count": null,
      "outputs": [
        {
          "output_type": "stream",
          "text": [
            "codition umber : 1.4137006160045253\n"
          ],
          "name": "stdout"
        }
      ]
    },
    {
      "cell_type": "code",
      "metadata": {
        "colab": {
          "base_uri": "https://localhost:8080/"
        },
        "id": "8EyW1VJX9IAe",
        "outputId": "add1098f-f1dc-4b9a-8f2b-d45f6f68e2eb"
      },
      "source": [
        "\n",
        "b = np.ones(n)\n",
        "x = np.ones(n)\n",
        "m = 20\n",
        "tol=1.e-5\n",
        "Itermax  = n\n",
        "xx,k11 = QMR(D1, b, x,m,tol, Itermax)\n",
        "print('nombre d iterations',k11)\n",
        "sol=np.linalg.solve(D1, b)\n",
        "err=np.linalg.norm(xx-sol)\n",
        "print(\"\\n L'erreur de la méthode: \\t \", err) \n",
        "y = qmr(D1,b)[0]\n",
        "print('scipy error',np.linalg.norm(y-sol))"
      ],
      "execution_count": null,
      "outputs": [
        {
          "output_type": "stream",
          "text": [
            "nombre d iterations 1\n",
            "\n",
            " L'erreur de la méthode: \t  2.5959667806653046e-08\n",
            "scipy error 1.9835423653078597e-05\n"
          ],
          "name": "stdout"
        }
      ]
    },
    {
      "cell_type": "code",
      "metadata": {
        "id": "FYF7KcG0Chh5"
      },
      "source": [
        "def qmr_iter(D1, b,x0,maxiter,tol):\n",
        "    num_iters = 0\n",
        "\n",
        "    def callback(xk):\n",
        "        nonlocal num_iters\n",
        "        num_iters += 1\n",
        "    return qmr(D1, b, callback=callback,tol = tol,maxiter=maxiter),num_iters"
      ],
      "execution_count": null,
      "outputs": []
    },
    {
      "cell_type": "code",
      "metadata": {
        "colab": {
          "base_uri": "https://localhost:8080/"
        },
        "id": "mc2mmtSeC8dv",
        "outputId": "1881284d-1b52-4d43-ff8b-dd9a1a50f8d9"
      },
      "source": [
        "yy = qmr_iter(D1,b,x,Itermax,tol)\n",
        "print('scipy')\n",
        "print('le nombre d iteration est',yy[1])\n",
        "print('le residu',lg.norm(np.dot(D1,yy[0][0])-b))"
      ],
      "execution_count": null,
      "outputs": [
        {
          "output_type": "stream",
          "text": [
            "scipy\n",
            "le nombre d iteration est 12\n",
            "le residu 4.581122535614598e-05\n"
          ],
          "name": "stdout"
        }
      ]
    },
    {
      "cell_type": "markdown",
      "metadata": {
        "id": "h28-85BfCq1z"
      },
      "source": [
        "# **Cluster 1:**"
      ]
    },
    {
      "cell_type": "code",
      "metadata": {
        "id": "l9WXEkVXjx5S"
      },
      "source": [
        "matricies=[A2,A8,A10,A12,A11,A15,A14]\n",
        "tol=1e-5\n",
        "itermax = 10000\n",
        "m=20"
      ],
      "execution_count": 5,
      "outputs": []
    },
    {
      "cell_type": "code",
      "metadata": {
        "colab": {
          "base_uri": "https://localhost:8080/"
        },
        "id": "-uPbpwpejyxK",
        "outputId": "dab7e012-6f63-4862-f464-6c3bb30014de"
      },
      "source": [
        "my_data = []\n",
        "for i in range(len(matricies)):\n",
        "  l = []\n",
        "  n = len(matricies[i])\n",
        "  b=np.ones(n)\n",
        "  x = np.zeros(n)\n",
        "  sol  = lg.solve(matricies[i], b)\n",
        "  itersc = qmr_iter(matricies[i],b,x,itermax,tol)[1] \n",
        "  y=qmr(matricies[i],b,x,tol,itermax)[0]\n",
        "  sc_err=np.linalg.norm(y-sol)\n",
        "  sc_res=lg.norm(np.dot(matricies[i],y)-b)\n",
        "  x,iterm= QMR(matricies[i], b, x,m, tol,itermax)\n",
        "  err=lg.norm(x-sol)\n",
        "  res=lg.norm(np.dot(matricies[i],x)-b)\n",
        "  l.append(matricies[i].shape)\n",
        "  l.append(lg.cond(matricies[i]))\n",
        "  l.append(tol)\n",
        "  l.append(iterm)\n",
        "  l.append(res)\n",
        "  l.append(err)\n",
        "  l.append(itersc)\n",
        "  l.append(sc_res)\n",
        "  l.append(sc_err)\n",
        "  my_data.append(l)\n",
        "# create header\n",
        "head = ['matricies','conditio number','tol','Our_nbr_iter','res','Our_err','scipy_nbr_iter','sc_res','scipy_err']\n",
        "  \n",
        "# display table\n",
        "print(tabulate(my_data, headers=head, tablefmt=\"grid\")) "
      ],
      "execution_count": 6,
      "outputs": [
        {
          "output_type": "stream",
          "text": [
            "+--------------+-------------------+-------+----------------+-------------+-------------+------------------+---------------+-------------+\n",
            "| matricies    |   conditio number |   tol |   Our_nbr_iter |         res |     Our_err |   scipy_nbr_iter |        sc_res |   scipy_err |\n",
            "+==============+===================+=======+================+=============+=============+==================+===============+=============+\n",
            "| (991, 991)   |     142.045       | 1e-05 |              3 | 2.82825e-06 | 3.84793e-06 |               40 |   0.00023833  | 0.000273709 |\n",
            "+--------------+-------------------+-------+----------------+-------------+-------------+------------------+---------------+-------------+\n",
            "| (1104, 1104) |    2178.63        | 1e-05 |             36 | 9.26387e-06 | 0.000269281 |              102 |   0.000125855 | 5.08072e-05 |\n",
            "+--------------+-------------------+-------+----------------+-------------+-------------+------------------+---------------+-------------+\n",
            "| (2205, 2205) |    6745.27        | 1e-05 |             20 | 4.47393e-06 | 7.49047e-07 |              124 |   0.000330726 | 2.20575e-05 |\n",
            "+--------------+-------------------+-------+----------------+-------------+-------------+------------------+---------------+-------------+\n",
            "| (2395, 2395) |   12047.1         | 1e-05 |            101 | 9.55898e-06 | 0.151605    |              277 |   0.000458665 | 3.53896     |\n",
            "+--------------+-------------------+-------+----------------+-------------+-------------+------------------+---------------+-------------+\n",
            "| (1030, 1030) |   77142.8         | 1e-05 |            195 | 5.76463e-06 | 1.65417e-07 |              734 |   0.00031484  | 1.51131e-05 |\n",
            "+--------------+-------------------+-------+----------------+-------------+-------------+------------------+---------------+-------------+\n",
            "| (680, 680)   |  146782           | 1e-05 |            190 | 9.29012e-06 | 1.17564e-14 |             2485 |   0.000260239 | 1.65294e-14 |\n",
            "+--------------+-------------------+-------+----------------+-------------+-------------+------------------+---------------+-------------+\n",
            "| (680, 680)   |       3.58695e+06 | 1e-05 |           2400 | 9.09338e-06 | 2.57179e-13 |            10000 | 159.386       | 1.65452e-07 |\n",
            "+--------------+-------------------+-------+----------------+-------------+-------------+------------------+---------------+-------------+\n"
          ],
          "name": "stdout"
        }
      ]
    },
    {
      "cell_type": "markdown",
      "metadata": {
        "id": "TKAAuyY7meJ1"
      },
      "source": [
        "**Size of Krylov subspace: 30**"
      ]
    },
    {
      "cell_type": "code",
      "metadata": {
        "id": "mathttcZ928j"
      },
      "source": [
        "matricies=[A2,A8,A10,A12,A11,A15,A14]\n",
        "tol=1e-5\n",
        "itermax = 10000\n",
        "m=30"
      ],
      "execution_count": 8,
      "outputs": []
    },
    {
      "cell_type": "code",
      "metadata": {
        "colab": {
          "base_uri": "https://localhost:8080/"
        },
        "id": "S7XV4-JF978_",
        "outputId": "8b784cf3-b940-4fde-9adb-3e3ec3f93c7b"
      },
      "source": [
        "my_data = []\n",
        "for i in range(len(matricies)):\n",
        "  l = []\n",
        "  n = len(matricies[i])\n",
        "  b=np.ones(n)\n",
        "  x = np.zeros(n)\n",
        "  sol  = lg.solve(matricies[i], b)\n",
        "  itersc = qmr_iter(matricies[i],b,x,itermax,tol)[1] \n",
        "  y=qmr(matricies[i],b,x,tol,itermax)[0]\n",
        "  sc_err=np.linalg.norm(y-sol)\n",
        "  sc_res=lg.norm(np.dot(matricies[i],y)-b)\n",
        "  x,iterm= QMR(matricies[i], b, x,m, tol,itermax)\n",
        "  err=lg.norm(x-sol)\n",
        "  res=lg.norm(np.dot(matricies[i],x)-b)\n",
        "  l.append(matricies[i].shape)\n",
        "  l.append(lg.cond(matricies[i]))\n",
        "  l.append(tol)\n",
        "  l.append(iterm)\n",
        "  l.append(res)\n",
        "  l.append(err)\n",
        "  l.append(itersc)\n",
        "  l.append(sc_res)\n",
        "  l.append(sc_err)\n",
        "  my_data.append(l)\n",
        "# create header\n",
        "head = ['matricies','conditio number','tol','Our_nbr_iter','res','Our_err','scipy_nbr_iter','sc_res','scipy_err']\n",
        "  \n",
        "# display table\n",
        "print(tabulate(my_data, headers=head, tablefmt=\"grid\")) "
      ],
      "execution_count": 9,
      "outputs": [
        {
          "output_type": "stream",
          "text": [
            "+--------------+-------------------+-------+----------------+-------------+-------------+------------------+---------------+-------------+\n",
            "| matricies    |   conditio number |   tol |   Our_nbr_iter |         res |     Our_err |   scipy_nbr_iter |        sc_res |   scipy_err |\n",
            "+==============+===================+=======+================+=============+=============+==================+===============+=============+\n",
            "| (991, 991)   |     142.045       | 1e-05 |              2 | 1.70886e-06 | 1.90872e-06 |               40 |   0.00023833  | 0.000273709 |\n",
            "+--------------+-------------------+-------+----------------+-------------+-------------+------------------+---------------+-------------+\n",
            "| (1104, 1104) |    2178.63        | 1e-05 |             15 | 4.14661e-06 | 8.6892e-05  |              102 |   0.000125855 | 5.08072e-05 |\n",
            "+--------------+-------------------+-------+----------------+-------------+-------------+------------------+---------------+-------------+\n",
            "| (2205, 2205) |    6745.27        | 1e-05 |             11 | 5.55614e-06 | 3.35614e-07 |              124 |   0.000330726 | 2.20575e-05 |\n",
            "+--------------+-------------------+-------+----------------+-------------+-------------+------------------+---------------+-------------+\n",
            "| (2395, 2395) |   12047.1         | 1e-05 |             37 | 6.92806e-06 | 0.104857    |              277 |   0.000458665 | 3.53896     |\n",
            "+--------------+-------------------+-------+----------------+-------------+-------------+------------------+---------------+-------------+\n",
            "| (1030, 1030) |   77142.8         | 1e-05 |             96 | 9.26269e-06 | 1.38526e-06 |              734 |   0.00031484  | 1.51131e-05 |\n",
            "+--------------+-------------------+-------+----------------+-------------+-------------+------------------+---------------+-------------+\n",
            "| (680, 680)   |  146782           | 1e-05 |            104 | 7.77072e-06 | 8.24183e-15 |             2485 |   0.000260239 | 1.65294e-14 |\n",
            "+--------------+-------------------+-------+----------------+-------------+-------------+------------------+---------------+-------------+\n",
            "| (680, 680)   |       3.58695e+06 | 1e-05 |           1210 | 9.90763e-06 | 2.81434e-13 |            10000 | 159.386       | 1.65452e-07 |\n",
            "+--------------+-------------------+-------+----------------+-------------+-------------+------------------+---------------+-------------+\n"
          ],
          "name": "stdout"
        }
      ]
    },
    {
      "cell_type": "markdown",
      "metadata": {
        "id": "vvfl4B4skvPP"
      },
      "source": [
        "# **Cluster 2:**"
      ]
    },
    {
      "cell_type": "code",
      "metadata": {
        "id": "b9Yl5JwnL6pB"
      },
      "source": [
        "matricies=[A1,A13,B2]\n",
        "tol=1e-5\n",
        "itermax = 1000\n",
        "m=20"
      ],
      "execution_count": 10,
      "outputs": []
    },
    {
      "cell_type": "code",
      "metadata": {
        "colab": {
          "base_uri": "https://localhost:8080/"
        },
        "id": "1VQZS2HnhqDz",
        "outputId": "fe4b67a6-74b0-4fc5-d8e0-be07cba55a7a"
      },
      "source": [
        "my_data = []\n",
        "for i in range(len(matricies)):\n",
        "  l = []\n",
        "  n = len(matricies[i])\n",
        "  b=np.ones(n)\n",
        "  x = np.zeros(n)\n",
        "  sol  = lg.solve(matricies[i], b)\n",
        "  itersc = qmr_iter(matricies[i],b,x,itermax,tol)[1] \n",
        "  y=qmr(matricies[i],b,x,tol,itermax)[0]\n",
        "  sc_err=np.linalg.norm(y-sol)\n",
        "  sc_res=lg.norm(np.dot(matricies[i],y)-b)\n",
        "  x,iterm= QMR(matricies[i], b, x,m, tol,itermax)\n",
        "  err=lg.norm(x-sol)\n",
        "  res=lg.norm(np.dot(matricies[i],x)-b)\n",
        "  l.append(matricies[i].shape)\n",
        "  l.append(lg.cond(matricies[i]))\n",
        "  l.append(tol)\n",
        "  l.append(iterm)\n",
        "  l.append(res)\n",
        "  l.append(err)\n",
        "  l.append(itersc)\n",
        "  l.append(sc_res)\n",
        "  l.append(sc_err)\n",
        "  my_data.append(l)\n",
        "# create header\n",
        "head = ['matricies','conditio number','tol','Our_nbr_iter','res','Our_err','scipy_nbr_iter','sc_res','scipy_err']\n",
        "  \n",
        "# display table\n",
        "print(tabulate(my_data, headers=head, tablefmt=\"grid\")) "
      ],
      "execution_count": 11,
      "outputs": [
        {
          "output_type": "stream",
          "text": [
            "+-------------+-------------------+-------+----------------+------------------+-------------------+------------------+-------------+-------------+\n",
            "| matricies   |   conditio number |   tol |   Our_nbr_iter |              res |           Our_err |   scipy_nbr_iter |      sc_res |   scipy_err |\n",
            "+=============+===================+=======+================+==================+===================+==================+=============+=============+\n",
            "| (67, 67)    |           130.217 | 1e-05 |           1000 |     2.68801e+149 |      2.03776e+149 |              122 | 7.44958e-05 | 9.68551e-05 |\n",
            "+-------------+-------------------+-------+----------------+------------------+-------------------+------------------+-------------+-------------+\n",
            "| (185, 185)  |        181227     | 1e-05 |           1000 |     2.36235e+32  |      1.23757e+33  |              290 | 0.00013313  | 0.00207137  |\n",
            "+-------------+-------------------+-------+----------------+------------------+-------------------+------------------+-------------+-------------+\n",
            "| (236, 236)  |         71941.1   | 1e-05 |           1000 | 20605.2          | 313670            |              997 | 0.000129549 | 0.0241479   |\n",
            "+-------------+-------------------+-------+----------------+------------------+-------------------+------------------+-------------+-------------+\n"
          ],
          "name": "stdout"
        }
      ]
    },
    {
      "cell_type": "markdown",
      "metadata": {
        "id": "MhC-TFJd6Ld8"
      },
      "source": [
        "# **Cluster 3:**"
      ]
    },
    {
      "cell_type": "code",
      "metadata": {
        "id": "9paHTv9TEVPR"
      },
      "source": [
        "matricies=[B1,A7,A5]\n",
        "tol=1e-5\n",
        "itermax = 1000\n",
        "m=20"
      ],
      "execution_count": 13,
      "outputs": []
    },
    {
      "cell_type": "code",
      "metadata": {
        "colab": {
          "base_uri": "https://localhost:8080/"
        },
        "id": "AIGVq_viEVNC",
        "outputId": "f7ce0b2f-d3d9-459c-c143-554d06671635"
      },
      "source": [
        "my_data = []\n",
        "for i in range(len(matricies)):\n",
        "  l = []\n",
        "  n = len(matricies[i])\n",
        "  b=np.ones(n)\n",
        "  x = np.zeros(n)\n",
        "  sol  = lg.solve(matricies[i], b)\n",
        "  itersc = qmr_iter(matricies[i],b,x,itermax,tol)[1] \n",
        "  y=qmr(matricies[i],b,x,tol,itermax)[0]\n",
        "  sc_err=np.linalg.norm(y-sol)\n",
        "  sc_res=lg.norm(np.dot(matricies[i],y)-b)\n",
        "  x,iterm= QMR(matricies[i], b, x,m, tol,itermax)\n",
        "  err=lg.norm(x-sol)\n",
        "  res=lg.norm(np.dot(matricies[i],x)-b)\n",
        "  l.append(matricies[i].shape)\n",
        "  l.append(lg.cond(matricies[i]))\n",
        "  l.append(tol)\n",
        "  l.append(iterm)\n",
        "  l.append(res)\n",
        "  l.append(err)\n",
        "  l.append(itersc)\n",
        "  l.append(sc_res)\n",
        "  l.append(sc_err)\n",
        "  my_data.append(l)\n",
        "# create header\n",
        "head = ['matricies','conditio number','tol','Our_nbr_iter','res','Our_err','scipy_nbr_iter','sc_res','scipy_err']\n",
        "  \n",
        "# display table\n",
        "print(tabulate(my_data, headers=head, tablefmt=\"grid\")) "
      ],
      "execution_count": 14,
      "outputs": [
        {
          "output_type": "stream",
          "text": [
            "+-------------+-------------------+-------+----------------+-------------+-------------+------------------+----------+-------------+\n",
            "| matricies   |   conditio number |   tol |   Our_nbr_iter |         res |     Our_err |   scipy_nbr_iter |   sc_res |   scipy_err |\n",
            "+=============+===================+=======+================+=============+=============+==================+==========+=============+\n",
            "| (381, 381)  |       1.25539e+06 | 1e-05 |           1000 | 2.46877e+76 | 1.23198e+76 |             1000 |  35.6114 |     1927.91 |\n",
            "+-------------+-------------------+-------+----------------+-------------+-------------+------------------+----------+-------------+\n",
            "| (225, 225)  |       7.10097e+06 | 1e-05 |           1000 | 2.2703e+34  | 6.03698e+32 |             1000 |  23.9848 |     1937.1  |\n",
            "+-------------+-------------------+-------+----------------+-------------+-------------+------------------+----------+-------------+\n",
            "| (207, 207)  |       1.35164e+08 | 1e-05 |           1000 | 1.12096e+36 | 1.03608e+35 |             1000 |  14.699  |   123248    |\n",
            "+-------------+-------------------+-------+----------------+-------------+-------------+------------------+----------+-------------+\n"
          ],
          "name": "stdout"
        }
      ]
    }
  ]
}