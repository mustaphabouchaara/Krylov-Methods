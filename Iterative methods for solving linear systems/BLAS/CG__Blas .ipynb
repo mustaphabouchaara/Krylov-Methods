{
  "nbformat": 4,
  "nbformat_minor": 0,
  "metadata": {
    "colab": {
      "name": "CG_ Blas.ipynb",
      "provenance": [],
      "collapsed_sections": []
    },
    "kernelspec": {
      "name": "python3",
      "display_name": "Python 3"
    },
    "language_info": {
      "name": "python"
    }
  },
  "cells": [
    {
      "cell_type": "code",
      "metadata": {
        "id": "iwME0vIUZSKW"
      },
      "source": [
        "import numpy as np\n",
        "import numpy.linalg as lg \n",
        "from scipy.sparse.linalg import cg\n",
        "from scipy.linalg import blas\n",
        "from time import time\n",
        "from tabulate import tabulate\n",
        "from  scipy.io import mmread\n",
        "A1=np.array(mmread('/content/bcsstk14.mtx.gz').todense())\n",
        "# A1.shape=(1806, 1806) real symmetric positive definite\n",
        "A2=np.array(mmread('/content/bcsstm19.mtx.gz').todense())\n",
        "# A2.shape=(817,817) real symmetric positive definite\n",
        "A3=np.array(mmread('/content/bcsstm20.mtx.gz').todense())\n",
        "# A3.shape=(485,485) real symmetric positive definite\n",
        "A4=np.array(mmread('/content/bcsstm24.mtx.gz').todense())\n",
        "# A4.shape=(3562,3562) real symmetric positive definite\n",
        "B1=np.array(mmread('/content/bcsstm21.mtx.gz').todense())\n",
        "B2=np.array(mmread('/content/bcsstk16.mtx.gz').todense())\n",
        "B3=np.array(mmread('/content/bcsstk17.mtx.gz').todense())\n",
        "B4=np.array(mmread('/content/bcsstk18.mtx.gz').todense())\n",
        "C1=np.array(mmread('/content/bcsstm22.mtx.gz').todense())\n",
        "C2=np.array(mmread('/content/bcsstk27.mtx.gz').todense())\n",
        "C3=np.array(mmread('/content/bcsstm26.mtx.gz').todense())"
      ],
      "execution_count": null,
      "outputs": []
    },
    {
      "cell_type": "markdown",
      "metadata": {
        "id": "y_mKrd9FZh7Y"
      },
      "source": [
        "## The Conjugate Gradient Algorithm"
      ]
    },
    {
      "cell_type": "code",
      "metadata": {
        "id": "WjoraEfcZf6X"
      },
      "source": [
        "def cg_iter(A, b,x0,maxiter,tol):\n",
        "    num_iters = 0\n",
        "\n",
        "    def callback(xk):\n",
        "        nonlocal num_iters\n",
        "        num_iters += 1\n",
        "    return cg(A, b, callback=callback,tol = tol,maxiter=maxiter),num_iters\n",
        "\n",
        "def The_Conjugate_Gradient_Algorithm(A,b,x,itermax,tol): \n",
        "    r    = p = b- blas.dgemv(1.0, A, x)\n",
        "    k    = 0   \n",
        "    while blas.dnrm2(r) > tol and k<itermax:    \n",
        "        alpha =  blas.dnrm2(r)**2/( blas.ddot(blas.dgemv(1.0, A, p), p))      \n",
        "        x     = x + alpha*p\n",
        "        rpr   = r.copy()        \n",
        "        r     = rpr - blas.dgemv(alpha, A, p)\n",
        "        beta  = (blas.dnrm2(r))**2/blas.dnrm2(rpr)**2\n",
        "        p     = r + beta*p\n",
        "        k     = k + 1   \n",
        "    return x, k\n"
      ],
      "execution_count": null,
      "outputs": []
    },
    {
      "cell_type": "markdown",
      "metadata": {
        "id": "KFeF11pmgxHQ"
      },
      "source": [
        "# **Cluster 1:**\n"
      ]
    },
    {
      "cell_type": "code",
      "metadata": {
        "id": "sLiHS8uHg7Fu"
      },
      "source": [
        "matricies=[B1,A2,A3,B2,C1,C2]\n",
        "tol=1e-5\n",
        "itermax = 1000"
      ],
      "execution_count": null,
      "outputs": []
    },
    {
      "cell_type": "code",
      "metadata": {
        "colab": {
          "base_uri": "https://localhost:8080/"
        },
        "id": "Uj499Tj2hXwn",
        "outputId": "86b31f9e-bd44-4332-88a9-32c9662b5894"
      },
      "source": [
        "my_data = []\n",
        "for i in range(len(matricies)):\n",
        "  l = []\n",
        "  n = len(matricies[i])\n",
        "  b=np.ones(n)\n",
        "  x = np.zeros(n)\n",
        "  sol  = lg.solve(matricies[i], b)\n",
        "  itersc = cg_iter(matricies[i],b,x,itermax,tol)[1]  \n",
        "  y=cg(matricies[i],b,x,tol,itermax)[0]\n",
        "  sc_err=np.linalg.norm(y-sol)\n",
        "  sc_res=lg.norm(np.dot(matricies[i],y)-b)\n",
        "  t1=time()\n",
        "  x,iterm  = The_Conjugate_Gradient_Algorithm(matricies[i],b,x,itermax,tol)\n",
        "  t2=time()\n",
        "  tmp=(t2-t1)*1000              # time in ms\n",
        "  err=lg.norm(x-sol)\n",
        "  res=lg.norm(np.dot(matricies[i],x)-b)\n",
        "  l.append(matricies[i].shape)\n",
        "  l.append(lg.cond(matricies[i]))\n",
        "  l.append(iterm)\n",
        "  l.append(res)\n",
        "  l.append(tmp)\n",
        "  l.append(err)\n",
        "  l.append(itersc)\n",
        "  l.append(sc_res)\n",
        "  l.append(sc_err)\n",
        "  my_data.append(l)\n",
        "# create header\n",
        "head = ['matricies','condition number','Our_nbr_iter','res','time(ms)','Our_err','scipy_nbr_iter','sc_res','scipy_err']\n",
        "  \n",
        "# display table\n",
        "print(tabulate(my_data, headers=head, tablefmt=\"grid\")) \n"
      ],
      "execution_count": null,
      "outputs": [
        {
          "output_type": "stream",
          "text": [
            "+--------------+--------------------+----------------+-------------+------------+-------------+------------------+-------------+-------------+\n",
            "| matricies    |   condition number |   Our_nbr_iter |         res |   time(ms) |     Our_err |   scipy_nbr_iter |      sc_res |   scipy_err |\n",
            "+==============+====================+================+=============+============+=============+==================+=============+=============+\n",
            "| (3600, 3600) |       23.7154      |              3 | 1.52728e-12 |   955.21   | 1.40091e-08 |                3 | 2.1765e-12  | 1.64624e-08 |\n",
            "+--------------+--------------------+----------------+-------------+------------+-------------+------------------+-------------+-------------+\n",
            "| (817, 817)   |   233734           |            485 | 7.97427e-06 |  3904.03   | 1.86289e-08 |              393 | 0.00022379  | 2.69577e-07 |\n",
            "+--------------+--------------------+----------------+-------------+------------+-------------+------------------+-------------+-------------+\n",
            "| (485, 485)   |   255381           |            282 | 8.35721e-06 |   433.315  | 1.48543e-08 |              261 | 0.000112466 | 1.80181e-07 |\n",
            "+--------------+--------------------+----------------+-------------+------------+-------------+------------------+-------------+-------------+\n",
            "| (4884, 4884) |        4.94318e+09 |            478 | 9.57412e-06 | 90778.8    | 1.58256e-13 |              441 | 0.000685533 | 1.14727e-11 |\n",
            "+--------------+--------------------+----------------+-------------+------------+-------------+------------------+-------------+-------------+\n",
            "| (138, 138)   |      941.295       |             51 | 6.07993e-06 |    10.6277 | 0.00713642  |               45 | 0.000101647 | 0.306652    |\n",
            "+--------------+--------------------+----------------+-------------+------------+-------------+------------------+-------------+-------------+\n",
            "| (1224, 1224) |    24135.9         |            980 | 8.52262e-06 | 13044.7    | 5.03422e-09 |              769 | 0.000348319 | 1.481e-07   |\n",
            "+--------------+--------------------+----------------+-------------+------------+-------------+------------------+-------------+-------------+\n"
          ],
          "name": "stdout"
        }
      ]
    },
    {
      "cell_type": "markdown",
      "metadata": {
        "id": "riA_tanLihVF"
      },
      "source": [
        "# **Cluster 2:**"
      ]
    },
    {
      "cell_type": "code",
      "metadata": {
        "id": "VMLf9HhiheUz"
      },
      "source": [
        "matricies=[A1,A4,C3]\n",
        "tol=1e-5\n",
        "itermax = 30000"
      ],
      "execution_count": null,
      "outputs": []
    },
    {
      "cell_type": "code",
      "metadata": {
        "colab": {
          "base_uri": "https://localhost:8080/"
        },
        "id": "3rRVw8vBi7aq",
        "outputId": "e0dfa115-2135-47d6-bc90-4c08997a065a"
      },
      "source": [
        "my_data = []\n",
        "for i in range(len(matricies)):\n",
        "  l = []\n",
        "  n = len(matricies[i])\n",
        "  b=np.ones(n)\n",
        "  x = np.zeros(n)\n",
        "  sol  = lg.solve(matricies[i], b)\n",
        "  itersc = cg_iter(matricies[i],b,x,itermax,tol)[1]  \n",
        "  y=cg(matricies[i],b,x,tol,itermax)[0]\n",
        "  sc_err=np.linalg.norm(y-sol)\n",
        "  sc_res=lg.norm(np.dot(matricies[i],y)-b)\n",
        "  t1=time()\n",
        "  x,iterm  = The_Conjugate_Gradient_Algorithm(matricies[i],b,x,itermax,tol)\n",
        "  t2=time()\n",
        "  tmp=(t2-t1)*1000              # time in ms\n",
        "  err=lg.norm(x-sol)\n",
        "  res=lg.norm(np.dot(matricies[i],x)-b)\n",
        "  l.append(matricies[i].shape)\n",
        "  l.append(lg.cond(matricies[i]))\n",
        "  l.append(iterm)\n",
        "  l.append(res)\n",
        "  l.append(tmp)\n",
        "  l.append(err)\n",
        "  l.append(itersc)\n",
        "  l.append(sc_res)\n",
        "  l.append(sc_err)\n",
        "  my_data.append(l)\n",
        "# create header\n",
        "head = ['matricies','condition number','Our_nbr_iter','res','time(ms)','Our_err','scipy_nbr_iter','sc_res','scipy_err']\n",
        "  \n",
        "# display table\n",
        "print(tabulate(my_data, headers=head, tablefmt=\"grid\")) \n"
      ],
      "execution_count": null,
      "outputs": [
        {
          "output_type": "stream",
          "text": [
            "+--------------+--------------------+----------------+-------------+------------------+-------------+------------------+-------------+---------------+\n",
            "| matricies    |   condition number |   Our_nbr_iter |         res |         time(ms) |     Our_err |   scipy_nbr_iter |      sc_res |     scipy_err |\n",
            "+==============+====================+================+=============+==================+=============+==================+=============+===============+\n",
            "| (1806, 1806) |        1.19232e+10 |          14170 | 9.52212e-06 | 919354           | 8.26869e-11 |            12822 | 0.000386238 |   2.48844e-09 |\n",
            "+--------------+--------------------+----------------+-------------+------------------+-------------+------------------+-------------+---------------+\n",
            "| (3562, 3562) |        1.80764e+13 |          23589 | 9.95552e-06 |      5.95875e+06 | 5.43079     |            18229 | 0.000538547 | 527.254       |\n",
            "+--------------+--------------------+----------------+-------------+------------------+-------------+------------------+-------------+---------------+\n",
            "| (1922, 1922) |   261567           |           2304 | 7.52307e-06 |  96038.9         | 0.0866237   |             1774 | 0.000381515 |   7.86527     |\n",
            "+--------------+--------------------+----------------+-------------+------------------+-------------+------------------+-------------+---------------+\n"
          ],
          "name": "stdout"
        }
      ]
    }
  ]
}