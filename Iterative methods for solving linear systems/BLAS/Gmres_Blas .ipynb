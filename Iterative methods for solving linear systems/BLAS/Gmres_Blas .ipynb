{
  "nbformat": 4,
  "nbformat_minor": 0,
  "metadata": {
    "colab": {
      "name": "Gmres_Blas.ipynb",
      "provenance": [],
      "collapsed_sections": []
    },
    "kernelspec": {
      "display_name": "Python 3",
      "name": "python3"
    },
    "language_info": {
      "name": "python"
    }
  },
  "cells": [
    {
      "cell_type": "code",
      "metadata": {
        "id": "sYK3NoFCtttU"
      },
      "source": [
        "import numpy as np\n",
        "import numpy.linalg as lg \n",
        "from scipy.sparse.linalg import gmres\n",
        "from scipy.linalg import blas\n",
        "from time import time\n",
        "from tabulate import tabulate\n",
        "from  scipy.io import mmread\n",
        "A1=np.array(mmread('/content/bcsstk20.mtx.gz').todense())\n",
        "# A1.shape=(485,485) real symmetric positive definite\n",
        "A2=np.array(mmread('/content/mcca.mtx.gz').todense())\n",
        "# A2.shape=(180,180) real unsymmetric  \n",
        "A3=np.array(mmread('/content/bcsstm20.mtx.gz').todense())\n",
        "# A3.shape=(485,485) real symmetric positive definite\n",
        "A4=np.array(mmread('/content/bcsstm19.mtx.gz').todense())\n",
        "# A4.shape=(817,817) real symmetric positive definite\n",
        "\n",
        "C1=np.array(mmread('/content/bcsstk14.mtx.gz').todense())\n",
        "# C1.shape=(1806, 1806) real symmetric positive definite\n",
        "C2=np.array(mmread('/content/bcsstm24.mtx.gz').todense())\n",
        "# C2.shape=(3562,3562) real symmetric positive definite\n",
        "C3=np.array(mmread('/content/bcsstk16.mtx.gz').todense())\n",
        "\n",
        "B1=np.array(mmread('/content/bcsstm21.mtx.gz').todense())\n",
        "B2=np.array(mmread('/content/bcsstm22.mtx.gz').todense())\n",
        "B3=np.array(mmread('/content/bcsstk27.mtx.gz').todense())\n",
        "B4=np.array(mmread('/content/bcsstm26.mtx.gz').todense())\n",
        "\n",
        "\n",
        "D1=np.array(mmread('/content/impcol_e.mtx.gz').todense())\n",
        "D2=np.array(mmread('/content/impcol_a.mtx.gz').todense())\n",
        "D3=np.array(mmread('/content/impcol_b.mtx.gz').todense())\n",
        "D4=np.array(mmread('/content/impcol_c.mtx.gz').todense())\n",
        "D5=np.array(mmread('/content/impcol_d.mtx.gz').todense())\n",
        "\n",
        "\n",
        "E1=np.array(mmread('/content/west0067.mtx.gz').todense())\n",
        "E2=np.array(mmread('/content/jpwh_991.mtx.gz').todense())\n",
        "E3=np.array(mmread('/content/impcol_a.mtx.gz').todense())\n",
        "E4=np.array(mmread('/content/impcol_e.mtx.gz').todense())\n",
        "E5=np.array(mmread('/content/sherman4.mtx.gz').todense())\n",
        "E6=np.array(mmread('/content/orsreg_1.mtx.gz').todense())\n",
        "E7=np.array(mmread('/content/orsirr_1.mtx.gz').todense())\n",
        "E8=np.array(mmread('/content/add20.mtx.gz').todense())\n",
        "E9=np.array(mmread('/content/gre__185.mtx.gz').todense())\n",
        "E10=np.array(mmread('/content/fs_680_3.mtx.gz').todense())\n",
        "E11=np.array(mmread('/content/fs_680_2.mtx.gz').todense())\n",
        "E12=np.array(mmread('/content/west0381.mtx.gz').todense())\n",
        "E13=np.array(mmread('/content/e05r0200.mtx.gz').todense())\n",
        "\n",
        "\n"
      ],
      "execution_count": 2,
      "outputs": []
    },
    {
      "cell_type": "markdown",
      "metadata": {
        "id": "Az0XhiVpvgXw"
      },
      "source": [
        "# **The GMRES algorithm**"
      ]
    },
    {
      "cell_type": "code",
      "metadata": {
        "id": "SCRl6v_gvZZe"
      },
      "source": [
        "def gmres_iter(A, b,x0,maxiter,restart,tol):\n",
        "    num_iters = 0\n",
        "\n",
        "    def callback(xk):\n",
        "        nonlocal num_iters\n",
        "        num_iters += 1\n",
        "    return gmres(A, b, callback=callback,tol = tol,restart=restart,maxiter=maxiter),num_iters\n",
        "\n",
        "def The_GMRES_algorithm(A, b, x, m, tol, itermax):\n",
        "    r      = b-blas.dgemv(1.0, A, x)\n",
        "    beta   = blas.dnrm2(r)   \n",
        "    ris    = np.zeros(itermax)\n",
        "    V      = np.zeros((len(b), m+1))\n",
        "    V[:,0] = r/beta\n",
        "    H      = np.zeros((m+1,m))\n",
        "    k      = 0\n",
        "    while  k < itermax and beta>tol:\n",
        "        ris[k]   = beta\n",
        "        for j in range(m):\n",
        "            w = blas.dgemv(1.0, A, V[:, j])  \n",
        "            for i in range(j+1):            \n",
        "                H[i,j]= blas.ddot(w,V[:,i])    \n",
        "                w     = w - H[i,j]*V[ :,i]\n",
        "            H[j+1,j] = blas.dnrm2(w)   \n",
        "            if H[j+1,j]==0:\n",
        "                break\n",
        "            V[:, j+1] = w / H[j+1,j] \n",
        "        e1      = np.zeros(m+1)\n",
        "        e1[0]   = 1\n",
        "        Vm      = V[:,:m]                                         # Vm obtenue en supprimant la dernière colonne de V\n",
        "        Q, R    = lg.qr(H,mode='complete')                        # application du QR à la matrice H de taille (m+1)*m\n",
        "        Rm      = R[:m,:m] \n",
        "        C       =   np.transpose(Q)                               # matrice extraite en supprimant la dernière colonne de R\n",
        "        g       = blas.dgemv(beta, C, e1)                         # vecteur de taille m+1\n",
        "        gm      = g[:m]                                           # vecteur de taille m (en garde les m premières composantes)\n",
        "        ym      = lg.solve(Rm, gm)\n",
        "        x       = x + blas.dgemv(1.0,Vm ,ym )      \n",
        "        r       = b - blas.dgemv(1.0, A, x)\n",
        "        beta    = blas.dnrm2(r)   \n",
        "        V[:, 0] = r/beta\n",
        "        k       = k + 1\n",
        "    return x, k\n"
      ],
      "execution_count": 2,
      "outputs": []
    },
    {
      "cell_type": "markdown",
      "metadata": {
        "id": "1HkQZ3VuKOEb"
      },
      "source": [
        "# Test:"
      ]
    },
    {
      "cell_type": "code",
      "metadata": {
        "id": "zMTmjboMjP6X",
        "colab": {
          "base_uri": "https://localhost:8080/"
        },
        "outputId": "466ab9c1-0698-42c4-d4d4-e02dbe142327"
      },
      "source": [
        "N=100\n",
        "m=restart=[20,30,N]\n",
        "A = 2*np.eye(N) -np.diag(np.ones(N-1),-1)-np.diag(np.ones(N-1),1)\n",
        "b = np.ones(N)\n",
        "tol=1e-5\n",
        "itermax=1000\n",
        "print('codition umber :',lg.cond(A))"
      ],
      "execution_count": 3,
      "outputs": [
        {
          "output_type": "stream",
          "text": [
            "codition umber : 4133.642926801555\n"
          ],
          "name": "stdout"
        }
      ]
    },
    {
      "cell_type": "code",
      "metadata": {
        "colab": {
          "base_uri": "https://localhost:8080/"
        },
        "id": "am9vID4EjPtL",
        "outputId": "03ca1b46-711e-4cc2-e59f-24437376eff2"
      },
      "source": [
        "my_data = []\n",
        "for i in range(len(m)):\n",
        "  l = []\n",
        "  b=np.ones(N)\n",
        "  x = np.zeros(N)\n",
        "  sol  = lg.solve(A, b) \n",
        "  itersc = gmres_iter(A,b,x,itermax,restart[i],tol)[1] \n",
        "  y=gmres(A,b,x,tol,m[i],itermax)[0]\n",
        "  sc_err=np.linalg.norm(y-sol)\n",
        "  sc_res=lg.norm(np.dot(A,y)-b)\n",
        "  x,iterm= The_GMRES_algorithm(A, b, x, m[i], tol, itermax)\n",
        "  err=lg.norm(x-sol)\n",
        "  res=lg.norm(np.dot(A,x)-b)\n",
        "  l.append(m[i])\n",
        "  l.append(tol)\n",
        "  l.append(iterm)\n",
        "  l.append(res)\n",
        "  l.append(err)\n",
        "  l.append(itersc)\n",
        "  l.append(sc_res)\n",
        "  l.append(sc_err)\n",
        "  my_data.append(l)\n",
        "# create header\n",
        "head = ['m','tol','Our_nbr_iter','res','Our_err','scipy_nbr_iter','sc_res','scipy_err']\n",
        "  \n",
        "# display table\n",
        "print(tabulate(my_data, headers=head, tablefmt=\"grid\"))"
      ],
      "execution_count": 4,
      "outputs": [
        {
          "output_type": "stream",
          "text": [
            "+-----+-------+----------------+-------------+-------------+------------------+-------------+-------------+\n",
            "|   m |   tol |   Our_nbr_iter |         res |     Our_err |   scipy_nbr_iter |      sc_res |   scipy_err |\n",
            "+=====+=======+================+=============+=============+==================+=============+=============+\n",
            "|  20 | 1e-05 |             74 | 8.51018e-06 | 0.00822569  |             1000 | 9.98424e-05 | 0.0999248   |\n",
            "+-----+-------+----------------+-------------+-------------+------------------+-------------+-------------+\n",
            "|  30 | 1e-05 |             32 | 8.87753e-06 | 0.00846728  |              795 | 9.94065e-05 | 0.0971988   |\n",
            "+-----+-------+----------------+-------------+-------------+------------------+-------------+-------------+\n",
            "| 100 | 1e-05 |              1 | 3.22662e-12 | 8.67896e-10 |               50 | 5.54502e-12 | 1.25631e-10 |\n",
            "+-----+-------+----------------+-------------+-------------+------------------+-------------+-------------+\n"
          ],
          "name": "stdout"
        }
      ]
    },
    {
      "cell_type": "markdown",
      "metadata": {
        "id": "tWO0jo-BeCfW"
      },
      "source": [
        "# **Cluster 1:**"
      ]
    },
    {
      "cell_type": "code",
      "metadata": {
        "id": "q69stO8UcaDR"
      },
      "source": [
        "matricies=[B1,E2,B2,B3,B4,A3,A4,E5,E6,E7,E8]\n",
        "tol=1e-5\n",
        "itermax = 1000\n",
        "m=restart=30"
      ],
      "execution_count": 5,
      "outputs": []
    },
    {
      "cell_type": "code",
      "metadata": {
        "colab": {
          "base_uri": "https://localhost:8080/"
        },
        "id": "-8ydX4-pgFmO",
        "outputId": "c6cb7efa-0114-4b43-a418-6ee1f2f80725"
      },
      "source": [
        "my_data = []\n",
        "for i in range(len(matricies)):\n",
        "  l = []\n",
        "  n = len(matricies[i])\n",
        "  b=np.ones(n)\n",
        "  x = np.zeros(n)\n",
        "  sol  = lg.solve(matricies[i], b)\n",
        "  itersc = gmres_iter(matricies[i],b,x,itermax,restart,tol)[1] \n",
        "  y=gmres(matricies[i],b,x,tol,m,itermax)[0]\n",
        "  sc_err=np.linalg.norm(y-sol)\n",
        "  sc_res=lg.norm(np.dot(matricies[i],y)-b)\n",
        "  x,iterm= The_GMRES_algorithm(matricies[i], b, x, m, tol, itermax)\n",
        "  err=lg.norm(x-sol)\n",
        "  res=lg.norm(np.dot(matricies[i],x)-b)\n",
        "  l.append(matricies[i].shape)\n",
        "  l.append(lg.cond(matricies[i]))\n",
        "  l.append(tol)\n",
        "  l.append(iterm)\n",
        "  l.append(res)\n",
        "  l.append(err)\n",
        "  l.append(itersc)\n",
        "  l.append(sc_res)\n",
        "  l.append(sc_err)\n",
        "  my_data.append(l)\n",
        "# create header\n",
        "head = ['matricies','condition number','tol','Our_nbr_iter','res','Our_err','scipy_nbr_iter','sc_res','scipy_err']\n",
        "  \n",
        "# display table\n",
        "print(tabulate(my_data, headers=head, tablefmt=\"grid\")) "
      ],
      "execution_count": 6,
      "outputs": [
        {
          "output_type": "stream",
          "text": [
            "+--------------+--------------------+-------+----------------+-------------+--------------+------------------+-------------+--------------+\n",
            "| matricies    |   condition number |   tol |   Our_nbr_iter |         res |      Our_err |   scipy_nbr_iter |      sc_res |    scipy_err |\n",
            "+==============+====================+=======+================+=============+==============+==================+=============+==============+\n",
            "| (3600, 3600) |            23.7154 | 1e-05 |              1 | 2.28355e-13 |  1.38565e-08 |                3 | 2.87905e-13 |  2.5557e-08  |\n",
            "+--------------+--------------------+-------+----------------+-------------+--------------+------------------+-------------+--------------+\n",
            "| (991, 991)   |           142.045  | 1e-05 |              2 | 2.03457e-07 |  1.56593e-06 |               37 | 0.000230357 |  0.000314694 |\n",
            "+--------------+--------------------+-------+----------------+-------------+--------------+------------------+-------------+--------------+\n",
            "| (138, 138)   |           941.295  | 1e-05 |              4 | 4.76875e-09 |  2.10628e-05 |               79 | 7.88103e-05 |  5.21608     |\n",
            "+--------------+--------------------+-------+----------------+-------------+--------------+------------------+-------------+--------------+\n",
            "| (1224, 1224) |         24135.9    | 1e-05 |            120 | 9.20231e-06 |  5.47831e-08 |             1000 | 0.000349632 |  1.92445e-06 |\n",
            "+--------------+--------------------+-------+----------------+-------------+--------------+------------------+-------------+--------------+\n",
            "| (1922, 1922) |        261567      | 1e-05 |           1000 | 7.40179e-05 | 12.5946      |             1000 | 0.000438219 | 74.164       |\n",
            "+--------------+--------------------+-------+----------------+-------------+--------------+------------------+-------------+--------------+\n",
            "| (485, 485)   |        255381      | 1e-05 |             37 | 6.858e-06   |  3.22065e-08 |              900 | 0.000218707 |  8.71315e-07 |\n",
            "+--------------+--------------------+-------+----------------+-------------+--------------+------------------+-------------+--------------+\n",
            "| (817, 817)   |        233734      | 1e-05 |            100 | 8.2718e-06  |  2.27266e-08 |             1000 | 0.000282824 |  1.59018e-06 |\n",
            "+--------------+--------------------+-------+----------------+-------------+--------------+------------------+-------------+--------------+\n",
            "| (1104, 1104) |          2178.63   | 1e-05 |             16 | 6.26214e-06 |  0.000147726 |              333 | 0.000326244 |  0.00867892  |\n",
            "+--------------+--------------------+-------+----------------+-------------+--------------+------------------+-------------+--------------+\n",
            "| (2205, 2205) |          6745.27   | 1e-05 |             10 | 4.51629e-06 |  5.95446e-07 |              147 | 0.000466217 |  8.04305e-05 |\n",
            "+--------------+--------------------+-------+----------------+-------------+--------------+------------------+-------------+--------------+\n",
            "| (1030, 1030) |         77142.8    | 1e-05 |             95 | 9.66687e-06 |  1.49646e-06 |             1000 | 0.000320251 |  4.89649e-05 |\n",
            "+--------------+--------------------+-------+----------------+-------------+--------------+------------------+-------------+--------------+\n",
            "| (2395, 2395) |         12047.1    | 1e-05 |             37 | 7.33645e-06 |  0.110965    |              771 | 0.000481632 |  7.40985     |\n",
            "+--------------+--------------------+-------+----------------+-------------+--------------+------------------+-------------+--------------+\n"
          ],
          "name": "stdout"
        }
      ]
    },
    {
      "cell_type": "markdown",
      "metadata": {
        "id": "bT0n-kaIks3N"
      },
      "source": [
        "# **Cluster 2:**"
      ]
    },
    {
      "cell_type": "code",
      "metadata": {
        "id": "izdTulh2gHzw"
      },
      "source": [
        "matricies=[D1,D2,C3,C1,A1,C2]\n",
        "tol=1e-5\n",
        "itermax = 1000\n",
        "m=restart=30"
      ],
      "execution_count": 9,
      "outputs": []
    },
    {
      "cell_type": "code",
      "metadata": {
        "colab": {
          "base_uri": "https://localhost:8080/"
        },
        "id": "OjpYNs4GmEh7",
        "outputId": "ed90e6bf-e67f-418e-b53d-1b72df8ac389"
      },
      "source": [
        "my_data = []\n",
        "for i in range(len(matricies)):\n",
        "  l = []\n",
        "  n = len(matricies[i])\n",
        "  b=np.ones(n)\n",
        "  x = np.zeros(n)\n",
        "  sol  = lg.solve(matricies[i], b)\n",
        "  itersc = gmres_iter(matricies[i],b,x,itermax,restart,tol)[1] \n",
        "  y=gmres(matricies[i],b,x,tol,m,itermax)[0]\n",
        "  sc_err=np.linalg.norm(y-sol)\n",
        "  sc_res=lg.norm(np.dot(matricies[i],y)-b)\n",
        "  x,iterm= The_GMRES_algorithm(matricies[i], b, x, m, tol, itermax)\n",
        "  err=lg.norm(x-sol)\n",
        "  res=lg.norm(np.dot(matricies[i],x)-b)\n",
        "  l.append(matricies[i].shape)\n",
        "  l.append(lg.cond(matricies[i]))\n",
        "  l.append(tol)\n",
        "  l.append(iterm)\n",
        "  l.append(res)\n",
        "  l.append(err)\n",
        "  l.append(itersc)\n",
        "  l.append(sc_res)\n",
        "  l.append(sc_err)\n",
        "  my_data.append(l)\n",
        "# create header\n",
        "head = ['matricies','condition number','tol','Our_nbr_iter','res','Our_err','scipy_nbr_iter','sc_res','scipy_err']\n",
        "  \n",
        "# display table\n",
        "print(tabulate(my_data, headers=head, tablefmt=\"grid\")) "
      ],
      "execution_count": 10,
      "outputs": [
        {
          "output_type": "stream",
          "text": [
            "+--------------+--------------------+-------+----------------+----------+------------------+------------------+----------+------------------+\n",
            "| matricies    |   condition number |   tol |   Our_nbr_iter |      res |          Our_err |   scipy_nbr_iter |   sc_res |        scipy_err |\n",
            "+==============+====================+=======+================+==========+==================+==================+==========+==================+\n",
            "| (225, 225)   |        7.10097e+06 | 1e-05 |           1000 | 13.5361  |   1930.39        |             1000 | 13.5361  |   1930.39        |\n",
            "+--------------+--------------------+-------+----------------+----------+------------------+------------------+----------+------------------+\n",
            "| (207, 207)   |        1.35164e+08 | 1e-05 |           1000 | 13.4093  | 123241           |             1000 | 13.4093  | 123241           |\n",
            "+--------------+--------------------+-------+----------------+----------+------------------+------------------+----------+------------------+\n",
            "| (4884, 4884) |        4.94318e+09 | 1e-05 |           1000 |  8.59811 |      8.59811     |             1000 |  8.59811 |      8.59811     |\n",
            "+--------------+--------------------+-------+----------------+----------+------------------+------------------+----------+------------------+\n",
            "| (1806, 1806) |        1.19232e+10 | 1e-05 |           1000 | 10.9899  |      6.32341     |             1000 | 10.9899  |      6.32341     |\n",
            "+--------------+--------------------+-------+----------------+----------+------------------+------------------+----------+------------------+\n",
            "| (485, 485)   |        3.89291e+12 | 1e-05 |           1000 | 17.4143  |      0.00252678  |             1000 | 17.4128  |      0.00252678  |\n",
            "+--------------+--------------------+-------+----------------+----------+------------------+------------------+----------+------------------+\n",
            "| (3562, 3562) |        1.80764e+13 | 1e-05 |           1000 | 14.0337  |      1.03243e+08 |             1000 | 14.0518  |      1.03243e+08 |\n",
            "+--------------+--------------------+-------+----------------+----------+------------------+------------------+----------+------------------+\n"
          ],
          "name": "stdout"
        }
      ]
    },
    {
      "cell_type": "markdown",
      "metadata": {
        "id": "H3akHCv8IRqE"
      },
      "source": [
        "# **Cluster 3:**"
      ]
    },
    {
      "cell_type": "code",
      "metadata": {
        "id": "FRoXJ2mfLa7i"
      },
      "source": [
        "matricies=[E2,E5,E6,E7,E8]\n",
        "tol=1e-5\n",
        "itermax = 1000\n",
        "m=restart=30"
      ],
      "execution_count": 11,
      "outputs": []
    },
    {
      "cell_type": "code",
      "metadata": {
        "colab": {
          "base_uri": "https://localhost:8080/"
        },
        "id": "k4e--0l-LiOE",
        "outputId": "dc88e17d-26c7-44f2-9a4d-4440460a08c7"
      },
      "source": [
        "my_data = []\n",
        "for i in range(len(matricies)):\n",
        "  l = []\n",
        "  n = len(matricies[i])\n",
        "  b=np.ones(n)\n",
        "  x = np.zeros(n)\n",
        "  sol  = lg.solve(matricies[i], b)\n",
        "  itersc = gmres_iter(matricies[i],b,x,itermax,restart,tol)[1] \n",
        "  y=gmres(matricies[i],b,x,tol,m,itermax)[0]\n",
        "  sc_err=np.linalg.norm(y-sol)\n",
        "  sc_res=lg.norm(np.dot(matricies[i],y)-b)\n",
        "  x,iterm= The_GMRES_algorithm(matricies[i], b, x, m, tol, itermax)\n",
        "  err=lg.norm(x-sol)\n",
        "  res=lg.norm(np.dot(matricies[i],x)-b)\n",
        "  l.append(matricies[i].shape)\n",
        "  l.append(lg.cond(matricies[i]))\n",
        "  l.append(tol)\n",
        "  l.append(iterm)\n",
        "  l.append(res)\n",
        "  l.append(err)\n",
        "  l.append(itersc)\n",
        "  l.append(sc_res)\n",
        "  l.append(sc_err)\n",
        "  my_data.append(l)\n",
        "# create header\n",
        "head = ['matricies','condition number','tol','Our_nbr_iter','res','Our_err','scipy_nbr_iter','sc_res','scipy_err']\n",
        "  \n",
        "# display table\n",
        "print(tabulate(my_data, headers=head, tablefmt=\"grid\")) "
      ],
      "execution_count": 12,
      "outputs": [
        {
          "output_type": "stream",
          "text": [
            "+--------------+--------------------+-------+----------------+-------------+-------------+------------------+-------------+-------------+\n",
            "| matricies    |   condition number |   tol |   Our_nbr_iter |         res |     Our_err |   scipy_nbr_iter |      sc_res |   scipy_err |\n",
            "+==============+====================+=======+================+=============+=============+==================+=============+=============+\n",
            "| (991, 991)   |            142.045 | 1e-05 |              2 | 2.03457e-07 | 1.56593e-06 |               37 | 0.000230357 | 0.000314694 |\n",
            "+--------------+--------------------+-------+----------------+-------------+-------------+------------------+-------------+-------------+\n",
            "| (1104, 1104) |           2178.63  | 1e-05 |             16 | 6.26214e-06 | 0.000147726 |              333 | 0.000326244 | 0.00867892  |\n",
            "+--------------+--------------------+-------+----------------+-------------+-------------+------------------+-------------+-------------+\n",
            "| (2205, 2205) |           6745.27  | 1e-05 |             10 | 4.51629e-06 | 5.95446e-07 |              147 | 0.000466217 | 8.04305e-05 |\n",
            "+--------------+--------------------+-------+----------------+-------------+-------------+------------------+-------------+-------------+\n",
            "| (1030, 1030) |          77142.8   | 1e-05 |             95 | 9.66687e-06 | 1.49646e-06 |             1000 | 0.000320251 | 4.89649e-05 |\n",
            "+--------------+--------------------+-------+----------------+-------------+-------------+------------------+-------------+-------------+\n",
            "| (2395, 2395) |          12047.1   | 1e-05 |             37 | 7.33645e-06 | 0.110965    |              771 | 0.000481632 | 7.40985     |\n",
            "+--------------+--------------------+-------+----------------+-------------+-------------+------------------+-------------+-------------+\n"
          ],
          "name": "stdout"
        }
      ]
    },
    {
      "cell_type": "markdown",
      "metadata": {
        "id": "lHhSDaoywDDE"
      },
      "source": [
        "**Size of Krylov subspace: 20**\n"
      ]
    },
    {
      "cell_type": "code",
      "metadata": {
        "id": "IeDq2xR9MVwD"
      },
      "source": [
        "matricies=[E2,E5,E6,E7,E8]\n",
        "tol=1e-5\n",
        "itermax = 1000\n",
        "m=restart=20"
      ],
      "execution_count": 13,
      "outputs": []
    },
    {
      "cell_type": "code",
      "metadata": {
        "colab": {
          "base_uri": "https://localhost:8080/"
        },
        "id": "uVtc2iI_ROsl",
        "outputId": "d50af42b-d56b-4960-d9d3-17bc3ac682b4"
      },
      "source": [
        "my_data = []\n",
        "for i in range(len(matricies)):\n",
        "  l = []\n",
        "  n = len(matricies[i])\n",
        "  b=np.ones(n)\n",
        "  x = np.zeros(n)\n",
        "  sol  = lg.solve(matricies[i], b)\n",
        "  itersc = gmres_iter(matricies[i],b,x,itermax,restart,tol)[1] \n",
        "  y=gmres(matricies[i],b,x,tol,m,itermax)[0]\n",
        "  sc_err=np.linalg.norm(y-sol)\n",
        "  sc_res=lg.norm(np.dot(matricies[i],y)-b)\n",
        "  x,iterm= The_GMRES_algorithm(matricies[i], b, x, m, tol, itermax)\n",
        "  err=lg.norm(x-sol)\n",
        "  res=lg.norm(np.dot(matricies[i],x)-b)\n",
        "  l.append(matricies[i].shape)\n",
        "  l.append(lg.cond(matricies[i]))\n",
        "  l.append(tol)\n",
        "  l.append(iterm)\n",
        "  l.append(res)\n",
        "  l.append(err)\n",
        "  l.append(itersc)\n",
        "  l.append(sc_res)\n",
        "  l.append(sc_err)\n",
        "  my_data.append(l)\n",
        "# create header\n",
        "head = ['matricies','condition number','tol','Our_nbr_iter','res','Our_err','scipy_nbr_iter','sc_res','scipy_err']\n",
        "  \n",
        "# display table\n",
        "print(tabulate(my_data, headers=head, tablefmt=\"grid\")) "
      ],
      "execution_count": 14,
      "outputs": [
        {
          "output_type": "stream",
          "text": [
            "+--------------+--------------------+-------+----------------+-------------+-------------+------------------+-------------+-------------+\n",
            "| matricies    |   condition number |   tol |   Our_nbr_iter |         res |     Our_err |   scipy_nbr_iter |      sc_res |   scipy_err |\n",
            "+==============+====================+=======+================+=============+=============+==================+=============+=============+\n",
            "| (991, 991)   |            142.045 | 1e-05 |              3 | 3.19246e-06 | 3.98916e-06 |               46 | 0.000244903 | 0.00126877  |\n",
            "+--------------+--------------------+-------+----------------+-------------+-------------+------------------+-------------+-------------+\n",
            "| (1104, 1104) |           2178.63  | 1e-05 |             31 | 8.03502e-06 | 0.000251621 |              478 | 0.000330533 | 0.00897608  |\n",
            "+--------------+--------------------+-------+----------------+-------------+-------------+------------------+-------------+-------------+\n",
            "| (2205, 2205) |           6745.27  | 1e-05 |             20 | 7.58714e-06 | 1.27249e-06 |              189 | 0.000445333 | 8.44659e-05 |\n",
            "+--------------+--------------------+-------+----------------+-------------+-------------+------------------+-------------+-------------+\n",
            "| (1030, 1030) |          77142.8   | 1e-05 |            407 | 9.91023e-06 | 1.5388e-06  |             1000 | 0.000320602 | 4.94893e-05 |\n",
            "+--------------+--------------------+-------+----------------+-------------+-------------+------------------+-------------+-------------+\n",
            "| (2395, 2395) |          12047.1   | 1e-05 |            101 | 9.74426e-06 | 0.154475    |             1000 | 0.000488514 | 7.78951     |\n",
            "+--------------+--------------------+-------+----------------+-------------+-------------+------------------+-------------+-------------+\n"
          ],
          "name": "stdout"
        }
      ]
    }
  ]
}