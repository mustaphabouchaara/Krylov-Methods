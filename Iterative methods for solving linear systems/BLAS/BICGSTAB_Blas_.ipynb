{
  "nbformat": 4,
  "nbformat_minor": 0,
  "metadata": {
    "colab": {
      "name": "BICGSTAB_Blas .ipynb",
      "provenance": [],
      "collapsed_sections": []
    },
    "kernelspec": {
      "display_name": "Python 3",
      "name": "python3"
    },
    "language_info": {
      "name": "python"
    }
  },
  "cells": [
    {
      "cell_type": "code",
      "metadata": {
        "id": "fnlNPW3fd_Z8"
      },
      "source": [
        "from scipy.sparse.linalg import bicgstab\n",
        "from scipy.linalg import blas\n",
        "import numpy as np\n",
        "from numpy import linalg as lg\n",
        "from time import time\n",
        "from scipy.io import mmread\n",
        "from tabulate import tabulate\n",
        "from scipy.sparse import coo_matrix\n",
        "\n",
        "\n",
        "A1=np.array(mmread('/content/bcsstk01.mtx.gz').todense())\n",
        "#A1.shape=(48,46) Non symmetrique\n",
        "A2=np.array(mmread('/content/impcol_c.mtx.gz').todense())\n",
        "#A2.shape=(137,137) Non symmetrique\n",
        "A3=np.array(mmread('/content/impcol_a.mtx.gz').todense())\n",
        "#A3.shape=(207,207) Non symmetrique\n",
        "A4=np.array(mmread('/content/mcca.mtx.gz').todense())\n",
        "#A4.shape=(180, 180) Non symmetrique\n",
        "A5=np.array(mmread('/content/bcsstm24.mtx.gz').todense())\n",
        "#A5.shape=(3562,3562) Symmetrique definie positive\n",
        "A6=np.array(mmread('/content/bcsstm19.mtx.gz').todense())\n",
        "#A6.shape=(817,817) Symmetrique definie positive\n",
        "\n",
        "B1=np.array(mmread('/content/bcsstk14.mtx.gz').todense())             \n",
        "# B1.shape=(1806, 1806) real symmetric positive definite\n",
        "B3=np.array(mmread('/content/bcsstm20.mtx.gz').todense())\n",
        "# B3.shape=(485,485) real symmetric positive definite\n",
        "B5=np.array(mmread('/content/bcsstm21.mtx.gz').todense())\n",
        "B6=np.array(mmread('/content/bcsstk16.mtx.gz').todense())\n",
        "B7=np.array(mmread('/content/bcsstk17.mtx.gz').todense())\n",
        "B8=np.array(mmread('/content/bcsstk18.mtx.gz').todense())\n",
        "B9=np.array(mmread('/content/bcsstm22.mtx.gz').todense())\n",
        "B10=np.array(mmread('/content/bcsstk27.mtx.gz').todense())\n",
        "B11=np.array(mmread('/content/bcsstm26.mtx.gz').todense())\n",
        "\n",
        "C1=np.array(mmread('/content/west0067.mtx.gz').todense())              \n",
        "C2=np.array(mmread('/content/jpwh_991.mtx.gz').todense())\n",
        "C3=np.array(mmread('/content/impcol_a.mtx.gz').todense())\n",
        "C4=np.array(mmread('/content/impcol_e.mtx.gz').todense())\n",
        "C5=np.array(mmread('/content/sherman4.mtx.gz').todense())\n",
        "C6=np.array(mmread('/content/orsreg_1.mtx.gz').todense())\n",
        "C7=np.array(mmread('/content/orsirr_1.mtx.gz').todense())\n",
        "C8=np.array(mmread('/content/add20.mtx.gz').todense())\n",
        "C9=np.array(mmread('/content/gre__185.mtx.gz').todense())\n",
        "C10=np.array(mmread('/content/fs_680_3.mtx.gz').todense())\n",
        "C11=np.array(mmread('/content/fs_680_2.mtx.gz').todense())\n",
        "C12=np.array(mmread('/content/west0381.mtx.gz').todense())\n",
        "C13=np.array(mmread('/content/e05r0200.mtx.gz').todense())"
      ],
      "execution_count": null,
      "outputs": []
    },
    {
      "cell_type": "markdown",
      "metadata": {
        "id": "AcoYHBLmlqJ4"
      },
      "source": [
        "#**BICGSTAB  Method**\n",
        "\n",
        "\n",
        "\n"
      ]
    },
    {
      "cell_type": "code",
      "metadata": {
        "id": "cDFG-3M08Q--"
      },
      "source": [
        "\n",
        "def BICGSTAB(A,b,x0,tol,maxiter):\n",
        "  r0 = b- blas.dgemv(1.0, A, x0)\n",
        "  rt = r0/( blas.dnrm2(r0)**2)    \n",
        "  \n",
        "  p0 = r0\n",
        "  for i in range(maxiter):\n",
        "    alpha = blas.ddot(r0,rt)/ blas.ddot(blas.dgemv(1.0, A, p0), rt)       \n",
        "    s0    = r0-blas.dgemv(alpha, A, p0)    \n",
        "    w0    = blas.ddot(blas.dgemv(1.0, A, s0), s0) /blas.ddot(blas.dgemv(1.0, A, s0), blas.dgemv(1.0, A, s0) )              \n",
        "    x0    = x0 + alpha*p0 + blas.ddot(w0,s0)    \n",
        "    r1    = s0 - blas.ddot(w0, blas.dgemv(1.0, A, s0))  \n",
        "    beta  = (alpha*blas.ddot(r1,rt)/w0*blas.ddot(r0,rt))   \n",
        "    p0    = r1 + beta*(p0-blas.ddot(w0, blas.dgemv(1.0, A, p0)))      \n",
        "    r0    = r1\n",
        "    if blas.dnrm2(r1)<tol:    \n",
        "      break\n",
        "  return x0,i+1\n",
        "\n",
        "def bicgstab_iter(A, b,x0,tol,maxiter):\n",
        "    num_iters = 0\n",
        "\n",
        "    def callback(xk):\n",
        "        nonlocal num_iters\n",
        "        num_iters += 1\n",
        "    return bicgstab(A, b, callback=callback,tol = tol,maxiter=maxiter,x0=x0)[0],num_iters"
      ],
      "execution_count": null,
      "outputs": []
    },
    {
      "cell_type": "markdown",
      "metadata": {
        "id": "2_SRy1f1gtMg"
      },
      "source": [
        "# **Cluster 1:**"
      ]
    },
    {
      "cell_type": "code",
      "metadata": {
        "id": "d1b_TkrQjIAQ"
      },
      "source": [
        "matricies=[B5,C1,B9,C2]\n",
        "tol=1e-5\n",
        "itermax = 10000"
      ],
      "execution_count": null,
      "outputs": []
    },
    {
      "cell_type": "code",
      "metadata": {
        "colab": {
          "base_uri": "https://localhost:8080/"
        },
        "id": "I_TRFGayjIEa",
        "outputId": "2c83a67d-0ac7-4698-eb68-45f02c257812"
      },
      "source": [
        "my_data = []\n",
        "for i in range(len(matricies)):\n",
        "  l = []\n",
        "  n = len(matricies[i])\n",
        "  b=np.ones(n)\n",
        "  x = np.zeros(n)\n",
        "  sol  = lg.solve(matricies[i], b)\n",
        "  itersc = bicgstab_iter(matricies[i],b,x,tol,itermax)[1] \n",
        "  y=bicgstab(matricies[i],b,x,tol,itermax)[0] \n",
        "  sc_err=np.linalg.norm(y-sol)\n",
        "  sc_res=lg.norm(np.dot(matricies[i],y)-b)\n",
        "  x,iterm= BICGSTAB(matricies[i], b, x, tol,itermax)  \n",
        "  err=lg.norm(x-sol)\n",
        "  res=lg.norm(np.dot(matricies[i],x)-b)\n",
        "  l.append(matricies[i].shape)\n",
        "  l.append(lg.cond(matricies[i]))\n",
        "  l.append(tol)\n",
        "  l.append(iterm)\n",
        "  l.append(res)\n",
        "  l.append(err)\n",
        "  l.append(itersc)\n",
        "  l.append(sc_res)\n",
        "  l.append(sc_err)\n",
        "  my_data.append(l)\n",
        "# create header\n",
        "head = ['matricies','conditio number','tol','Our_nbr_iter','res','Our_err','scipy_nbr_iter','sc_res','scipy_err']\n",
        "  \n",
        "# display table\n",
        "print(tabulate(my_data, headers=head, tablefmt=\"grid\")) "
      ],
      "execution_count": null,
      "outputs": [
        {
          "output_type": "stream",
          "text": [
            "+--------------+-------------------+-------+----------------+----------------+------------------+------------------+---------------+---------------+\n",
            "| matricies    |   conditio number |   tol |   Our_nbr_iter |            res |          Our_err |   scipy_nbr_iter |        sc_res |     scipy_err |\n",
            "+==============+===================+=======+================+================+==================+==================+===============+===============+\n",
            "| (3600, 3600) |           23.7154 | 1e-05 |             53 |   22.5345      |      3.19104e+06 |                3 |   7.22899e-12 |   8.01177e-07 |\n",
            "+--------------+-------------------+-------+----------------+----------------+------------------+------------------+---------------+---------------+\n",
            "| (67, 67)     |          130.217  | 1e-05 |          10000 |    4.60428e+25 |      2.09865e+25 |               83 | 156.315       | 131.789       |\n",
            "+--------------+-------------------+-------+----------------+----------------+------------------+------------------+---------------+---------------+\n",
            "| (138, 138)   |          941.295  | 1e-05 |          10000 |  147.281       | 149507           |               41 |   3.76963e-05 |   0.6633      |\n",
            "+--------------+-------------------+-------+----------------+----------------+------------------+------------------+---------------+---------------+\n",
            "| (991, 991)   |          142.045  | 1e-05 |          10000 | 1604.4         |   8068.19        |               21 |   0.000257835 |   0.000249492 |\n",
            "+--------------+-------------------+-------+----------------+----------------+------------------+------------------+---------------+---------------+\n"
          ],
          "name": "stdout"
        }
      ]
    },
    {
      "cell_type": "markdown",
      "metadata": {
        "id": "zqiZjxp2ly4t"
      },
      "source": [
        "# **Cluster 2:**"
      ]
    },
    {
      "cell_type": "code",
      "metadata": {
        "id": "N9S-7dqqjIz_"
      },
      "source": [
        "matricies=[C7,B10,A6,B11,C8,C9]\n",
        "tol=1e-5\n",
        "itermax = 10000"
      ],
      "execution_count": null,
      "outputs": []
    },
    {
      "cell_type": "code",
      "metadata": {
        "id": "8t2jAMYdlYNr"
      },
      "source": [
        "my_data = []\n",
        "for i in range(len(matricies)):\n",
        "  l = []\n",
        "  n = len(matricies[i])\n",
        "  b=np.ones(n)\n",
        "  x = np.zeros(n)\n",
        "  sol  = lg.solve(matricies[i], b)\n",
        "  itersc = bicgstab_iter(matricies[i],b,x,tol,itermax)[1] \n",
        "  y=bicgstab(matricies[i],b,x,tol,itermax)[0] \n",
        "  sc_err=np.linalg.norm(y-sol)\n",
        "  sc_res=lg.norm(np.dot(matricies[i],y)-b)\n",
        "  x,iterm= BICGSTAB(matricies[i], b, x, tol,itermax)  \n",
        "  err=lg.norm(x-sol)\n",
        "  res=lg.norm(np.dot(matricies[i],x)-b)\n",
        "  l.append(matricies[i].shape)\n",
        "  l.append(lg.cond(matricies[i]))\n",
        "  l.append(tol)\n",
        "  l.append(iterm)\n",
        "  l.append(res)\n",
        "  l.append(err)\n",
        "  l.append(itersc)\n",
        "  l.append(sc_res)\n",
        "  l.append(sc_err)\n",
        "  my_data.append(l)\n",
        "# create header\n",
        "head = ['matricies','conditio number','tol','Our_nbr_iter','res','Our_err','scipy_nbr_iter','sc_res','scipy_err']\n",
        "  \n",
        "# display table\n",
        "print(tabulate(my_data, headers=head, tablefmt=\"grid\")) "
      ],
      "execution_count": null,
      "outputs": []
    },
    {
      "cell_type": "markdown",
      "metadata": {
        "id": "_W2FiP_Mlt9a"
      },
      "source": [
        "# **Cluster 3:**"
      ]
    },
    {
      "cell_type": "code",
      "metadata": {
        "id": "gZiGqYfNld8c"
      },
      "source": [
        "matricies=[B5,C1,B9,A6,B3,B6,A1,B10]\n",
        "tol=1e-5\n",
        "itermax = 10000"
      ],
      "execution_count": null,
      "outputs": []
    },
    {
      "cell_type": "code",
      "metadata": {
        "colab": {
          "base_uri": "https://localhost:8080/"
        },
        "id": "sgJJG2SGl8l-",
        "outputId": "14ca3c12-d199-4bdc-ca94-5bd773927406"
      },
      "source": [
        "my_data = []\n",
        "for i in range(len(matricies)):\n",
        "  l = []\n",
        "  n = len(matricies[i])\n",
        "  b=np.ones(n)\n",
        "  x = np.zeros(n)\n",
        "  sol  = lg.solve(matricies[i], b)\n",
        "  itersc = bicgstab_iter(matricies[i],b,x,tol,itermax)[1] \n",
        "  y=bicgstab(matricies[i],b,x,tol,itermax)[0] \n",
        "  sc_err=np.linalg.norm(y-sol)\n",
        "  sc_res=lg.norm(np.dot(matricies[i],y)-b)\n",
        "  x,iterm= BICGSTAB(matricies[i], b, x, tol,itermax)  \n",
        "  err=lg.norm(x-sol)\n",
        "  res=lg.norm(np.dot(matricies[i],x)-b)\n",
        "  l.append(matricies[i].shape)\n",
        "  l.append(lg.cond(matricies[i]))\n",
        "  l.append(tol)\n",
        "  l.append(iterm)\n",
        "  l.append(res)\n",
        "  l.append(err)\n",
        "  l.append(itersc)\n",
        "  l.append(sc_res)\n",
        "  l.append(sc_err)\n",
        "  my_data.append(l)\n",
        "# create header\n",
        "head = ['matricies','conditio number','tol','Our_nbr_iter','res','Our_err','scipy_nbr_iter','sc_res','scipy_err']\n",
        "  \n",
        "# display table\n",
        "print(tabulate(my_data, headers=head, tablefmt=\"grid\")) "
      ],
      "execution_count": null,
      "outputs": [
        {
          "output_type": "stream",
          "text": [
            "+--------------+-------------------+-------+----------------+---------------+---------------+------------------+---------------+---------------+\n",
            "| matricies    |   conditio number |   tol |   Our_nbr_iter |           res |       Our_err |   scipy_nbr_iter |        sc_res |     scipy_err |\n",
            "+==============+===================+=======+================+===============+===============+==================+===============+===============+\n",
            "| (3600, 3600) |      23.7154      | 1e-05 |              3 |   1.16502e-11 |   1.80119e-06 |                3 |   7.22899e-12 |   8.01177e-07 |\n",
            "+--------------+-------------------+-------+----------------+---------------+---------------+------------------+---------------+---------------+\n",
            "| (67, 67)     |     130.217       | 1e-05 |          10000 | 183.455       | 151.535       |               83 | 156.315       | 131.789       |\n",
            "+--------------+-------------------+-------+----------------+---------------+---------------+------------------+---------------+---------------+\n",
            "| (138, 138)   |     941.295       | 1e-05 |             46 |   7.43211e-06 |   0.0438537   |               41 |   3.76963e-05 |   0.6633      |\n",
            "+--------------+-------------------+-------+----------------+---------------+---------------+------------------+---------------+---------------+\n",
            "| (817, 817)   |  233734           | 1e-05 |           1199 |   6.58677e-06 |   3.43375e-08 |              973 |   0.000263181 |   9.48321e-07 |\n",
            "+--------------+-------------------+-------+----------------+---------------+---------------+------------------+---------------+---------------+\n",
            "| (485, 485)   |  255381           | 1e-05 |            566 |   8.12146e-06 |   2.40342e-08 |              408 |   0.000200955 |   4.73268e-07 |\n",
            "+--------------+-------------------+-------+----------------+---------------+---------------+------------------+---------------+---------------+\n",
            "| (4884, 4884) |       4.94318e+09 | 1e-05 |            407 |   7.53374e-06 |   9.88977e-09 |              359 |   0.000695086 |   5.20097e-06 |\n",
            "+--------------+-------------------+-------+----------------+---------------+---------------+------------------+---------------+---------------+\n",
            "| (48, 48)     |  882336           | 1e-05 |            504 |   2.36596e-06 |   1.25274e-10 |              454 |   2.05006e-05 |   2.10525e-09 |\n",
            "+--------------+-------------------+-------+----------------+---------------+---------------+------------------+---------------+---------------+\n",
            "| (1224, 1224) |   24135.9         | 1e-05 |            704 |   8.53818e-06 |   5.66184e-08 |              498 |   0.00033386  |   1.77149e-06 |\n",
            "+--------------+-------------------+-------+----------------+---------------+---------------+------------------+---------------+---------------+\n"
          ],
          "name": "stdout"
        }
      ]
    },
    {
      "cell_type": "code",
      "metadata": {
        "id": "xuYPztdsmAUA"
      },
      "source": [
        "matricies=[B1,B11]\n",
        "tol=1e-5\n",
        "itermax = 100000"
      ],
      "execution_count": null,
      "outputs": []
    },
    {
      "cell_type": "code",
      "metadata": {
        "colab": {
          "base_uri": "https://localhost:8080/"
        },
        "id": "3R9-ddqYnLbE",
        "outputId": "5e13abae-2e29-4991-d52f-d716e0380c56"
      },
      "source": [
        "my_data = []\n",
        "for i in range(len(matricies)):\n",
        "  l = []\n",
        "  n = len(matricies[i])\n",
        "  b=np.ones(n)\n",
        "  x = np.zeros(n)\n",
        "  sol  = lg.solve(matricies[i], b)\n",
        "  itersc = bicgstab_iter(matricies[i],b,x,tol,itermax)[1] \n",
        "  y=bicgstab(matricies[i],b,x,tol,itermax)[0] \n",
        "  sc_err=np.linalg.norm(y-sol)\n",
        "  sc_res=lg.norm(np.dot(matricies[i],y)-b)\n",
        "  x,iterm= BICGSTAB(matricies[i], b, x, tol,itermax)  \n",
        "  err=lg.norm(x-sol)\n",
        "  res=lg.norm(np.dot(matricies[i],x)-b)\n",
        "  l.append(matricies[i].shape)\n",
        "  l.append(lg.cond(matricies[i]))\n",
        "  l.append(tol)\n",
        "  l.append(iterm)\n",
        "  l.append(res)\n",
        "  l.append(err)\n",
        "  l.append(itersc)\n",
        "  l.append(sc_res)\n",
        "  l.append(sc_err)\n",
        "  my_data.append(l)\n",
        "# create header\n",
        "head = ['matricies','conditio number','tol','Our_nbr_iter','res','Our_err','scipy_nbr_iter','sc_res','scipy_err']\n",
        "  \n",
        "# display table\n",
        "print(tabulate(my_data, headers=head, tablefmt=\"grid\")) "
      ],
      "execution_count": null,
      "outputs": [
        {
          "output_type": "stream",
          "text": [
            "+--------------+-------------------+-------+----------------+-------------+-------------+------------------+-------------+--------------+\n",
            "| matricies    |   conditio number |   tol |   Our_nbr_iter |         res |     Our_err |   scipy_nbr_iter |      sc_res |    scipy_err |\n",
            "+==============+===================+=======+================+=============+=============+==================+=============+==============+\n",
            "| (1806, 1806) |       1.19232e+10 | 1e-05 |          25383 | 8.84632e-06 | 7.11754e-08 |            23287 | 0.000214067 |  1.66411e-07 |\n",
            "+--------------+-------------------+-------+----------------+-------------+-------------+------------------+-------------+--------------+\n",
            "| (1922, 1922) |  261567           | 1e-05 |           2622 | 3.17474e-06 | 0.427835    |             1645 | 0.00021609  | 31.4052      |\n",
            "+--------------+-------------------+-------+----------------+-------------+-------------+------------------+-------------+--------------+\n"
          ],
          "name": "stdout"
        }
      ]
    }
  ]
}